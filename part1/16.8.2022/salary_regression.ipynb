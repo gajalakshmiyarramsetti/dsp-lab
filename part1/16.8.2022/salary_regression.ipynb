{
 "cells": [
  {
   "cell_type": "code",
   "execution_count": 4,
   "id": "019d1928",
   "metadata": {},
   "outputs": [],
   "source": [
    "import pandas as pd\n",
    "import numpy as np\n",
    "import matplotlib.pyplot as plt\n",
    "from sklearn.linear_model import LinearRegression\n",
    "data=pd.read_csv(\"MBA Salary.csv\")"
   ]
  },
  {
   "cell_type": "code",
   "execution_count": 3,
   "id": "4f024d4f",
   "metadata": {},
   "outputs": [
    {
     "name": "stdout",
     "output_type": "stream",
     "text": [
      "    S. No.  Percentage in Grade 10  Salary\n",
      "0        1                   62.00  270000\n",
      "1        2                   76.33  200000\n",
      "2        3                   72.00  240000\n",
      "3        4                   60.00  250000\n",
      "4        5                   61.00  180000\n",
      "5        6                   55.00  300000\n",
      "6        7                   70.00  260000\n",
      "7        8                   68.00  235000\n",
      "8        9                   82.80  425000\n",
      "9       10                   59.00  240000\n",
      "10      11                   58.00  250000\n",
      "11      12                   60.00  180000\n",
      "12      13                   66.00  428000\n",
      "13      14                   83.00  450000\n",
      "14      15                   68.00  300000\n",
      "15      16                   37.33  240000\n",
      "16      17                   79.00  252000\n",
      "17      18                   68.40  280000\n",
      "18      19                   70.00  231000\n",
      "19      20                   59.00  224000\n",
      "20      21                   63.00  120000\n",
      "21      22                   50.00  260000\n",
      "22      23                   69.00  300000\n",
      "23      24                   52.00  120000\n",
      "24      25                   49.00  120000\n",
      "25      26                   64.60  250000\n",
      "26      27                   50.00  180000\n",
      "27      28                   74.00  218000\n",
      "28      29                   58.00  360000\n",
      "29      30                   67.00  150000\n",
      "30      31                   75.00  250000\n",
      "31      32                   60.00  200000\n",
      "32      33                   55.00  300000\n",
      "33      34                   78.00  330000\n",
      "34      35                   50.08  265000\n",
      "35      36                   56.00  340000\n",
      "36      37                   68.00  177600\n",
      "37      38                   52.00  236000\n",
      "38      39                   54.00  265000\n",
      "39      40                   52.00  200000\n",
      "40      41                   76.00  393000\n",
      "41      42                   64.80  360000\n",
      "42      43                   74.40  300000\n",
      "43      44                   74.50  250000\n",
      "44      45                   73.50  360000\n",
      "45      46                   57.58  180000\n",
      "46      47                   68.00  180000\n",
      "47      48                   69.00  270000\n",
      "48      49                   66.00  240000\n",
      "49      50                   60.80  300000\n"
     ]
    }
   ],
   "source": [
    "print(data)"
   ]
  },
  {
   "cell_type": "code",
   "execution_count": 6,
   "id": "23ec3018",
   "metadata": {},
   "outputs": [
    {
     "data": {
      "text/plain": [
       "<matplotlib.collections.PathCollection at 0x28479dd6c70>"
      ]
     },
     "execution_count": 6,
     "metadata": {},
     "output_type": "execute_result"
    },
    {
     "data": {
      "image/png": "[encoded data removed]",
      "text/plain": [
       "<Figure size 432x288 with 1 Axes>"
      ]
     },
     "metadata": {
      "needs_background": "light"
     },
     "output_type": "display_data"
    }
   ],
   "source": [
    "plt.scatter(data[\"Percentage in Grade 10\"],data[\"Salary\"],c=\"black\")"
   ]
  },
  {
   "cell_type": "code",
   "execution_count": 7,
   "id": "b034dd4b",
   "metadata": {},
   "outputs": [
    {
     "data": {
      "image/png": "[encoded data removed]",
      "text/plain": [
       "<Figure size 432x288 with 1 Axes>"
      ]
     },
     "metadata": {
      "needs_background": "light"
     },
     "output_type": "display_data"
    }
   ],
   "source": [
    "plt.xlabel(\"Percentage in Grade 10\")\n",
    "plt.ylabel(\"salary\")\n",
    "plt.show()"
   ]
  },
  {
   "cell_type": "code",
   "execution_count": 8,
   "id": "92f07b51",
   "metadata": {},
   "outputs": [],
   "source": [
    "x=data[\"Percentage in Grade 10\"].values.reshape(-1,1)\n",
    "y=data[\"Salary\"].values"
   ]
  },
  {
   "cell_type": "code",
   "execution_count": 9,
   "id": "ecad9488",
   "metadata": {},
   "outputs": [
    {
     "name": "stdout",
     "output_type": "stream",
     "text": [
      "[[62.  ]\n",
      " [76.33]\n",
      " [72.  ]\n",
      " [60.  ]\n",
      " [61.  ]\n",
      " [55.  ]\n",
      " [70.  ]\n",
      " [68.  ]\n",
      " [82.8 ]\n",
      " [59.  ]\n",
      " [58.  ]\n",
      " [60.  ]\n",
      " [66.  ]\n",
      " [83.  ]\n",
      " [68.  ]\n",
      " [37.33]\n",
      " [79.  ]\n",
      " [68.4 ]\n",
      " [70.  ]\n",
      " [59.  ]\n",
      " [63.  ]\n",
      " [50.  ]\n",
      " [69.  ]\n",
      " [52.  ]\n",
      " [49.  ]\n",
      " [64.6 ]\n",
      " [50.  ]\n",
      " [74.  ]\n",
      " [58.  ]\n",
      " [67.  ]\n",
      " [75.  ]\n",
      " [60.  ]\n",
      " [55.  ]\n",
      " [78.  ]\n",
      " [50.08]\n",
      " [56.  ]\n",
      " [68.  ]\n",
      " [52.  ]\n",
      " [54.  ]\n",
      " [52.  ]\n",
      " [76.  ]\n",
      " [64.8 ]\n",
      " [74.4 ]\n",
      " [74.5 ]\n",
      " [73.5 ]\n",
      " [57.58]\n",
      " [68.  ]\n",
      " [69.  ]\n",
      " [66.  ]\n",
      " [60.8 ]]\n",
      "[270000 200000 240000 250000 180000 300000 260000 235000 425000 240000\n",
      " 250000 180000 428000 450000 300000 240000 252000 280000 231000 224000\n",
      " 120000 260000 300000 120000 120000 250000 180000 218000 360000 150000\n",
      " 250000 200000 300000 330000 265000 340000 177600 236000 265000 200000\n",
      " 393000 360000 300000 250000 360000 180000 180000 270000 240000 300000]\n"
     ]
    }
   ],
   "source": [
    "print(x)\n",
    "print(y)"
   ]
  },
  {
   "cell_type": "code",
   "execution_count": 10,
   "id": "a4670377",
   "metadata": {},
   "outputs": [
    {
     "data": {
      "text/plain": [
       "LinearRegression()"
      ]
     },
     "execution_count": 10,
     "metadata": {},
     "output_type": "execute_result"
    }
   ],
   "source": [
    "reg=LinearRegression()\n",
    "reg.fit(x,y)"
   ]
  },
  {
   "cell_type": "code",
   "execution_count": 11,
   "id": "e6236128",
   "metadata": {},
   "outputs": [
    {
     "name": "stdout",
     "output_type": "stream",
     "text": [
      "0.15631530754337553\n",
      "[3076.17743795]\n"
     ]
    }
   ],
   "source": [
    "print(reg.score(x,y))\n",
    "print(reg.coef_)"
   ]
  },
  {
   "cell_type": "code",
   "execution_count": 12,
   "id": "01a95630",
   "metadata": {},
   "outputs": [
    {
     "name": "stdout",
     "output_type": "stream",
     "text": [
      "61555.355340221606\n"
     ]
    }
   ],
   "source": [
    "print(reg.intercept_)"
   ]
  },
  {
   "cell_type": "code",
   "execution_count": 13,
   "id": "a16426a7",
   "metadata": {},
   "outputs": [],
   "source": [
    "y_pred=reg.predict(x)"
   ]
  },
  {
   "cell_type": "code",
   "execution_count": 14,
   "id": "bb490928",
   "metadata": {},
   "outputs": [
    {
     "name": "stdout",
     "output_type": "stream",
     "text": [
      "[252278.35649328 296359.97917914 283040.13087281 246126.00161737\n",
      " 249202.17905533 230745.11442761 276887.7759969  270735.421121\n",
      " 316262.84720269 243049.82417942 239973.64674147 246126.00161737\n",
      " 264583.06624509 316878.08269028 270735.421121   176389.05909899\n",
      " 304573.37293847 271965.89209618 276887.7759969  243049.82417942\n",
      " 255354.53393123 215364.22723785 273811.59855895 221516.58211375\n",
      " 212288.0497999  260276.41783196 215364.22723785 289192.48574871\n",
      " 239973.64674147 267659.24368304 292268.66318666 246126.00161737\n",
      " 230745.11442761 301497.19550052 215610.32143289 233821.29186556\n",
      " 270735.421121   221516.58211375 227668.93698966 221516.58211375\n",
      " 295344.84062462 260891.65331955 290422.95672389 290730.57446769\n",
      " 287654.39702973 238681.65221753 270735.421121   273811.59855895\n",
      " 264583.06624509 248586.94356774]\n"
     ]
    }
   ],
   "source": [
    "print(y_pred)"
   ]
  },
  {
   "cell_type": "code",
   "execution_count": 15,
   "id": "fcae6f8a",
   "metadata": {},
   "outputs": [
    {
     "data": {
      "text/plain": [
       "<matplotlib.collections.PathCollection at 0x28479f58f40>"
      ]
     },
     "execution_count": 15,
     "metadata": {},
     "output_type": "execute_result"
    },
    {
     "data": {
      "image/png": "[encoded data removed]",
      "text/plain": [
       "<Figure size 432x288 with 1 Axes>"
      ]
     },
     "metadata": {
      "needs_background": "light"
     },
     "output_type": "display_data"
    }
   ],
   "source": [
    "plt.scatter(data[\"Percentage in Grade 10\"],data[\"Salary\"],c=\"blue\")"
   ]
  },
  {
   "cell_type": "code",
   "execution_count": 18,
   "id": "f1dca5a3",
   "metadata": {},
   "outputs": [
    {
     "data": {
      "text/plain": [
       "[<matplotlib.lines.Line2D at 0x2847a666430>]"
      ]
     },
     "execution_count": 18,
     "metadata": {},
     "output_type": "execute_result"
    },
    {
     "data": {
      "image/png": "[encoded data removed]",
      "text/plain": [
       "<Figure size 432x288 with 1 Axes>"
      ]
     },
     "metadata": {
      "needs_background": "light"
     },
     "output_type": "display_data"
    }
   ],
   "source": [
    "plt.plot(data[\"Percentage in Grade 10\"],y_pred,c=\"red\")"
   ]
  },
  {
   "cell_type": "code",
   "execution_count": 21,
   "id": "f23e89cf",
   "metadata": {},
   "outputs": [
    {
     "data": {
      "image/png": "[encoded data removed]",
      "text/plain": [
       "<Figure size 432x288 with 1 Axes>"
      ]
     },
     "metadata": {
      "needs_background": "light"
     },
     "output_type": "display_data"
    }
   ],
   "source": [
    "plt.xlabel(\"Percentage in Grade 10\")\n",
    "plt.ylabel(\"salary\")\n",
    "plt.show()"
   ]
  },
  {
   "cell_type": "code",
   "execution_count": 23,
   "id": "d6aaaf73",
   "metadata": {},
   "outputs": [
    {
     "ename": "AttributeError",
     "evalue": "'LinearRegression' object has no attribute 'Source'",
     "output_type": "error",
     "traceback": [
      "\u001b[1;31m---------------------------------------------------------------------------\u001b[0m",
      "\u001b[1;31mAttributeError\u001b[0m                            Traceback (most recent call last)",
      "\u001b[1;32mC:\\Users\\GAJALA~1\\AppData\\Local\\Temp/ipykernel_7232/3814306686.py\u001b[0m in \u001b[0;36m<module>\u001b[1;34m\u001b[0m\n\u001b[1;32m----> 1\u001b[1;33m \u001b[0mprint\u001b[0m\u001b[1;33m(\u001b[0m\u001b[0mreg\u001b[0m\u001b[1;33m.\u001b[0m\u001b[0mSource\u001b[0m\u001b[1;33m(\u001b[0m\u001b[0mx\u001b[0m\u001b[1;33m,\u001b[0m\u001b[0my_pred\u001b[0m\u001b[1;33m)\u001b[0m\u001b[1;33m)\u001b[0m\u001b[1;33m\u001b[0m\u001b[1;33m\u001b[0m\u001b[0m\n\u001b[0m",
      "\u001b[1;31mAttributeError\u001b[0m: 'LinearRegression' object has no attribute 'Source'"
     ]
    }
   ],
   "source": [
    "print(reg.Source(x,y_pred))"
   ]
  },
  {
   "cell_type": "code",
   "execution_count": null,
   "id": "eebe61aa",
   "metadata": {},
   "outputs": [],
   "source": []
  }
 ],
 "metadata": {
  "kernelspec": {
   "display_name": "Python 3 (ipykernel)",
   "language": "python",
   "name": "python3"
  },
  "language_info": {
   "codemirror_mode": {
    "name": "ipython",
    "version": 3
   },
   "file_extension": ".py",
   "mimetype": "text/x-python",
   "name": "python",
   "nbconvert_exporter": "python",
   "pygments_lexer": "ipython3",
   "version": "3.9.7"
  }
 },
 "nbformat": 4,
 "nbformat_minor": 5
}
