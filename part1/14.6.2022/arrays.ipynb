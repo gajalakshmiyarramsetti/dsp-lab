{
 "cells": [
  {
   "cell_type": "code",
   "execution_count": 2,
   "id": "2ef21ddb",
   "metadata": {},
   "outputs": [
    {
     "data": {
      "text/plain": [
       "array([1, 2, 3, 4, 5])"
      ]
     },
     "execution_count": 2,
     "metadata": {},
     "output_type": "execute_result"
    }
   ],
   "source": [
    "import numpy as np\n",
    "arr=np.array([1,2,3,4,5])\n",
    "arr"
   ]
  },
  {
   "cell_type": "code",
   "execution_count": 3,
   "id": "1eca33e9",
   "metadata": {},
   "outputs": [
    {
     "name": "stdout",
     "output_type": "stream",
     "text": [
      "[1, 2, 3, 4, 5, 6]\n",
      "[1 2 3 4 5 6]\n",
      "[1 2 3 4 5 6]\n",
      "int32\n",
      "[1 2 3 4 5]\n",
      "[1 2 3 4 5 6]\n",
      "<class 'numpy.ndarray'>\n",
      "6\n",
      "1\n",
      "(6,)\n",
      "[[1 2 3]\n",
      " [4 5 6]]\n",
      "[[1 2]\n",
      " [3 4]\n",
      " [5 6]]\n",
      "2\n",
      "[[ 1  2  3  4  5]\n",
      " [ 2  4  6  8 10]\n",
      " [ 3  6  9  7  8]]\n",
      "(3, 5)\n",
      "(2, 4)\n",
      "[[1 2]\n",
      " [3 4]\n",
      " [5 6]\n",
      " [7 8]]\n",
      "[[1 2 3 4]\n",
      " [5 6 7 8]]\n"
     ]
    }
   ],
   "source": [
    "# creation of array\n",
    "\n",
    "list=[1,2,3,4,5,6]\n",
    "print(list)\n",
    "\n",
    "## To create numpy array,we first need to import the numpy package:\n",
    "\n",
    "import numpy as np\n",
    "\n",
    "array=np.array(list,dtype=int)\n",
    "print(array)\n",
    "\n",
    "array=np.array(list,dtype=int)\n",
    "print(array)\n",
    "\n",
    "from numpy import *\n",
    "arr=array([1,2,3,4,5])\n",
    "print(arr.dtype)\n",
    "print(arr)\n",
    "\n",
    "array=np.array(list,dtype=int)\n",
    "print(array)\n",
    "\n",
    "print(type(array))\n",
    "print(len(array))\n",
    "print(array.ndim)\n",
    "print(array.shape)\n",
    "\n",
    "array2=array.reshape(2,3)\n",
    "print(array2)\n",
    "array2.shape\n",
    "\n",
    "array3=array.reshape(3,-1)\n",
    "print(array3)\n",
    "print(array3.ndim)\n",
    "\n",
    "## Initializing numpy arrays from nested python lists:-\n",
    "\n",
    "list2=[1,2,3,4,5]\n",
    "list3=[2,4,6,8,10]\n",
    "list4=[3,6,9,7,8]\n",
    "mul_arr=np.array([list2,list3,list4])\n",
    "print(mul_arr)\n",
    "print(mul_arr.shape)\n",
    "\n",
    "mul_arr.reshape(1,15)\n",
    "\n",
    "# Numpy Attributes\n",
    "\n",
    "\n",
    "a=np.array([[1,2,3,4],[5,6,7,8]])\n",
    "print(a.shape)\n",
    "\n",
    "## reshaping the ndarray\n",
    "\n",
    "a.shape=(4,2)\n",
    "print(a)\n",
    "\n",
    "a.shape=(2,4)\n",
    "print(a)\n",
    "\n",
    "\n",
    "\n"
   ]
  },
  {
   "cell_type": "code",
   "execution_count": null,
   "id": "66a29beb",
   "metadata": {},
   "outputs": [],
   "source": []
  }
 ],
 "metadata": {
  "kernelspec": {
   "display_name": "Python 3 (ipykernel)",
   "language": "python",
   "name": "python3"
  },
  "language_info": {
   "codemirror_mode": {
    "name": "ipython",
    "version": 3
   },
   "file_extension": ".py",
   "mimetype": "text/x-python",
   "name": "python",
   "nbconvert_exporter": "python",
   "pygments_lexer": "ipython3",
   "version": "3.9.7"
  }
 },
 "nbformat": 4,
 "nbformat_minor": 5
}
