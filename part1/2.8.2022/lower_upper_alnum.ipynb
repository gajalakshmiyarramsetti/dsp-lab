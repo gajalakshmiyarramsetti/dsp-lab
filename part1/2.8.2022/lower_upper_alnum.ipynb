{
 "cells": [
  {
   "cell_type": "code",
   "execution_count": 10,
   "id": "710304f7",
   "metadata": {},
   "outputs": [
    {
     "name": "stdout",
     "output_type": "stream",
     "text": [
      "file is created\n"
     ]
    }
   ],
   "source": [
    "file=open(\"file1.txt\",\"w\")\n",
    "file.close()\n",
    "print(\"file is created\")"
   ]
  },
  {
   "cell_type": "code",
   "execution_count": 11,
   "id": "564e7bb2",
   "metadata": {},
   "outputs": [],
   "source": [
    "file=open(\"file1.txt\",\"w\")\n",
    "file.write(\"rgukt SRIKAKULAM 123456 \\n\")\n",
    "file.close()"
   ]
  },
  {
   "cell_type": "code",
   "execution_count": 12,
   "id": "457ac833",
   "metadata": {},
   "outputs": [],
   "source": [
    "a=open(\"file1.txt\",\"r\")\n",
    "b=a.readlines()\n",
    "c=open(\"lower.txt\",\"w\")\n",
    "d=open(\"upper.text\",\"w\")\n",
    "e=open(\"isnum.text\",\"w\")\n",
    "for line in b:\n",
    "    for i in line:\n",
    "        if i.islower()==True:\n",
    "            f=c.write(i)\n",
    "        elif i.isupper()==True:\n",
    "             f=d.write(i)\n",
    "        else:\n",
    "            f=e.write(i)"
   ]
  },
  {
   "cell_type": "code",
   "execution_count": 14,
   "id": "87b96eab",
   "metadata": {},
   "outputs": [
    {
     "name": "stdout",
     "output_type": "stream",
     "text": [
      "ok\n"
     ]
    }
   ],
   "source": [
    "file=open(\"file1.txt\",\"r\")\n",
    "b=open(\"loop.txt\",\"w\")\n",
    "c=open(\"special.txt\",\"w\")\n",
    "for each in file:\n",
    "    for i in each:\n",
    "        if i.islower()==True:\n",
    "            d=b.write(i)\n",
    "        elif i.isdigit()==True:\n",
    "            d=c.write(i)\n",
    "file=open(\"loop.txt\",\"r\")\n",
    "file.read()\n",
    "file=open(\"special.txt\",\"r\")\n",
    "file.read()\n",
    "print(\"ok\")"
   ]
  },
  {
   "cell_type": "code",
   "execution_count": null,
   "id": "102804b1",
   "metadata": {},
   "outputs": [],
   "source": []
  }
 ],
 "metadata": {
  "kernelspec": {
   "display_name": "Python 3 (ipykernel)",
   "language": "python",
   "name": "python3"
  },
  "language_info": {
   "codemirror_mode": {
    "name": "ipython",
    "version": 3
   },
   "file_extension": ".py",
   "mimetype": "text/x-python",
   "name": "python",
   "nbconvert_exporter": "python",
   "pygments_lexer": "ipython3",
   "version": "3.9.7"
  }
 },
 "nbformat": 4,
 "nbformat_minor": 5
}
