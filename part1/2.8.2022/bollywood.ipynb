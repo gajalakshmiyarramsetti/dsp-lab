{
 "cells": [
  {
   "cell_type": "code",
   "execution_count": 28,
   "id": "6b5c9098",
   "metadata": {},
   "outputs": [
    {
     "data": {
      "text/html": [
       "<div>\n",
       "<style scoped>\n",
       "    .dataframe tbody tr th:only-of-type {\n",
       "        vertical-align: middle;\n",
       "    }\n",
       "\n",
       "    .dataframe tbody tr th {\n",
       "        vertical-align: top;\n",
       "    }\n",
       "\n",
       "    .dataframe thead th {\n",
       "        text-align: right;\n",
       "    }\n",
       "</style>\n",
       "<table border=\"1\" class=\"dataframe\">\n",
       "  <thead>\n",
       "    <tr style=\"text-align: right;\">\n",
       "      <th></th>\n",
       "      <th>SlNo</th>\n",
       "      <th>Release Date</th>\n",
       "      <th>MovieName</th>\n",
       "      <th>ReleaseTime</th>\n",
       "      <th>Genre</th>\n",
       "      <th>Budget</th>\n",
       "      <th>BoxOfficeCollection</th>\n",
       "      <th>YoutubeViews</th>\n",
       "      <th>YoutubeLikes</th>\n",
       "      <th>YoutubeDislikes</th>\n",
       "    </tr>\n",
       "  </thead>\n",
       "  <tbody>\n",
       "    <tr>\n",
       "      <th>0</th>\n",
       "      <td>1</td>\n",
       "      <td>18-Apr-14</td>\n",
       "      <td>2 States</td>\n",
       "      <td>LW</td>\n",
       "      <td>Romance</td>\n",
       "      <td>36</td>\n",
       "      <td>104.00</td>\n",
       "      <td>8576361</td>\n",
       "      <td>26622</td>\n",
       "      <td>2527</td>\n",
       "    </tr>\n",
       "    <tr>\n",
       "      <th>1</th>\n",
       "      <td>2</td>\n",
       "      <td>4-Jan-13</td>\n",
       "      <td>Table No. 21</td>\n",
       "      <td>N</td>\n",
       "      <td>Thriller</td>\n",
       "      <td>10</td>\n",
       "      <td>12.00</td>\n",
       "      <td>1087320</td>\n",
       "      <td>1129</td>\n",
       "      <td>137</td>\n",
       "    </tr>\n",
       "    <tr>\n",
       "      <th>2</th>\n",
       "      <td>3</td>\n",
       "      <td>18-Jul-14</td>\n",
       "      <td>Amit Sahni Ki List</td>\n",
       "      <td>N</td>\n",
       "      <td>Comedy</td>\n",
       "      <td>10</td>\n",
       "      <td>4.00</td>\n",
       "      <td>572336</td>\n",
       "      <td>586</td>\n",
       "      <td>54</td>\n",
       "    </tr>\n",
       "    <tr>\n",
       "      <th>3</th>\n",
       "      <td>4</td>\n",
       "      <td>4-Jan-13</td>\n",
       "      <td>Rajdhani Express</td>\n",
       "      <td>N</td>\n",
       "      <td>Drama</td>\n",
       "      <td>7</td>\n",
       "      <td>0.35</td>\n",
       "      <td>42626</td>\n",
       "      <td>86</td>\n",
       "      <td>19</td>\n",
       "    </tr>\n",
       "    <tr>\n",
       "      <th>4</th>\n",
       "      <td>5</td>\n",
       "      <td>4-Jul-14</td>\n",
       "      <td>Bobby Jasoos</td>\n",
       "      <td>N</td>\n",
       "      <td>Comedy</td>\n",
       "      <td>18</td>\n",
       "      <td>10.80</td>\n",
       "      <td>3113427</td>\n",
       "      <td>4512</td>\n",
       "      <td>1224</td>\n",
       "    </tr>\n",
       "    <tr>\n",
       "      <th>...</th>\n",
       "      <td>...</td>\n",
       "      <td>...</td>\n",
       "      <td>...</td>\n",
       "      <td>...</td>\n",
       "      <td>...</td>\n",
       "      <td>...</td>\n",
       "      <td>...</td>\n",
       "      <td>...</td>\n",
       "      <td>...</td>\n",
       "      <td>...</td>\n",
       "    </tr>\n",
       "    <tr>\n",
       "      <th>144</th>\n",
       "      <td>145</td>\n",
       "      <td>27-Feb-15</td>\n",
       "      <td>Dum Laga Ke Haisha</td>\n",
       "      <td>N</td>\n",
       "      <td>Comedy</td>\n",
       "      <td>15</td>\n",
       "      <td>30.00</td>\n",
       "      <td>3250917</td>\n",
       "      <td>8185</td>\n",
       "      <td>615</td>\n",
       "    </tr>\n",
       "    <tr>\n",
       "      <th>145</th>\n",
       "      <td>146</td>\n",
       "      <td>13-Mar-15</td>\n",
       "      <td>NH10</td>\n",
       "      <td>N</td>\n",
       "      <td>Thriller</td>\n",
       "      <td>13</td>\n",
       "      <td>32.10</td>\n",
       "      <td>5592977</td>\n",
       "      <td>15464</td>\n",
       "      <td>1513</td>\n",
       "    </tr>\n",
       "    <tr>\n",
       "      <th>146</th>\n",
       "      <td>147</td>\n",
       "      <td>20-Mar-15</td>\n",
       "      <td>Dilliwali Zaalim Girlfriend</td>\n",
       "      <td>N</td>\n",
       "      <td>Comedy</td>\n",
       "      <td>32</td>\n",
       "      <td>12.00</td>\n",
       "      <td>2316047</td>\n",
       "      <td>4289</td>\n",
       "      <td>807</td>\n",
       "    </tr>\n",
       "    <tr>\n",
       "      <th>147</th>\n",
       "      <td>148</td>\n",
       "      <td>20-Mar-15</td>\n",
       "      <td>Hunterrr</td>\n",
       "      <td>N</td>\n",
       "      <td>Comedy</td>\n",
       "      <td>5</td>\n",
       "      <td>11.89</td>\n",
       "      <td>4674795</td>\n",
       "      <td>3706</td>\n",
       "      <td>762</td>\n",
       "    </tr>\n",
       "    <tr>\n",
       "      <th>148</th>\n",
       "      <td>149</td>\n",
       "      <td>23-May-14</td>\n",
       "      <td>Kochadaiiyaan</td>\n",
       "      <td>HS</td>\n",
       "      <td>Action</td>\n",
       "      <td>150</td>\n",
       "      <td>120.00</td>\n",
       "      <td>4740727</td>\n",
       "      <td>13466</td>\n",
       "      <td>2649</td>\n",
       "    </tr>\n",
       "  </tbody>\n",
       "</table>\n",
       "<p>149 rows × 10 columns</p>\n",
       "</div>"
      ],
      "text/plain": [
       "     SlNo Release Date                    MovieName ReleaseTime      Genre  \\\n",
       "0       1    18-Apr-14                     2 States          LW    Romance   \n",
       "1       2     4-Jan-13                 Table No. 21           N  Thriller    \n",
       "2       3    18-Jul-14           Amit Sahni Ki List           N     Comedy   \n",
       "3       4     4-Jan-13             Rajdhani Express           N     Drama    \n",
       "4       5     4-Jul-14                 Bobby Jasoos           N     Comedy   \n",
       "..    ...          ...                          ...         ...        ...   \n",
       "144   145    27-Feb-15           Dum Laga Ke Haisha           N     Comedy   \n",
       "145   146    13-Mar-15                         NH10           N   Thriller   \n",
       "146   147    20-Mar-15  Dilliwali Zaalim Girlfriend           N     Comedy   \n",
       "147   148    20-Mar-15                     Hunterrr           N     Comedy   \n",
       "148   149    23-May-14                Kochadaiiyaan          HS     Action   \n",
       "\n",
       "     Budget  BoxOfficeCollection  YoutubeViews  YoutubeLikes  YoutubeDislikes  \n",
       "0        36               104.00       8576361         26622             2527  \n",
       "1        10                12.00       1087320          1129              137  \n",
       "2        10                 4.00        572336           586               54  \n",
       "3         7                 0.35         42626            86               19  \n",
       "4        18                10.80       3113427          4512             1224  \n",
       "..      ...                  ...           ...           ...              ...  \n",
       "144      15                30.00       3250917          8185              615  \n",
       "145      13                32.10       5592977         15464             1513  \n",
       "146      32                12.00       2316047          4289              807  \n",
       "147       5                11.89       4674795          3706              762  \n",
       "148     150               120.00       4740727         13466             2649  \n",
       "\n",
       "[149 rows x 10 columns]"
      ]
     },
     "execution_count": 28,
     "metadata": {},
     "output_type": "execute_result"
    }
   ],
   "source": [
    "import pandas as pd\n",
    "import numpy as np\n",
    "df=pd.read_csv(\"bollywood.csv\")\n",
    "df"
   ]
  },
  {
   "cell_type": "code",
   "execution_count": 44,
   "id": "b62016d1",
   "metadata": {},
   "outputs": [
    {
     "data": {
      "text/html": [
       "<div>\n",
       "<style scoped>\n",
       "    .dataframe tbody tr th:only-of-type {\n",
       "        vertical-align: middle;\n",
       "    }\n",
       "\n",
       "    .dataframe tbody tr th {\n",
       "        vertical-align: top;\n",
       "    }\n",
       "\n",
       "    .dataframe thead th {\n",
       "        text-align: right;\n",
       "    }\n",
       "</style>\n",
       "<table border=\"1\" class=\"dataframe\">\n",
       "  <thead>\n",
       "    <tr style=\"text-align: right;\">\n",
       "      <th></th>\n",
       "      <th>SlNo</th>\n",
       "      <th>Budget</th>\n",
       "      <th>BoxOfficeCollection</th>\n",
       "      <th>YoutubeViews</th>\n",
       "      <th>YoutubeLikes</th>\n",
       "      <th>YoutubeDislikes</th>\n",
       "    </tr>\n",
       "  </thead>\n",
       "  <tbody>\n",
       "    <tr>\n",
       "      <th>count</th>\n",
       "      <td>149.000000</td>\n",
       "      <td>149.000000</td>\n",
       "      <td>149.000000</td>\n",
       "      <td>1.490000e+02</td>\n",
       "      <td>149.000000</td>\n",
       "      <td>149.000000</td>\n",
       "    </tr>\n",
       "    <tr>\n",
       "      <th>mean</th>\n",
       "      <td>75.000000</td>\n",
       "      <td>29.442953</td>\n",
       "      <td>55.667248</td>\n",
       "      <td>3.337920e+06</td>\n",
       "      <td>7877.536913</td>\n",
       "      <td>1207.818792</td>\n",
       "    </tr>\n",
       "    <tr>\n",
       "      <th>std</th>\n",
       "      <td>43.156691</td>\n",
       "      <td>28.237981</td>\n",
       "      <td>94.494531</td>\n",
       "      <td>3.504407e+06</td>\n",
       "      <td>12748.047191</td>\n",
       "      <td>1852.692938</td>\n",
       "    </tr>\n",
       "    <tr>\n",
       "      <th>min</th>\n",
       "      <td>1.000000</td>\n",
       "      <td>2.000000</td>\n",
       "      <td>0.010000</td>\n",
       "      <td>4.354000e+03</td>\n",
       "      <td>1.000000</td>\n",
       "      <td>1.000000</td>\n",
       "    </tr>\n",
       "    <tr>\n",
       "      <th>25%</th>\n",
       "      <td>38.000000</td>\n",
       "      <td>11.000000</td>\n",
       "      <td>8.780000</td>\n",
       "      <td>1.076591e+06</td>\n",
       "      <td>1377.000000</td>\n",
       "      <td>189.000000</td>\n",
       "    </tr>\n",
       "    <tr>\n",
       "      <th>50%</th>\n",
       "      <td>75.000000</td>\n",
       "      <td>21.000000</td>\n",
       "      <td>28.000000</td>\n",
       "      <td>2.375050e+06</td>\n",
       "      <td>4111.000000</td>\n",
       "      <td>614.000000</td>\n",
       "    </tr>\n",
       "    <tr>\n",
       "      <th>75%</th>\n",
       "      <td>112.000000</td>\n",
       "      <td>35.000000</td>\n",
       "      <td>57.450000</td>\n",
       "      <td>4.550051e+06</td>\n",
       "      <td>9100.000000</td>\n",
       "      <td>1419.000000</td>\n",
       "    </tr>\n",
       "    <tr>\n",
       "      <th>max</th>\n",
       "      <td>149.000000</td>\n",
       "      <td>150.000000</td>\n",
       "      <td>735.000000</td>\n",
       "      <td>2.317107e+07</td>\n",
       "      <td>101275.000000</td>\n",
       "      <td>11888.000000</td>\n",
       "    </tr>\n",
       "  </tbody>\n",
       "</table>\n",
       "</div>"
      ],
      "text/plain": [
       "             SlNo      Budget  BoxOfficeCollection  YoutubeViews  \\\n",
       "count  149.000000  149.000000           149.000000  1.490000e+02   \n",
       "mean    75.000000   29.442953            55.667248  3.337920e+06   \n",
       "std     43.156691   28.237981            94.494531  3.504407e+06   \n",
       "min      1.000000    2.000000             0.010000  4.354000e+03   \n",
       "25%     38.000000   11.000000             8.780000  1.076591e+06   \n",
       "50%     75.000000   21.000000            28.000000  2.375050e+06   \n",
       "75%    112.000000   35.000000            57.450000  4.550051e+06   \n",
       "max    149.000000  150.000000           735.000000  2.317107e+07   \n",
       "\n",
       "        YoutubeLikes  YoutubeDislikes  \n",
       "count     149.000000       149.000000  \n",
       "mean     7877.536913      1207.818792  \n",
       "std     12748.047191      1852.692938  \n",
       "min         1.000000         1.000000  \n",
       "25%      1377.000000       189.000000  \n",
       "50%      4111.000000       614.000000  \n",
       "75%      9100.000000      1419.000000  \n",
       "max    101275.000000     11888.000000  "
      ]
     },
     "execution_count": 44,
     "metadata": {},
     "output_type": "execute_result"
    }
   ],
   "source": [
    "df.describe()"
   ]
  },
  {
   "cell_type": "code",
   "execution_count": 45,
   "id": "9a12434b",
   "metadata": {},
   "outputs": [
    {
     "data": {
      "text/plain": [
       "(149, 10)"
      ]
     },
     "execution_count": 45,
     "metadata": {},
     "output_type": "execute_result"
    }
   ],
   "source": [
    "df.shape"
   ]
  },
  {
   "cell_type": "code",
   "execution_count": 46,
   "id": "1244668d",
   "metadata": {},
   "outputs": [
    {
     "data": {
      "text/plain": [
       "1490"
      ]
     },
     "execution_count": 46,
     "metadata": {},
     "output_type": "execute_result"
    }
   ],
   "source": [
    "df.size"
   ]
  },
  {
   "cell_type": "code",
   "execution_count": 47,
   "id": "2687b179",
   "metadata": {},
   "outputs": [
    {
     "name": "stdout",
     "output_type": "stream",
     "text": [
      "<class 'pandas.core.frame.DataFrame'>\n",
      "RangeIndex: 149 entries, 0 to 148\n",
      "Data columns (total 10 columns):\n",
      " #   Column               Non-Null Count  Dtype  \n",
      "---  ------               --------------  -----  \n",
      " 0   SlNo                 149 non-null    int64  \n",
      " 1   Release Date         149 non-null    object \n",
      " 2   MovieName            149 non-null    object \n",
      " 3   ReleaseTime          149 non-null    object \n",
      " 4   Genre                149 non-null    object \n",
      " 5   Budget               149 non-null    int64  \n",
      " 6   BoxOfficeCollection  149 non-null    float64\n",
      " 7   YoutubeViews         149 non-null    int64  \n",
      " 8   YoutubeLikes         149 non-null    int64  \n",
      " 9   YoutubeDislikes      149 non-null    int64  \n",
      "dtypes: float64(1), int64(5), object(4)\n",
      "memory usage: 11.8+ KB\n"
     ]
    }
   ],
   "source": [
    "df.info()"
   ]
  },
  {
   "cell_type": "code",
   "execution_count": 48,
   "id": "bc7b4613",
   "metadata": {},
   "outputs": [
    {
     "data": {
      "text/plain": [
       "count        149\n",
       "unique         7\n",
       "top       Comedy\n",
       "freq          36\n",
       "Name: Genre, dtype: object"
      ]
     },
     "execution_count": 48,
     "metadata": {},
     "output_type": "execute_result"
    }
   ],
   "source": [
    "df.Genre.describe()"
   ]
  },
  {
   "cell_type": "code",
   "execution_count": 49,
   "id": "fadb6717",
   "metadata": {},
   "outputs": [
    {
     "data": {
      "text/html": [
       "<div>\n",
       "<style scoped>\n",
       "    .dataframe tbody tr th:only-of-type {\n",
       "        vertical-align: middle;\n",
       "    }\n",
       "\n",
       "    .dataframe tbody tr th {\n",
       "        vertical-align: top;\n",
       "    }\n",
       "\n",
       "    .dataframe thead th {\n",
       "        text-align: right;\n",
       "    }\n",
       "</style>\n",
       "<table border=\"1\" class=\"dataframe\">\n",
       "  <thead>\n",
       "    <tr style=\"text-align: right;\">\n",
       "      <th></th>\n",
       "      <th>SlNo</th>\n",
       "      <th>Release Date</th>\n",
       "      <th>MovieName</th>\n",
       "      <th>ReleaseTime</th>\n",
       "      <th>Genre</th>\n",
       "      <th>Budget</th>\n",
       "      <th>BoxOfficeCollection</th>\n",
       "      <th>YoutubeViews</th>\n",
       "      <th>YoutubeLikes</th>\n",
       "      <th>YoutubeDislikes</th>\n",
       "    </tr>\n",
       "  </thead>\n",
       "  <tbody>\n",
       "    <tr>\n",
       "      <th>74</th>\n",
       "      <td>75</td>\n",
       "      <td>25-Apr-14</td>\n",
       "      <td>Revolver Rani</td>\n",
       "      <td>N</td>\n",
       "      <td>Drama</td>\n",
       "      <td>24</td>\n",
       "      <td>10.00</td>\n",
       "      <td>1744602</td>\n",
       "      <td>3013</td>\n",
       "      <td>392</td>\n",
       "    </tr>\n",
       "    <tr>\n",
       "      <th>25</th>\n",
       "      <td>26</td>\n",
       "      <td>8-Feb-13</td>\n",
       "      <td>Special 26</td>\n",
       "      <td>N</td>\n",
       "      <td>Drama</td>\n",
       "      <td>42</td>\n",
       "      <td>103.00</td>\n",
       "      <td>1829417</td>\n",
       "      <td>6248</td>\n",
       "      <td>568</td>\n",
       "    </tr>\n",
       "    <tr>\n",
       "      <th>26</th>\n",
       "      <td>27</td>\n",
       "      <td>24-Oct-14</td>\n",
       "      <td>Happy New Year</td>\n",
       "      <td>LW</td>\n",
       "      <td>Drama</td>\n",
       "      <td>125</td>\n",
       "      <td>383.00</td>\n",
       "      <td>6395202</td>\n",
       "      <td>37585</td>\n",
       "      <td>10269</td>\n",
       "    </tr>\n",
       "    <tr>\n",
       "      <th>27</th>\n",
       "      <td>28</td>\n",
       "      <td>8-Feb-13</td>\n",
       "      <td>ABCD _ Any Body Can Dance</td>\n",
       "      <td>N</td>\n",
       "      <td>Drama</td>\n",
       "      <td>12</td>\n",
       "      <td>44.00</td>\n",
       "      <td>4042091</td>\n",
       "      <td>10609</td>\n",
       "      <td>788</td>\n",
       "    </tr>\n",
       "    <tr>\n",
       "      <th>29</th>\n",
       "      <td>30</td>\n",
       "      <td>9-May-14</td>\n",
       "      <td>Hawaa Hawaai</td>\n",
       "      <td>HS</td>\n",
       "      <td>Drama</td>\n",
       "      <td>11</td>\n",
       "      <td>10.00</td>\n",
       "      <td>764725</td>\n",
       "      <td>1377</td>\n",
       "      <td>94</td>\n",
       "    </tr>\n",
       "    <tr>\n",
       "      <th>...</th>\n",
       "      <td>...</td>\n",
       "      <td>...</td>\n",
       "      <td>...</td>\n",
       "      <td>...</td>\n",
       "      <td>...</td>\n",
       "      <td>...</td>\n",
       "      <td>...</td>\n",
       "      <td>...</td>\n",
       "      <td>...</td>\n",
       "      <td>...</td>\n",
       "    </tr>\n",
       "    <tr>\n",
       "      <th>31</th>\n",
       "      <td>32</td>\n",
       "      <td>15-Feb-13</td>\n",
       "      <td>Murder 3</td>\n",
       "      <td>FS</td>\n",
       "      <td>Thriller</td>\n",
       "      <td>12</td>\n",
       "      <td>25.00</td>\n",
       "      <td>2249055</td>\n",
       "      <td>1879</td>\n",
       "      <td>747</td>\n",
       "    </tr>\n",
       "    <tr>\n",
       "      <th>116</th>\n",
       "      <td>117</td>\n",
       "      <td>15-Aug-13</td>\n",
       "      <td>Once Upon Ay Time In Mumbai Dobaara!</td>\n",
       "      <td>FS</td>\n",
       "      <td>Thriller</td>\n",
       "      <td>100</td>\n",
       "      <td>80.00</td>\n",
       "      <td>3077135</td>\n",
       "      <td>9200</td>\n",
       "      <td>2821</td>\n",
       "    </tr>\n",
       "    <tr>\n",
       "      <th>16</th>\n",
       "      <td>17</td>\n",
       "      <td>25-Jan-13</td>\n",
       "      <td>Race 2</td>\n",
       "      <td>LW</td>\n",
       "      <td>Thriller</td>\n",
       "      <td>60</td>\n",
       "      <td>162.00</td>\n",
       "      <td>7641333</td>\n",
       "      <td>12617</td>\n",
       "      <td>2138</td>\n",
       "    </tr>\n",
       "    <tr>\n",
       "      <th>1</th>\n",
       "      <td>2</td>\n",
       "      <td>4-Jan-13</td>\n",
       "      <td>Table No. 21</td>\n",
       "      <td>N</td>\n",
       "      <td>Thriller</td>\n",
       "      <td>10</td>\n",
       "      <td>12.00</td>\n",
       "      <td>1087320</td>\n",
       "      <td>1129</td>\n",
       "      <td>137</td>\n",
       "    </tr>\n",
       "    <tr>\n",
       "      <th>20</th>\n",
       "      <td>21</td>\n",
       "      <td>1-Feb-13</td>\n",
       "      <td>David</td>\n",
       "      <td>N</td>\n",
       "      <td>Thriller</td>\n",
       "      <td>10</td>\n",
       "      <td>3.65</td>\n",
       "      <td>839270</td>\n",
       "      <td>1542</td>\n",
       "      <td>95</td>\n",
       "    </tr>\n",
       "  </tbody>\n",
       "</table>\n",
       "<p>149 rows × 10 columns</p>\n",
       "</div>"
      ],
      "text/plain": [
       "     SlNo Release Date                             MovieName ReleaseTime  \\\n",
       "74     75    25-Apr-14                         Revolver Rani           N   \n",
       "25     26     8-Feb-13                            Special 26           N   \n",
       "26     27    24-Oct-14                        Happy New Year          LW   \n",
       "27     28     8-Feb-13             ABCD _ Any Body Can Dance           N   \n",
       "29     30     9-May-14                          Hawaa Hawaai          HS   \n",
       "..    ...          ...                                   ...         ...   \n",
       "31     32    15-Feb-13                              Murder 3          FS   \n",
       "116   117    15-Aug-13  Once Upon Ay Time In Mumbai Dobaara!          FS   \n",
       "16     17    25-Jan-13                                Race 2          LW   \n",
       "1       2     4-Jan-13                          Table No. 21           N   \n",
       "20     21     1-Feb-13                                 David           N   \n",
       "\n",
       "         Genre  Budget  BoxOfficeCollection  YoutubeViews  YoutubeLikes  \\\n",
       "74      Drama       24                10.00       1744602          3013   \n",
       "25      Drama       42               103.00       1829417          6248   \n",
       "26      Drama      125               383.00       6395202         37585   \n",
       "27      Drama       12                44.00       4042091         10609   \n",
       "29      Drama       11                10.00        764725          1377   \n",
       "..         ...     ...                  ...           ...           ...   \n",
       "31    Thriller      12                25.00       2249055          1879   \n",
       "116   Thriller     100                80.00       3077135          9200   \n",
       "16   Thriller       60               162.00       7641333         12617   \n",
       "1    Thriller       10                12.00       1087320          1129   \n",
       "20   Thriller       10                 3.65        839270          1542   \n",
       "\n",
       "     YoutubeDislikes  \n",
       "74               392  \n",
       "25               568  \n",
       "26             10269  \n",
       "27               788  \n",
       "29                94  \n",
       "..               ...  \n",
       "31               747  \n",
       "116             2821  \n",
       "16              2138  \n",
       "1                137  \n",
       "20                95  \n",
       "\n",
       "[149 rows x 10 columns]"
      ]
     },
     "execution_count": 49,
     "metadata": {},
     "output_type": "execute_result"
    }
   ],
   "source": [
    "df.sort_values(\"Genre\")"
   ]
  },
  {
   "cell_type": "code",
   "execution_count": 50,
   "id": "3d2439cc",
   "metadata": {},
   "outputs": [
    {
     "data": {
      "text/html": [
       "<div>\n",
       "<style scoped>\n",
       "    .dataframe tbody tr th:only-of-type {\n",
       "        vertical-align: middle;\n",
       "    }\n",
       "\n",
       "    .dataframe tbody tr th {\n",
       "        vertical-align: top;\n",
       "    }\n",
       "\n",
       "    .dataframe thead th {\n",
       "        text-align: right;\n",
       "    }\n",
       "</style>\n",
       "<table border=\"1\" class=\"dataframe\">\n",
       "  <thead>\n",
       "    <tr style=\"text-align: right;\">\n",
       "      <th></th>\n",
       "      <th>SlNo</th>\n",
       "      <th>Release Date</th>\n",
       "      <th>MovieName</th>\n",
       "      <th>ReleaseTime</th>\n",
       "      <th>Genre</th>\n",
       "      <th>Budget</th>\n",
       "      <th>BoxOfficeCollection</th>\n",
       "      <th>YoutubeViews</th>\n",
       "      <th>YoutubeLikes</th>\n",
       "      <th>YoutubeDislikes</th>\n",
       "    </tr>\n",
       "  </thead>\n",
       "  <tbody>\n",
       "    <tr>\n",
       "      <th>74</th>\n",
       "      <td>75</td>\n",
       "      <td>25-Apr-14</td>\n",
       "      <td>Revolver Rani</td>\n",
       "      <td>N</td>\n",
       "      <td>Drama</td>\n",
       "      <td>24</td>\n",
       "      <td>10.00</td>\n",
       "      <td>1744602</td>\n",
       "      <td>3013</td>\n",
       "      <td>392</td>\n",
       "    </tr>\n",
       "    <tr>\n",
       "      <th>25</th>\n",
       "      <td>26</td>\n",
       "      <td>8-Feb-13</td>\n",
       "      <td>Special 26</td>\n",
       "      <td>N</td>\n",
       "      <td>Drama</td>\n",
       "      <td>42</td>\n",
       "      <td>103.00</td>\n",
       "      <td>1829417</td>\n",
       "      <td>6248</td>\n",
       "      <td>568</td>\n",
       "    </tr>\n",
       "    <tr>\n",
       "      <th>26</th>\n",
       "      <td>27</td>\n",
       "      <td>24-Oct-14</td>\n",
       "      <td>Happy New Year</td>\n",
       "      <td>LW</td>\n",
       "      <td>Drama</td>\n",
       "      <td>125</td>\n",
       "      <td>383.00</td>\n",
       "      <td>6395202</td>\n",
       "      <td>37585</td>\n",
       "      <td>10269</td>\n",
       "    </tr>\n",
       "    <tr>\n",
       "      <th>27</th>\n",
       "      <td>28</td>\n",
       "      <td>8-Feb-13</td>\n",
       "      <td>ABCD _ Any Body Can Dance</td>\n",
       "      <td>N</td>\n",
       "      <td>Drama</td>\n",
       "      <td>12</td>\n",
       "      <td>44.00</td>\n",
       "      <td>4042091</td>\n",
       "      <td>10609</td>\n",
       "      <td>788</td>\n",
       "    </tr>\n",
       "    <tr>\n",
       "      <th>29</th>\n",
       "      <td>30</td>\n",
       "      <td>9-May-14</td>\n",
       "      <td>Hawaa Hawaai</td>\n",
       "      <td>HS</td>\n",
       "      <td>Drama</td>\n",
       "      <td>11</td>\n",
       "      <td>10.00</td>\n",
       "      <td>764725</td>\n",
       "      <td>1377</td>\n",
       "      <td>94</td>\n",
       "    </tr>\n",
       "    <tr>\n",
       "      <th>...</th>\n",
       "      <td>...</td>\n",
       "      <td>...</td>\n",
       "      <td>...</td>\n",
       "      <td>...</td>\n",
       "      <td>...</td>\n",
       "      <td>...</td>\n",
       "      <td>...</td>\n",
       "      <td>...</td>\n",
       "      <td>...</td>\n",
       "      <td>...</td>\n",
       "    </tr>\n",
       "    <tr>\n",
       "      <th>31</th>\n",
       "      <td>32</td>\n",
       "      <td>15-Feb-13</td>\n",
       "      <td>Murder 3</td>\n",
       "      <td>FS</td>\n",
       "      <td>Thriller</td>\n",
       "      <td>12</td>\n",
       "      <td>25.00</td>\n",
       "      <td>2249055</td>\n",
       "      <td>1879</td>\n",
       "      <td>747</td>\n",
       "    </tr>\n",
       "    <tr>\n",
       "      <th>116</th>\n",
       "      <td>117</td>\n",
       "      <td>15-Aug-13</td>\n",
       "      <td>Once Upon Ay Time In Mumbai Dobaara!</td>\n",
       "      <td>FS</td>\n",
       "      <td>Thriller</td>\n",
       "      <td>100</td>\n",
       "      <td>80.00</td>\n",
       "      <td>3077135</td>\n",
       "      <td>9200</td>\n",
       "      <td>2821</td>\n",
       "    </tr>\n",
       "    <tr>\n",
       "      <th>16</th>\n",
       "      <td>17</td>\n",
       "      <td>25-Jan-13</td>\n",
       "      <td>Race 2</td>\n",
       "      <td>LW</td>\n",
       "      <td>Thriller</td>\n",
       "      <td>60</td>\n",
       "      <td>162.00</td>\n",
       "      <td>7641333</td>\n",
       "      <td>12617</td>\n",
       "      <td>2138</td>\n",
       "    </tr>\n",
       "    <tr>\n",
       "      <th>1</th>\n",
       "      <td>2</td>\n",
       "      <td>4-Jan-13</td>\n",
       "      <td>Table No. 21</td>\n",
       "      <td>N</td>\n",
       "      <td>Thriller</td>\n",
       "      <td>10</td>\n",
       "      <td>12.00</td>\n",
       "      <td>1087320</td>\n",
       "      <td>1129</td>\n",
       "      <td>137</td>\n",
       "    </tr>\n",
       "    <tr>\n",
       "      <th>20</th>\n",
       "      <td>21</td>\n",
       "      <td>1-Feb-13</td>\n",
       "      <td>David</td>\n",
       "      <td>N</td>\n",
       "      <td>Thriller</td>\n",
       "      <td>10</td>\n",
       "      <td>3.65</td>\n",
       "      <td>839270</td>\n",
       "      <td>1542</td>\n",
       "      <td>95</td>\n",
       "    </tr>\n",
       "  </tbody>\n",
       "</table>\n",
       "<p>149 rows × 10 columns</p>\n",
       "</div>"
      ],
      "text/plain": [
       "     SlNo Release Date                             MovieName ReleaseTime  \\\n",
       "74     75    25-Apr-14                         Revolver Rani           N   \n",
       "25     26     8-Feb-13                            Special 26           N   \n",
       "26     27    24-Oct-14                        Happy New Year          LW   \n",
       "27     28     8-Feb-13             ABCD _ Any Body Can Dance           N   \n",
       "29     30     9-May-14                          Hawaa Hawaai          HS   \n",
       "..    ...          ...                                   ...         ...   \n",
       "31     32    15-Feb-13                              Murder 3          FS   \n",
       "116   117    15-Aug-13  Once Upon Ay Time In Mumbai Dobaara!          FS   \n",
       "16     17    25-Jan-13                                Race 2          LW   \n",
       "1       2     4-Jan-13                          Table No. 21           N   \n",
       "20     21     1-Feb-13                                 David           N   \n",
       "\n",
       "         Genre  Budget  BoxOfficeCollection  YoutubeViews  YoutubeLikes  \\\n",
       "74      Drama       24                10.00       1744602          3013   \n",
       "25      Drama       42               103.00       1829417          6248   \n",
       "26      Drama      125               383.00       6395202         37585   \n",
       "27      Drama       12                44.00       4042091         10609   \n",
       "29      Drama       11                10.00        764725          1377   \n",
       "..         ...     ...                  ...           ...           ...   \n",
       "31    Thriller      12                25.00       2249055          1879   \n",
       "116   Thriller     100                80.00       3077135          9200   \n",
       "16   Thriller       60               162.00       7641333         12617   \n",
       "1    Thriller       10                12.00       1087320          1129   \n",
       "20   Thriller       10                 3.65        839270          1542   \n",
       "\n",
       "     YoutubeDislikes  \n",
       "74               392  \n",
       "25               568  \n",
       "26             10269  \n",
       "27               788  \n",
       "29                94  \n",
       "..               ...  \n",
       "31               747  \n",
       "116             2821  \n",
       "16              2138  \n",
       "1                137  \n",
       "20                95  \n",
       "\n",
       "[149 rows x 10 columns]"
      ]
     },
     "execution_count": 50,
     "metadata": {},
     "output_type": "execute_result"
    }
   ],
   "source": [
    "df.sort_values(\"Genre\")"
   ]
  },
  {
   "cell_type": "code",
   "execution_count": 51,
   "id": "0a7df9dd",
   "metadata": {},
   "outputs": [
    {
     "data": {
      "text/plain": [
       "RangeIndex(start=0, stop=149, step=1)"
      ]
     },
     "execution_count": 51,
     "metadata": {},
     "output_type": "execute_result"
    }
   ],
   "source": [
    "df.index"
   ]
  },
  {
   "cell_type": "code",
   "execution_count": 52,
   "id": "413391e2",
   "metadata": {},
   "outputs": [
    {
     "data": {
      "text/html": [
       "<div>\n",
       "<style scoped>\n",
       "    .dataframe tbody tr th:only-of-type {\n",
       "        vertical-align: middle;\n",
       "    }\n",
       "\n",
       "    .dataframe tbody tr th {\n",
       "        vertical-align: top;\n",
       "    }\n",
       "\n",
       "    .dataframe thead th {\n",
       "        text-align: right;\n",
       "    }\n",
       "</style>\n",
       "<table border=\"1\" class=\"dataframe\">\n",
       "  <thead>\n",
       "    <tr style=\"text-align: right;\">\n",
       "      <th></th>\n",
       "      <th>SlNo</th>\n",
       "      <th>Release Date</th>\n",
       "      <th>MovieName</th>\n",
       "      <th>ReleaseTime</th>\n",
       "      <th>Genre</th>\n",
       "      <th>Budget</th>\n",
       "      <th>BoxOfficeCollection</th>\n",
       "      <th>YoutubeViews</th>\n",
       "      <th>YoutubeLikes</th>\n",
       "      <th>YoutubeDislikes</th>\n",
       "    </tr>\n",
       "  </thead>\n",
       "  <tbody>\n",
       "    <tr>\n",
       "      <th>60</th>\n",
       "      <td>61</td>\n",
       "      <td>9-May-14</td>\n",
       "      <td>Mastram</td>\n",
       "      <td>HS</td>\n",
       "      <td>Comedy</td>\n",
       "      <td>2</td>\n",
       "      <td>3.00</td>\n",
       "      <td>3557585</td>\n",
       "      <td>3927</td>\n",
       "      <td>1364</td>\n",
       "    </tr>\n",
       "    <tr>\n",
       "      <th>9</th>\n",
       "      <td>10</td>\n",
       "      <td>11-Jan-13</td>\n",
       "      <td>Gangoobai</td>\n",
       "      <td>N</td>\n",
       "      <td>Drama</td>\n",
       "      <td>2</td>\n",
       "      <td>0.01</td>\n",
       "      <td>4354</td>\n",
       "      <td>1</td>\n",
       "      <td>1</td>\n",
       "    </tr>\n",
       "    <tr>\n",
       "      <th>104</th>\n",
       "      <td>105</td>\n",
       "      <td>12-Jul-13</td>\n",
       "      <td>B.A. Pass</td>\n",
       "      <td>N</td>\n",
       "      <td>Drama</td>\n",
       "      <td>2</td>\n",
       "      <td>5.90</td>\n",
       "      <td>2240961</td>\n",
       "      <td>842</td>\n",
       "      <td>348</td>\n",
       "    </tr>\n",
       "    <tr>\n",
       "      <th>55</th>\n",
       "      <td>56</td>\n",
       "      <td>9-May-14</td>\n",
       "      <td>Manjunath</td>\n",
       "      <td>HS</td>\n",
       "      <td>Drama</td>\n",
       "      <td>3</td>\n",
       "      <td>1.75</td>\n",
       "      <td>370106</td>\n",
       "      <td>991</td>\n",
       "      <td>35</td>\n",
       "    </tr>\n",
       "    <tr>\n",
       "      <th>126</th>\n",
       "      <td>127</td>\n",
       "      <td>11-Oct-13</td>\n",
       "      <td>Baat Ban Gayi</td>\n",
       "      <td>FS</td>\n",
       "      <td>Comedy</td>\n",
       "      <td>4</td>\n",
       "      <td>1.50</td>\n",
       "      <td>23186</td>\n",
       "      <td>9</td>\n",
       "      <td>4</td>\n",
       "    </tr>\n",
       "    <tr>\n",
       "      <th>...</th>\n",
       "      <td>...</td>\n",
       "      <td>...</td>\n",
       "      <td>...</td>\n",
       "      <td>...</td>\n",
       "      <td>...</td>\n",
       "      <td>...</td>\n",
       "      <td>...</td>\n",
       "      <td>...</td>\n",
       "      <td>...</td>\n",
       "      <td>...</td>\n",
       "    </tr>\n",
       "    <tr>\n",
       "      <th>119</th>\n",
       "      <td>120</td>\n",
       "      <td>1-Nov-13</td>\n",
       "      <td>Krrish 3</td>\n",
       "      <td>FS</td>\n",
       "      <td>Action</td>\n",
       "      <td>115</td>\n",
       "      <td>300.00</td>\n",
       "      <td>23171067</td>\n",
       "      <td>72070</td>\n",
       "      <td>11888</td>\n",
       "    </tr>\n",
       "    <tr>\n",
       "      <th>41</th>\n",
       "      <td>42</td>\n",
       "      <td>24-Jan-14</td>\n",
       "      <td>Jai Ho</td>\n",
       "      <td>N</td>\n",
       "      <td>Action</td>\n",
       "      <td>120</td>\n",
       "      <td>111.00</td>\n",
       "      <td>868743</td>\n",
       "      <td>2783</td>\n",
       "      <td>404</td>\n",
       "    </tr>\n",
       "    <tr>\n",
       "      <th>26</th>\n",
       "      <td>27</td>\n",
       "      <td>24-Oct-14</td>\n",
       "      <td>Happy New Year</td>\n",
       "      <td>LW</td>\n",
       "      <td>Drama</td>\n",
       "      <td>125</td>\n",
       "      <td>383.00</td>\n",
       "      <td>6395202</td>\n",
       "      <td>37585</td>\n",
       "      <td>10269</td>\n",
       "    </tr>\n",
       "    <tr>\n",
       "      <th>92</th>\n",
       "      <td>93</td>\n",
       "      <td>2-Oct-14</td>\n",
       "      <td>Bang Bang</td>\n",
       "      <td>FS</td>\n",
       "      <td>Action</td>\n",
       "      <td>140</td>\n",
       "      <td>340.00</td>\n",
       "      <td>15889811</td>\n",
       "      <td>61805</td>\n",
       "      <td>6283</td>\n",
       "    </tr>\n",
       "    <tr>\n",
       "      <th>148</th>\n",
       "      <td>149</td>\n",
       "      <td>23-May-14</td>\n",
       "      <td>Kochadaiiyaan</td>\n",
       "      <td>HS</td>\n",
       "      <td>Action</td>\n",
       "      <td>150</td>\n",
       "      <td>120.00</td>\n",
       "      <td>4740727</td>\n",
       "      <td>13466</td>\n",
       "      <td>2649</td>\n",
       "    </tr>\n",
       "  </tbody>\n",
       "</table>\n",
       "<p>149 rows × 10 columns</p>\n",
       "</div>"
      ],
      "text/plain": [
       "     SlNo Release Date       MovieName ReleaseTime    Genre  Budget  \\\n",
       "60     61     9-May-14         Mastram          HS   Comedy       2   \n",
       "9      10    11-Jan-13       Gangoobai           N   Drama        2   \n",
       "104   105    12-Jul-13       B.A. Pass           N   Drama        2   \n",
       "55     56     9-May-14       Manjunath          HS   Drama        3   \n",
       "126   127    11-Oct-13   Baat Ban Gayi          FS   Comedy       4   \n",
       "..    ...          ...             ...         ...      ...     ...   \n",
       "119   120     1-Nov-13        Krrish 3          FS   Action     115   \n",
       "41     42    24-Jan-14          Jai Ho           N   Action     120   \n",
       "26     27    24-Oct-14  Happy New Year          LW   Drama      125   \n",
       "92     93     2-Oct-14       Bang Bang          FS   Action     140   \n",
       "148   149    23-May-14   Kochadaiiyaan          HS   Action     150   \n",
       "\n",
       "     BoxOfficeCollection  YoutubeViews  YoutubeLikes  YoutubeDislikes  \n",
       "60                  3.00       3557585          3927             1364  \n",
       "9                   0.01          4354             1                1  \n",
       "104                 5.90       2240961           842              348  \n",
       "55                  1.75        370106           991               35  \n",
       "126                 1.50         23186             9                4  \n",
       "..                   ...           ...           ...              ...  \n",
       "119               300.00      23171067         72070            11888  \n",
       "41                111.00        868743          2783              404  \n",
       "26                383.00       6395202         37585            10269  \n",
       "92                340.00      15889811         61805             6283  \n",
       "148               120.00       4740727         13466             2649  \n",
       "\n",
       "[149 rows x 10 columns]"
      ]
     },
     "execution_count": 52,
     "metadata": {},
     "output_type": "execute_result"
    }
   ],
   "source": [
    "df.sort_values(\"Budget\")"
   ]
  },
  {
   "cell_type": "code",
   "execution_count": 53,
   "id": "35a60764",
   "metadata": {},
   "outputs": [
    {
     "data": {
      "text/plain": [
       "Index(['SlNo', 'Release Date', 'MovieName', 'ReleaseTime', 'Genre', 'Budget',\n",
       "       'BoxOfficeCollection', 'YoutubeViews', 'YoutubeLikes',\n",
       "       'YoutubeDislikes'],\n",
       "      dtype='object')"
      ]
     },
     "execution_count": 53,
     "metadata": {},
     "output_type": "execute_result"
    }
   ],
   "source": [
    "df.columns"
   ]
  },
  {
   "cell_type": "code",
   "execution_count": 54,
   "id": "e7267bc6",
   "metadata": {},
   "outputs": [
    {
     "data": {
      "text/plain": [
       "array(['Romance', 'Thriller ', 'Comedy', ' Drama ', 'Action ', 'Action',\n",
       "       'Thriller'], dtype=object)"
      ]
     },
     "execution_count": 54,
     "metadata": {},
     "output_type": "execute_result"
    }
   ],
   "source": [
    "df.Genre.unique()"
   ]
  },
  {
   "cell_type": "code",
   "execution_count": null,
   "id": "dc8b998d",
   "metadata": {},
   "outputs": [],
   "source": []
  },
  {
   "cell_type": "code",
   "execution_count": 55,
   "id": "af4b525a",
   "metadata": {},
   "outputs": [
    {
     "data": {
      "text/plain": [
       "Comedy       36\n",
       " Drama       35\n",
       "Thriller     26\n",
       "Romance      25\n",
       "Action       21\n",
       "Thriller      3\n",
       "Action        3\n",
       "Name: Genre, dtype: int64"
      ]
     },
     "execution_count": 55,
     "metadata": {},
     "output_type": "execute_result"
    }
   ],
   "source": [
    "a=df[\"Genre\"].value_counts()\n",
    "a"
   ]
  },
  {
   "cell_type": "code",
   "execution_count": 56,
   "id": "d6ba24bb",
   "metadata": {},
   "outputs": [],
   "source": [
    "a=df[\"Genre\"].value_counts()"
   ]
  },
  {
   "cell_type": "code",
   "execution_count": 57,
   "id": "cf654d73",
   "metadata": {},
   "outputs": [
    {
     "data": {
      "text/plain": [
       "pandas.core.series.Series"
      ]
     },
     "execution_count": 57,
     "metadata": {},
     "output_type": "execute_result"
    }
   ],
   "source": [
    "type(a)"
   ]
  },
  {
   "cell_type": "code",
   "execution_count": 58,
   "id": "8479d2b1",
   "metadata": {},
   "outputs": [
    {
     "data": {
      "text/plain": [
       "Comedy    36\n",
       "Name: Genre, dtype: int64"
      ]
     },
     "execution_count": 58,
     "metadata": {},
     "output_type": "execute_result"
    }
   ],
   "source": [
    "a[a==df[\"Genre\"].value_counts().max()]\n"
   ]
  },
  {
   "cell_type": "code",
   "execution_count": 59,
   "id": "63629b7a",
   "metadata": {},
   "outputs": [
    {
     "name": "stdout",
     "output_type": "stream",
     "text": [
      "<pandas.core.groupby.generic.DataFrameGroupBy object at 0x000001F4EF0CACA0>\n"
     ]
    }
   ],
   "source": [
    "print(df.groupby([\"Genre\"]))"
   ]
  },
  {
   "cell_type": "code",
   "execution_count": 60,
   "id": "0c1bc17d",
   "metadata": {},
   "outputs": [
    {
     "name": "stdout",
     "output_type": "stream",
     "text": [
      "{' Drama ': [3, 5, 9, 23, 25, 26, 27, 29, 33, 34, 40, 49, 55, 56, 58, 63, 69, 70, 74, 76, 81, 86, 89, 101, 102, 104, 118, 120, 127, 128, 133, 134, 135, 139, 141], 'Action': [15, 22, 35, 36, 41, 43, 48, 54, 61, 77, 78, 91, 92, 100, 107, 119, 130, 136, 138, 143, 148], 'Action ': [10, 13, 21], 'Comedy': [2, 4, 6, 7, 8, 14, 17, 18, 19, 39, 46, 47, 52, 57, 59, 60, 65, 72, 75, 79, 84, 85, 87, 95, 96, 111, 112, 115, 124, 125, 126, 129, 132, 144, 146, 147], 'Romance': [0, 11, 12, 24, 32, 37, 42, 45, 50, 64, 66, 67, 80, 82, 83, 90, 97, 105, 106, 109, 110, 122, 123, 131, 142], 'Thriller': [28, 30, 31, 38, 44, 51, 53, 62, 68, 71, 73, 88, 93, 94, 98, 99, 103, 108, 113, 114, 116, 117, 121, 137, 140, 145], 'Thriller ': [1, 16, 20]}\n"
     ]
    }
   ],
   "source": [
    "a=df.groupby([\"Genre\"])\n",
    "print(a.groups)\n"
   ]
  },
  {
   "cell_type": "code",
   "execution_count": 61,
   "id": "3baf35a0",
   "metadata": {},
   "outputs": [
    {
     "data": {
      "text/plain": [
       "{(' Drama ', 'FS'): [23, 40, 127, 128], (' Drama ', 'HS'): [5, 29, 49, 55, 89, 133], (' Drama ', 'LW'): [26], (' Drama ', 'N'): [3, 9, 25, 27, 33, 34, 56, 58, 63, 69, 70, 74, 76, 81, 86, 101, 102, 104, 118, 120, 134, 135, 139, 141], ('Action', 'FS'): [92, 119, 143], ('Action', 'HS'): [36, 48, 148], ('Action', 'LW'): [61, 78, 130], ('Action', 'N'): [15, 22, 35, 41, 43, 54, 77, 91, 100, 107, 136, 138], ('Action ', 'N'): [10, 13, 21], ('Comedy', 'FS'): [115, 125, 126], ('Comedy', 'HS'): [17, 19, 39, 60, 85], ('Comedy', 'LW'): [8, 52, 59, 96, 132], ('Comedy', 'N'): [2, 4, 6, 7, 14, 18, 46, 47, 57, 65, 72, 75, 79, 84, 87, 95, 111, 112, 124, 129, 144, 146, 147], ('Romance', 'FS'): [106, 122, 142], ('Romance', 'HS'): [12, 32, 67], ('Romance', 'LW'): [0, 80, 83, 131], ('Romance', 'N'): [11, 24, 37, 42, 45, 50, 64, 66, 82, 90, 97, 105, 109, 110, 123], ('Thriller', 'FS'): [31, 62, 116, 121], ('Thriller', 'HS'): [99], ('Thriller', 'LW'): [114], ('Thriller', 'N'): [28, 30, 38, 44, 51, 53, 68, 71, 73, 88, 93, 94, 98, 103, 108, 113, 117, 137, 140, 145], ('Thriller ', 'LW'): [16], ('Thriller ', 'N'): [1, 20]}"
      ]
     },
     "execution_count": 61,
     "metadata": {},
     "output_type": "execute_result"
    }
   ],
   "source": [
    "b=df.groupby([\"Genre\",\"ReleaseTime\"]).groups\n",
    "b"
   ]
  },
  {
   "cell_type": "code",
   "execution_count": 62,
   "id": "a07e1644",
   "metadata": {},
   "outputs": [
    {
     "data": {
      "text/plain": [
       "Genre      ReleaseTime\n",
       " Drama     FS              4\n",
       "           HS              6\n",
       "           LW              1\n",
       "           N              24\n",
       "Action     FS              3\n",
       "           HS              3\n",
       "           LW              3\n",
       "           N              12\n",
       "Action     N               3\n",
       "Comedy     FS              3\n",
       "           HS              5\n",
       "           LW              5\n",
       "           N              23\n",
       "Romance    FS              3\n",
       "           HS              3\n",
       "           LW              4\n",
       "           N              15\n",
       "Thriller   FS              4\n",
       "           HS              1\n",
       "           LW              1\n",
       "           N              20\n",
       "Thriller   LW              1\n",
       "           N               2\n",
       "Name: Genre, dtype: int64"
      ]
     },
     "execution_count": 62,
     "metadata": {},
     "output_type": "execute_result"
    }
   ],
   "source": [
    "c=df.groupby([\"Genre\",\"ReleaseTime\"])[\"Genre\"].count()\n",
    "c"
   ]
  },
  {
   "cell_type": "code",
   "execution_count": 63,
   "id": "75f37e28",
   "metadata": {},
   "outputs": [
    {
     "data": {
      "text/plain": [
       "(149, 10)"
      ]
     },
     "execution_count": 63,
     "metadata": {},
     "output_type": "execute_result"
    }
   ],
   "source": [
    "#How many records are present in the dataset? Print the metadata information of the dataset.\n",
    "df.shape"
   ]
  },
  {
   "cell_type": "code",
   "execution_count": 64,
   "id": "b80d3ca6",
   "metadata": {},
   "outputs": [
    {
     "name": "stdout",
     "output_type": "stream",
     "text": [
      "Comedy       36\n",
      " Drama       35\n",
      "Thriller     26\n",
      "Romance      25\n",
      "Action       21\n",
      "Thriller      3\n",
      "Action        3\n",
      "Name: Genre, dtype: int64\n"
     ]
    },
    {
     "data": {
      "text/plain": [
       "N     99\n",
       "HS    18\n",
       "FS    17\n",
       "LW    15\n",
       "Name: ReleaseTime, dtype: int64"
      ]
     },
     "execution_count": 64,
     "metadata": {},
     "output_type": "execute_result"
    }
   ],
   "source": [
    "#How many movies got released in each genre? Which genre had highest number of releases? Sort number of releases in each genre in descending order.\n",
    "a=df[\"Genre\"].value_counts()\n",
    "print(a)\n",
    "type(a)\n",
    "a[a==df[\"Genre\"].value_counts().max()]\n",
    "#finding the number of movies by release time sorted in the descending order\n",
    "df.ReleaseTime.value_counts()"
   ]
  },
  {
   "cell_type": "code",
   "execution_count": 65,
   "id": "7e991d15",
   "metadata": {},
   "outputs": [
    {
     "data": {
      "text/plain": [
       "Genre      ReleaseTime\n",
       " Drama     FS              4\n",
       "           HS              6\n",
       "           LW              1\n",
       "           N              24\n",
       "Action     FS              3\n",
       "           HS              3\n",
       "           LW              3\n",
       "           N              12\n",
       "Action     N               3\n",
       "Comedy     FS              3\n",
       "           HS              5\n",
       "           LW              5\n",
       "           N              23\n",
       "Romance    FS              3\n",
       "           HS              3\n",
       "           LW              4\n",
       "           N              15\n",
       "Thriller   FS              4\n",
       "           HS              1\n",
       "           LW              1\n",
       "           N              20\n",
       "Thriller   LW              1\n",
       "           N               2\n",
       "Name: Genre, dtype: int64"
      ]
     },
     "execution_count": 65,
     "metadata": {},
     "output_type": "execute_result"
    }
   ],
   "source": [
    "#How many movies in each genre got released in different release times like long weekend, festive season, etc. (Note: Do a cross tabulation between Genre and ReleaseTime.)\n",
    "a=df.groupby([\"Genre\",\"ReleaseTime\"])[\"Genre\"].count()\n",
    "a"
   ]
  },
  {
   "cell_type": "code",
   "execution_count": 66,
   "id": "3131226b",
   "metadata": {},
   "outputs": [
    {
     "name": "stdout",
     "output_type": "stream",
     "text": [
      " Drama      4\n",
      "Thriller    4\n",
      "Action      3\n",
      "Romance     3\n",
      "Comedy      3\n",
      "Name: Genre, dtype: int64\n"
     ]
    },
    {
     "data": {
      "text/html": [
       "<div>\n",
       "<style scoped>\n",
       "    .dataframe tbody tr th:only-of-type {\n",
       "        vertical-align: middle;\n",
       "    }\n",
       "\n",
       "    .dataframe tbody tr th {\n",
       "        vertical-align: top;\n",
       "    }\n",
       "\n",
       "    .dataframe thead th {\n",
       "        text-align: right;\n",
       "    }\n",
       "</style>\n",
       "<table border=\"1\" class=\"dataframe\">\n",
       "  <thead>\n",
       "    <tr style=\"text-align: right;\">\n",
       "      <th>ReleaseTime</th>\n",
       "      <th>FS</th>\n",
       "      <th>HS</th>\n",
       "      <th>LW</th>\n",
       "      <th>N</th>\n",
       "    </tr>\n",
       "    <tr>\n",
       "      <th>Genre</th>\n",
       "      <th></th>\n",
       "      <th></th>\n",
       "      <th></th>\n",
       "      <th></th>\n",
       "    </tr>\n",
       "  </thead>\n",
       "  <tbody>\n",
       "    <tr>\n",
       "      <th>Drama</th>\n",
       "      <td>4</td>\n",
       "      <td>6</td>\n",
       "      <td>1</td>\n",
       "      <td>24</td>\n",
       "    </tr>\n",
       "    <tr>\n",
       "      <th>Action</th>\n",
       "      <td>3</td>\n",
       "      <td>3</td>\n",
       "      <td>3</td>\n",
       "      <td>12</td>\n",
       "    </tr>\n",
       "    <tr>\n",
       "      <th>Action</th>\n",
       "      <td>0</td>\n",
       "      <td>0</td>\n",
       "      <td>0</td>\n",
       "      <td>3</td>\n",
       "    </tr>\n",
       "    <tr>\n",
       "      <th>Comedy</th>\n",
       "      <td>3</td>\n",
       "      <td>5</td>\n",
       "      <td>5</td>\n",
       "      <td>23</td>\n",
       "    </tr>\n",
       "    <tr>\n",
       "      <th>Romance</th>\n",
       "      <td>3</td>\n",
       "      <td>3</td>\n",
       "      <td>4</td>\n",
       "      <td>15</td>\n",
       "    </tr>\n",
       "    <tr>\n",
       "      <th>Thriller</th>\n",
       "      <td>4</td>\n",
       "      <td>1</td>\n",
       "      <td>1</td>\n",
       "      <td>20</td>\n",
       "    </tr>\n",
       "    <tr>\n",
       "      <th>Thriller</th>\n",
       "      <td>0</td>\n",
       "      <td>0</td>\n",
       "      <td>1</td>\n",
       "      <td>2</td>\n",
       "    </tr>\n",
       "  </tbody>\n",
       "</table>\n",
       "</div>"
      ],
      "text/plain": [
       "ReleaseTime  FS  HS  LW   N\n",
       "Genre                      \n",
       " Drama        4   6   1  24\n",
       "Action        3   3   3  12\n",
       "Action        0   0   0   3\n",
       "Comedy        3   5   5  23\n",
       "Romance       3   3   4  15\n",
       "Thriller      4   1   1  20\n",
       "Thriller      0   0   1   2"
      ]
     },
     "execution_count": 66,
     "metadata": {},
     "output_type": "execute_result"
    }
   ],
   "source": [
    "#Which genre had highest number of releases during the Festive Season?\n",
    "b=df[df.ReleaseTime==\"FS\"].Genre.value_counts()\n",
    "print(b)\n",
    "#How many movies in each genre got released in different release times like long weekend, festive season, etc.\n",
    "import pandas as pd\n",
    "pd.crosstab(index=df[\"Genre\"],columns=df[\"ReleaseTime\"])\n"
   ]
  },
  {
   "cell_type": "code",
   "execution_count": 67,
   "id": "b948e13e",
   "metadata": {},
   "outputs": [
    {
     "data": {
      "text/plain": [
       "2014    70\n",
       "2013    67\n",
       "2015    12\n",
       "Name: year, dtype: int64"
      ]
     },
     "execution_count": 67,
     "metadata": {},
     "output_type": "execute_result"
    }
   ],
   "source": [
    "#finding the year when the maximum number of movies were released\n",
    "df[\"Release Date\"]=pd.to_datetime(df[\"Release Date\"])\n",
    "df[\"year\"]=df[\"Release Date\"].dt.year\n",
    "df.year.value_counts()"
   ]
  },
  {
   "cell_type": "code",
   "execution_count": 68,
   "id": "2bc1fc42",
   "metadata": {},
   "outputs": [
    {
     "data": {
      "text/html": [
       "<div>\n",
       "<style scoped>\n",
       "    .dataframe tbody tr th:only-of-type {\n",
       "        vertical-align: middle;\n",
       "    }\n",
       "\n",
       "    .dataframe tbody tr th {\n",
       "        vertical-align: top;\n",
       "    }\n",
       "\n",
       "    .dataframe thead th {\n",
       "        text-align: right;\n",
       "    }\n",
       "</style>\n",
       "<table border=\"1\" class=\"dataframe\">\n",
       "  <thead>\n",
       "    <tr style=\"text-align: right;\">\n",
       "      <th></th>\n",
       "      <th>SlNo</th>\n",
       "      <th>Release Date</th>\n",
       "      <th>MovieName</th>\n",
       "      <th>ReleaseTime</th>\n",
       "      <th>Genre</th>\n",
       "      <th>Budget</th>\n",
       "      <th>BoxOfficeCollection</th>\n",
       "      <th>YoutubeViews</th>\n",
       "      <th>YoutubeLikes</th>\n",
       "      <th>YoutubeDislikes</th>\n",
       "      <th>year</th>\n",
       "    </tr>\n",
       "  </thead>\n",
       "  <tbody>\n",
       "    <tr>\n",
       "      <th>0</th>\n",
       "      <td>1</td>\n",
       "      <td>2014-04-18</td>\n",
       "      <td>2 States</td>\n",
       "      <td>LW</td>\n",
       "      <td>Romance</td>\n",
       "      <td>36</td>\n",
       "      <td>104.00</td>\n",
       "      <td>8576361</td>\n",
       "      <td>26622</td>\n",
       "      <td>2527</td>\n",
       "      <td>2014</td>\n",
       "    </tr>\n",
       "    <tr>\n",
       "      <th>1</th>\n",
       "      <td>2</td>\n",
       "      <td>2013-01-04</td>\n",
       "      <td>Table No. 21</td>\n",
       "      <td>N</td>\n",
       "      <td>Thriller</td>\n",
       "      <td>10</td>\n",
       "      <td>12.00</td>\n",
       "      <td>1087320</td>\n",
       "      <td>1129</td>\n",
       "      <td>137</td>\n",
       "      <td>2013</td>\n",
       "    </tr>\n",
       "    <tr>\n",
       "      <th>2</th>\n",
       "      <td>3</td>\n",
       "      <td>2014-07-18</td>\n",
       "      <td>Amit Sahni Ki List</td>\n",
       "      <td>N</td>\n",
       "      <td>Comedy</td>\n",
       "      <td>10</td>\n",
       "      <td>4.00</td>\n",
       "      <td>572336</td>\n",
       "      <td>586</td>\n",
       "      <td>54</td>\n",
       "      <td>2014</td>\n",
       "    </tr>\n",
       "    <tr>\n",
       "      <th>3</th>\n",
       "      <td>4</td>\n",
       "      <td>2013-01-04</td>\n",
       "      <td>Rajdhani Express</td>\n",
       "      <td>N</td>\n",
       "      <td>Drama</td>\n",
       "      <td>7</td>\n",
       "      <td>0.35</td>\n",
       "      <td>42626</td>\n",
       "      <td>86</td>\n",
       "      <td>19</td>\n",
       "      <td>2013</td>\n",
       "    </tr>\n",
       "    <tr>\n",
       "      <th>4</th>\n",
       "      <td>5</td>\n",
       "      <td>2014-07-04</td>\n",
       "      <td>Bobby Jasoos</td>\n",
       "      <td>N</td>\n",
       "      <td>Comedy</td>\n",
       "      <td>18</td>\n",
       "      <td>10.80</td>\n",
       "      <td>3113427</td>\n",
       "      <td>4512</td>\n",
       "      <td>1224</td>\n",
       "      <td>2014</td>\n",
       "    </tr>\n",
       "  </tbody>\n",
       "</table>\n",
       "</div>"
      ],
      "text/plain": [
       "   SlNo Release Date           MovieName ReleaseTime      Genre  Budget  \\\n",
       "0     1   2014-04-18            2 States          LW    Romance      36   \n",
       "1     2   2013-01-04        Table No. 21           N  Thriller       10   \n",
       "2     3   2014-07-18  Amit Sahni Ki List           N     Comedy      10   \n",
       "3     4   2013-01-04    Rajdhani Express           N     Drama        7   \n",
       "4     5   2014-07-04        Bobby Jasoos           N     Comedy      18   \n",
       "\n",
       "   BoxOfficeCollection  YoutubeViews  YoutubeLikes  YoutubeDislikes  year  \n",
       "0               104.00       8576361         26622             2527  2014  \n",
       "1                12.00       1087320          1129              137  2013  \n",
       "2                 4.00        572336           586               54  2014  \n",
       "3                 0.35         42626            86               19  2013  \n",
       "4                10.80       3113427          4512             1224  2014  "
      ]
     },
     "execution_count": 68,
     "metadata": {},
     "output_type": "execute_result"
    }
   ],
   "source": [
    "#4.Which month of the year, maximum number movie releases are seen? (Note: Extract a new column called month from ReleaseDate column.)\n",
    "df.head()"
   ]
  },
  {
   "cell_type": "code",
   "execution_count": 69,
   "id": "3b8cee94",
   "metadata": {},
   "outputs": [
    {
     "ename": "TypeError",
     "evalue": "'Timestamp' object is not subscriptable",
     "output_type": "error",
     "traceback": [
      "\u001b[1;31m---------------------------------------------------------------------------\u001b[0m",
      "\u001b[1;31mTypeError\u001b[0m                                 Traceback (most recent call last)",
      "\u001b[1;32mC:\\Users\\GAJALA~1\\AppData\\Local\\Temp/ipykernel_10224/384424584.py\u001b[0m in \u001b[0;36m<module>\u001b[1;34m\u001b[0m\n\u001b[0;32m      2\u001b[0m \u001b[0ml\u001b[0m\u001b[1;33m=\u001b[0m\u001b[1;33m[\u001b[0m\u001b[1;33m]\u001b[0m\u001b[1;33m\u001b[0m\u001b[1;33m\u001b[0m\u001b[0m\n\u001b[0;32m      3\u001b[0m \u001b[1;32mfor\u001b[0m \u001b[0mi\u001b[0m \u001b[1;32min\u001b[0m \u001b[0mrange\u001b[0m\u001b[1;33m(\u001b[0m\u001b[0mlen\u001b[0m\u001b[1;33m(\u001b[0m\u001b[0mdf\u001b[0m\u001b[1;33m[\u001b[0m\u001b[1;34m\"Release Date\"\u001b[0m\u001b[1;33m]\u001b[0m\u001b[1;33m)\u001b[0m\u001b[1;33m)\u001b[0m\u001b[1;33m:\u001b[0m\u001b[1;33m\u001b[0m\u001b[1;33m\u001b[0m\u001b[0m\n\u001b[1;32m----> 4\u001b[1;33m     \u001b[0ml\u001b[0m\u001b[1;33m.\u001b[0m\u001b[0mappend\u001b[0m\u001b[1;33m(\u001b[0m\u001b[0mdf\u001b[0m\u001b[1;33m.\u001b[0m\u001b[0mloc\u001b[0m\u001b[1;33m[\u001b[0m\u001b[0mi\u001b[0m\u001b[1;33m,\u001b[0m\u001b[1;34m\"Release Date\"\u001b[0m\u001b[1;33m]\u001b[0m\u001b[1;33m[\u001b[0m\u001b[1;33m-\u001b[0m\u001b[1;36m6\u001b[0m\u001b[1;33m:\u001b[0m\u001b[1;33m-\u001b[0m\u001b[1;36m3\u001b[0m\u001b[1;33m]\u001b[0m\u001b[1;33m)\u001b[0m\u001b[1;33m\u001b[0m\u001b[1;33m\u001b[0m\u001b[0m\n\u001b[0m\u001b[0;32m      5\u001b[0m \u001b[0mdf\u001b[0m\u001b[1;33m[\u001b[0m\u001b[1;34m\"month\"\u001b[0m\u001b[1;33m]\u001b[0m\u001b[1;33m=\u001b[0m\u001b[0ml\u001b[0m\u001b[1;33m\u001b[0m\u001b[1;33m\u001b[0m\u001b[0m\n\u001b[0;32m      6\u001b[0m \u001b[0mk\u001b[0m\u001b[1;33m=\u001b[0m\u001b[0mdf\u001b[0m\u001b[1;33m[\u001b[0m\u001b[1;34m\"month\"\u001b[0m\u001b[1;33m]\u001b[0m\u001b[1;33m.\u001b[0m\u001b[0mvalue_counts\u001b[0m\u001b[1;33m(\u001b[0m\u001b[1;33m)\u001b[0m\u001b[1;33m\u001b[0m\u001b[1;33m\u001b[0m\u001b[0m\n",
      "\u001b[1;31mTypeError\u001b[0m: 'Timestamp' object is not subscriptable"
     ]
    }
   ],
   "source": [
    "#extracting month from release date\n",
    "l=[]\n",
    "for i in range(len(df[\"Release Date\"])):\n",
    "    l.append(df.loc[i,\"Release Date\"][-6:-3])\n",
    "df[\"month\"]=l\n",
    "k=df[\"month\"].value_counts()\n",
    "k[k==k.max()]"
   ]
  },
  {
   "cell_type": "code",
   "execution_count": 70,
   "id": "f6fb726a",
   "metadata": {},
   "outputs": [
    {
     "ename": "KeyError",
     "evalue": "'month'",
     "output_type": "error",
     "traceback": [
      "\u001b[1;31m---------------------------------------------------------------------------\u001b[0m",
      "\u001b[1;31mKeyError\u001b[0m                                  Traceback (most recent call last)",
      "\u001b[1;32mC:\\ProgramData\\Anaconda3\\lib\\site-packages\\pandas\\core\\indexes\\base.py\u001b[0m in \u001b[0;36mget_loc\u001b[1;34m(self, key, method, tolerance)\u001b[0m\n\u001b[0;32m   3360\u001b[0m             \u001b[1;32mtry\u001b[0m\u001b[1;33m:\u001b[0m\u001b[1;33m\u001b[0m\u001b[1;33m\u001b[0m\u001b[0m\n\u001b[1;32m-> 3361\u001b[1;33m                 \u001b[1;32mreturn\u001b[0m \u001b[0mself\u001b[0m\u001b[1;33m.\u001b[0m\u001b[0m_engine\u001b[0m\u001b[1;33m.\u001b[0m\u001b[0mget_loc\u001b[0m\u001b[1;33m(\u001b[0m\u001b[0mcasted_key\u001b[0m\u001b[1;33m)\u001b[0m\u001b[1;33m\u001b[0m\u001b[1;33m\u001b[0m\u001b[0m\n\u001b[0m\u001b[0;32m   3362\u001b[0m             \u001b[1;32mexcept\u001b[0m \u001b[0mKeyError\u001b[0m \u001b[1;32mas\u001b[0m \u001b[0merr\u001b[0m\u001b[1;33m:\u001b[0m\u001b[1;33m\u001b[0m\u001b[1;33m\u001b[0m\u001b[0m\n",
      "\u001b[1;32mC:\\ProgramData\\Anaconda3\\lib\\site-packages\\pandas\\_libs\\index.pyx\u001b[0m in \u001b[0;36mpandas._libs.index.IndexEngine.get_loc\u001b[1;34m()\u001b[0m\n",
      "\u001b[1;32mC:\\ProgramData\\Anaconda3\\lib\\site-packages\\pandas\\_libs\\index.pyx\u001b[0m in \u001b[0;36mpandas._libs.index.IndexEngine.get_loc\u001b[1;34m()\u001b[0m\n",
      "\u001b[1;32mpandas\\_libs\\hashtable_class_helper.pxi\u001b[0m in \u001b[0;36mpandas._libs.hashtable.PyObjectHashTable.get_item\u001b[1;34m()\u001b[0m\n",
      "\u001b[1;32mpandas\\_libs\\hashtable_class_helper.pxi\u001b[0m in \u001b[0;36mpandas._libs.hashtable.PyObjectHashTable.get_item\u001b[1;34m()\u001b[0m\n",
      "\u001b[1;31mKeyError\u001b[0m: 'month'",
      "\nThe above exception was the direct cause of the following exception:\n",
      "\u001b[1;31mKeyError\u001b[0m                                  Traceback (most recent call last)",
      "\u001b[1;32mC:\\Users\\GAJALA~1\\AppData\\Local\\Temp/ipykernel_10224/580943423.py\u001b[0m in \u001b[0;36m<module>\u001b[1;34m\u001b[0m\n\u001b[0;32m      1\u001b[0m \u001b[1;31m#5.Which month of the year typically sees most releases of high budgeted movies, that is, movies with budget of 25 crore or more?\u001b[0m\u001b[1;33m\u001b[0m\u001b[1;33m\u001b[0m\u001b[0m\n\u001b[1;32m----> 2\u001b[1;33m \u001b[0mk\u001b[0m\u001b[1;33m=\u001b[0m\u001b[0mpd\u001b[0m\u001b[1;33m.\u001b[0m\u001b[0mcrosstab\u001b[0m\u001b[1;33m(\u001b[0m\u001b[0mindex\u001b[0m\u001b[1;33m=\u001b[0m\u001b[0mdf\u001b[0m\u001b[1;33m[\u001b[0m\u001b[1;34m\"month\"\u001b[0m\u001b[1;33m]\u001b[0m\u001b[1;33m,\u001b[0m\u001b[0mcolumns\u001b[0m\u001b[1;33m=\u001b[0m\u001b[0mdf\u001b[0m\u001b[1;33m[\u001b[0m\u001b[0mdf\u001b[0m\u001b[1;33m[\u001b[0m\u001b[1;34m\"Budget\"\u001b[0m\u001b[1;33m]\u001b[0m\u001b[1;33m>=\u001b[0m\u001b[1;36m25\u001b[0m\u001b[1;33m]\u001b[0m\u001b[1;33m[\u001b[0m\u001b[1;34m\"Budget\"\u001b[0m\u001b[1;33m]\u001b[0m\u001b[1;33m,\u001b[0m\u001b[0mmargins\u001b[0m\u001b[1;33m=\u001b[0m\u001b[1;32mTrue\u001b[0m\u001b[1;33m)\u001b[0m\u001b[1;33m\u001b[0m\u001b[1;33m\u001b[0m\u001b[0m\n\u001b[0m\u001b[0;32m      3\u001b[0m \u001b[0mprint\u001b[0m\u001b[1;33m(\u001b[0m\u001b[0mk\u001b[0m\u001b[1;33m)\u001b[0m\u001b[1;33m\u001b[0m\u001b[1;33m\u001b[0m\u001b[0m\n",
      "\u001b[1;32mC:\\ProgramData\\Anaconda3\\lib\\site-packages\\pandas\\core\\frame.py\u001b[0m in \u001b[0;36m__getitem__\u001b[1;34m(self, key)\u001b[0m\n\u001b[0;32m   3456\u001b[0m             \u001b[1;32mif\u001b[0m \u001b[0mself\u001b[0m\u001b[1;33m.\u001b[0m\u001b[0mcolumns\u001b[0m\u001b[1;33m.\u001b[0m\u001b[0mnlevels\u001b[0m \u001b[1;33m>\u001b[0m \u001b[1;36m1\u001b[0m\u001b[1;33m:\u001b[0m\u001b[1;33m\u001b[0m\u001b[1;33m\u001b[0m\u001b[0m\n\u001b[0;32m   3457\u001b[0m                 \u001b[1;32mreturn\u001b[0m \u001b[0mself\u001b[0m\u001b[1;33m.\u001b[0m\u001b[0m_getitem_multilevel\u001b[0m\u001b[1;33m(\u001b[0m\u001b[0mkey\u001b[0m\u001b[1;33m)\u001b[0m\u001b[1;33m\u001b[0m\u001b[1;33m\u001b[0m\u001b[0m\n\u001b[1;32m-> 3458\u001b[1;33m             \u001b[0mindexer\u001b[0m \u001b[1;33m=\u001b[0m \u001b[0mself\u001b[0m\u001b[1;33m.\u001b[0m\u001b[0mcolumns\u001b[0m\u001b[1;33m.\u001b[0m\u001b[0mget_loc\u001b[0m\u001b[1;33m(\u001b[0m\u001b[0mkey\u001b[0m\u001b[1;33m)\u001b[0m\u001b[1;33m\u001b[0m\u001b[1;33m\u001b[0m\u001b[0m\n\u001b[0m\u001b[0;32m   3459\u001b[0m             \u001b[1;32mif\u001b[0m \u001b[0mis_integer\u001b[0m\u001b[1;33m(\u001b[0m\u001b[0mindexer\u001b[0m\u001b[1;33m)\u001b[0m\u001b[1;33m:\u001b[0m\u001b[1;33m\u001b[0m\u001b[1;33m\u001b[0m\u001b[0m\n\u001b[0;32m   3460\u001b[0m                 \u001b[0mindexer\u001b[0m \u001b[1;33m=\u001b[0m \u001b[1;33m[\u001b[0m\u001b[0mindexer\u001b[0m\u001b[1;33m]\u001b[0m\u001b[1;33m\u001b[0m\u001b[1;33m\u001b[0m\u001b[0m\n",
      "\u001b[1;32mC:\\ProgramData\\Anaconda3\\lib\\site-packages\\pandas\\core\\indexes\\base.py\u001b[0m in \u001b[0;36mget_loc\u001b[1;34m(self, key, method, tolerance)\u001b[0m\n\u001b[0;32m   3361\u001b[0m                 \u001b[1;32mreturn\u001b[0m \u001b[0mself\u001b[0m\u001b[1;33m.\u001b[0m\u001b[0m_engine\u001b[0m\u001b[1;33m.\u001b[0m\u001b[0mget_loc\u001b[0m\u001b[1;33m(\u001b[0m\u001b[0mcasted_key\u001b[0m\u001b[1;33m)\u001b[0m\u001b[1;33m\u001b[0m\u001b[1;33m\u001b[0m\u001b[0m\n\u001b[0;32m   3362\u001b[0m             \u001b[1;32mexcept\u001b[0m \u001b[0mKeyError\u001b[0m \u001b[1;32mas\u001b[0m \u001b[0merr\u001b[0m\u001b[1;33m:\u001b[0m\u001b[1;33m\u001b[0m\u001b[1;33m\u001b[0m\u001b[0m\n\u001b[1;32m-> 3363\u001b[1;33m                 \u001b[1;32mraise\u001b[0m \u001b[0mKeyError\u001b[0m\u001b[1;33m(\u001b[0m\u001b[0mkey\u001b[0m\u001b[1;33m)\u001b[0m \u001b[1;32mfrom\u001b[0m \u001b[0merr\u001b[0m\u001b[1;33m\u001b[0m\u001b[1;33m\u001b[0m\u001b[0m\n\u001b[0m\u001b[0;32m   3364\u001b[0m \u001b[1;33m\u001b[0m\u001b[0m\n\u001b[0;32m   3365\u001b[0m         \u001b[1;32mif\u001b[0m \u001b[0mis_scalar\u001b[0m\u001b[1;33m(\u001b[0m\u001b[0mkey\u001b[0m\u001b[1;33m)\u001b[0m \u001b[1;32mand\u001b[0m \u001b[0misna\u001b[0m\u001b[1;33m(\u001b[0m\u001b[0mkey\u001b[0m\u001b[1;33m)\u001b[0m \u001b[1;32mand\u001b[0m \u001b[1;32mnot\u001b[0m \u001b[0mself\u001b[0m\u001b[1;33m.\u001b[0m\u001b[0mhasnans\u001b[0m\u001b[1;33m:\u001b[0m\u001b[1;33m\u001b[0m\u001b[1;33m\u001b[0m\u001b[0m\n",
      "\u001b[1;31mKeyError\u001b[0m: 'month'"
     ]
    }
   ],
   "source": [
    "#5.Which month of the year typically sees most releases of high budgeted movies, that is, movies with budget of 25 crore or more?\n",
    "k=pd.crosstab(index=df[\"month\"],columns=df[df[\"Budget\"]>=25][\"Budget\"],margins=True)\n",
    "print(k)"
   ]
  },
  {
   "cell_type": "code",
   "execution_count": 71,
   "id": "ba70234e",
   "metadata": {},
   "outputs": [
    {
     "ename": "NameError",
     "evalue": "name 'k' is not defined",
     "output_type": "error",
     "traceback": [
      "\u001b[1;31m---------------------------------------------------------------------------\u001b[0m",
      "\u001b[1;31mNameError\u001b[0m                                 Traceback (most recent call last)",
      "\u001b[1;32mC:\\Users\\GAJALA~1\\AppData\\Local\\Temp/ipykernel_10224/3521387246.py\u001b[0m in \u001b[0;36m<module>\u001b[1;34m\u001b[0m\n\u001b[1;32m----> 1\u001b[1;33m \u001b[0mk\u001b[0m\u001b[1;33m=\u001b[0m\u001b[0mk\u001b[0m\u001b[1;33m[\u001b[0m\u001b[1;33m[\u001b[0m\u001b[1;34m\"All\"\u001b[0m\u001b[1;33m]\u001b[0m\u001b[1;33m]\u001b[0m                            \u001b[1;31m#taking only \"all\" column from k which is summation of no of movies above 25 cr\u001b[0m\u001b[1;33m\u001b[0m\u001b[1;33m\u001b[0m\u001b[0m\n\u001b[0m\u001b[0;32m      2\u001b[0m \u001b[0mk\u001b[0m\u001b[1;33m.\u001b[0m\u001b[0mdrop\u001b[0m\u001b[1;33m(\u001b[0m\u001b[1;33m[\u001b[0m\u001b[1;34m\"All\"\u001b[0m\u001b[1;33m]\u001b[0m\u001b[1;33m,\u001b[0m\u001b[0maxis\u001b[0m\u001b[1;33m=\u001b[0m\u001b[1;36m0\u001b[0m\u001b[1;33m,\u001b[0m\u001b[0minplace\u001b[0m\u001b[1;33m=\u001b[0m\u001b[1;32mTrue\u001b[0m\u001b[1;33m)\u001b[0m    \u001b[1;31m#dropping last row all since it doesnt required and effect while finding max valued month\u001b[0m\u001b[1;33m\u001b[0m\u001b[1;33m\u001b[0m\u001b[0m\n\u001b[0;32m      3\u001b[0m \u001b[0mk\u001b[0m\u001b[1;33m[\u001b[0m\u001b[0mk\u001b[0m\u001b[1;33m[\u001b[0m\u001b[1;34m\"All\"\u001b[0m\u001b[1;33m]\u001b[0m\u001b[1;33m==\u001b[0m\u001b[0mk\u001b[0m\u001b[1;33m[\u001b[0m\u001b[1;34m\"All\"\u001b[0m\u001b[1;33m]\u001b[0m\u001b[1;33m.\u001b[0m\u001b[0mmax\u001b[0m\u001b[1;33m(\u001b[0m\u001b[1;33m)\u001b[0m\u001b[1;33m]\u001b[0m\u001b[1;33m\u001b[0m\u001b[1;33m\u001b[0m\u001b[0m\n",
      "\u001b[1;31mNameError\u001b[0m: name 'k' is not defined"
     ]
    }
   ],
   "source": [
    "k=k[[\"All\"]]                            #taking only \"all\" column from k which is summation of no of movies above 25 cr\n",
    "k.drop([\"All\"],axis=0,inplace=True)    #dropping last row all since it doesnt required and effect while finding max valued month\n",
    "k[k[\"All\"]==k[\"All\"].max()]"
   ]
  },
  {
   "cell_type": "code",
   "execution_count": 72,
   "id": "bb8dd7a8",
   "metadata": {},
   "outputs": [
    {
     "data": {
      "text/plain": [
       "0      1.888889\n",
       "1      0.200000\n",
       "2     -0.600000\n",
       "3     -0.950000\n",
       "4     -0.400000\n",
       "         ...   \n",
       "144    1.000000\n",
       "145    1.469231\n",
       "146   -0.625000\n",
       "147    1.378000\n",
       "148   -0.200000\n",
       "Name: ROI, Length: 149, dtype: float64"
      ]
     },
     "execution_count": 72,
     "metadata": {},
     "output_type": "execute_result"
    }
   ],
   "source": [
    "#6.Which are the top 10 movies with maximum return on investment (ROI)? \n",
    "#Calculate return on investment (ROI) as (BoxOfficeCollection – Budget) / Budget.\n",
    "df[\"ROI\"]=(df[\"BoxOfficeCollection\"]-df[\"Budget\"])/df[\"Budget\"]\n",
    "k=df[\"ROI\"]\n",
    "k"
   ]
  },
  {
   "cell_type": "code",
   "execution_count": 73,
   "id": "a712ec8b",
   "metadata": {},
   "outputs": [
    {
     "data": {
      "text/plain": [
       "101    4.466667\n",
       "37     5.500000\n",
       "128    5.666667\n",
       "58     5.933333\n",
       "87     6.240000\n",
       "135    7.500000\n",
       "132    7.514286\n",
       "89     7.647059\n",
       "64     8.166667\n",
       "Name: ROI, dtype: float64"
      ]
     },
     "execution_count": 73,
     "metadata": {},
     "output_type": "execute_result"
    }
   ],
   "source": [
    "m=k.sort_values()[-9:]\n",
    "m"
   ]
  },
  {
   "cell_type": "code",
   "execution_count": 74,
   "id": "2e1bf419",
   "metadata": {},
   "outputs": [],
   "source": [
    "j=m.index"
   ]
  },
  {
   "cell_type": "code",
   "execution_count": 75,
   "id": "820dac0f",
   "metadata": {},
   "outputs": [
    {
     "name": "stdout",
     "output_type": "stream",
     "text": [
      "Bhaag Milkha Bhaag\n",
      "Humpty Sharma Ki Dulhania\n",
      "Shahid\n",
      "Mary Kom\n",
      "Fukrey\n",
      "The Lunchbox\n",
      "Grand Masti\n",
      "PK\n",
      "Aashiqui 2\n"
     ]
    }
   ],
   "source": [
    "for i in j:\n",
    "    print(df.loc[i,\"MovieName\"])"
   ]
  },
  {
   "cell_type": "code",
   "execution_count": 76,
   "id": "47a0a823",
   "metadata": {},
   "outputs": [
    {
     "data": {
      "text/plain": [
       "array(['LW', 'N', 'HS', 'FS'], dtype=object)"
      ]
     },
     "execution_count": 76,
     "metadata": {},
     "output_type": "execute_result"
    }
   ],
   "source": [
    "#7.Do the movies have higher ROI if they get released on festive seasons or long weekend? Calculate the average ROI for different release times\n",
    "df[\"ReleaseTime\"].unique()"
   ]
  },
  {
   "cell_type": "code",
   "execution_count": 77,
   "id": "da452131",
   "metadata": {},
   "outputs": [
    {
     "data": {
      "text/plain": [
       "1.1272053098737973"
      ]
     },
     "execution_count": 77,
     "metadata": {},
     "output_type": "execute_result"
    }
   ],
   "source": [
    "df[df[\"ReleaseTime\"]==\"LW\"][\"ROI\"].mean()"
   ]
  },
  {
   "cell_type": "code",
   "execution_count": 78,
   "id": "0cdacd4d",
   "metadata": {},
   "outputs": [
    {
     "data": {
      "text/plain": [
       "0.6577216305350877"
      ]
     },
     "execution_count": 78,
     "metadata": {},
     "output_type": "execute_result"
    }
   ],
   "source": [
    "df[df[\"ReleaseTime\"]==\"N\"][\"ROI\"].mean()"
   ]
  },
  {
   "cell_type": "code",
   "execution_count": 79,
   "id": "0eda6d59",
   "metadata": {},
   "outputs": [
    {
     "data": {
      "text/plain": [
       "0.8508667840873724"
      ]
     },
     "execution_count": 79,
     "metadata": {},
     "output_type": "execute_result"
    }
   ],
   "source": [
    "df[df[\"ReleaseTime\"]==\"HS\"][\"ROI\"].mean()"
   ]
  },
  {
   "cell_type": "code",
   "execution_count": 80,
   "id": "4052de29",
   "metadata": {},
   "outputs": [
    {
     "data": {
      "text/plain": [
       "0.9738532013595953"
      ]
     },
     "execution_count": 80,
     "metadata": {},
     "output_type": "execute_result"
    }
   ],
   "source": [
    "df[df[\"ReleaseTime\"]==\"FS\"][\"ROI\"].mean()"
   ]
  },
  {
   "cell_type": "markdown",
   "id": "8bdb9199",
   "metadata": {},
   "source": [
    "from the values of means of different ReleaseTime ROI's we can conclude that Long weekend and Festival Season could generate higher ROI values"
   ]
  },
  {
   "cell_type": "code",
   "execution_count": 81,
   "id": "b1f66944",
   "metadata": {},
   "outputs": [
    {
     "data": {
      "text/plain": [
       "(array([64., 40., 19., 11.,  4.,  4.,  2.,  2.,  1.,  2.]),\n",
       " array([  2. ,  16.8,  31.6,  46.4,  61.2,  76. ,  90.8, 105.6, 120.4,\n",
       "        135.2, 150. ]),\n",
       " <BarContainer object of 10 artists>)"
      ]
     },
     "execution_count": 81,
     "metadata": {},
     "output_type": "execute_result"
    },
    {
     "data": {
      "image/png": "[encoded data removed]",
      "text/plain": [
       "<Figure size 432x288 with 1 Axes>"
      ]
     },
     "metadata": {
      "needs_background": "light"
     },
     "output_type": "display_data"
    }
   ],
   "source": [
    "#8.Draw a histogram and a distribution plot to find out the distribution of movie budgets. Interpret the plot to conclude if the most movies are high or low budgeted movies\n",
    "import matplotlib.pyplot as plt\n",
    "import seaborn as sns\n",
    "plt.hist(df[\"Budget\"])"
   ]
  },
  {
   "cell_type": "code",
   "execution_count": 82,
   "id": "c1c70406",
   "metadata": {},
   "outputs": [
    {
     "name": "stderr",
     "output_type": "stream",
     "text": [
      "C:\\ProgramData\\Anaconda3\\lib\\site-packages\\seaborn\\distributions.py:2619: FutureWarning: `distplot` is a deprecated function and will be removed in a future version. Please adapt your code to use either `displot` (a figure-level function with similar flexibility) or `histplot` (an axes-level function for histograms).\n",
      "  warnings.warn(msg, FutureWarning)\n"
     ]
    },
    {
     "data": {
      "text/plain": [
       "<AxesSubplot:xlabel='Budget', ylabel='Density'>"
      ]
     },
     "execution_count": 82,
     "metadata": {},
     "output_type": "execute_result"
    },
    {
     "data": {
      "image/png": "[encoded data removed]",
      "text/plain": [
       "<Figure size 432x288 with 1 Axes>"
      ]
     },
     "metadata": {
      "needs_background": "light"
     },
     "output_type": "display_data"
    }
   ],
   "source": [
    "sns.distplot(df[\"Budget\"])"
   ]
  },
  {
   "cell_type": "markdown",
   "id": "12cdd3e8",
   "metadata": {},
   "source": [
    "*Most movies are less than or equal to 20 Crore Budget"
   ]
  },
  {
   "cell_type": "code",
   "execution_count": 84,
   "id": "bec2d10a",
   "metadata": {},
   "outputs": [
    {
     "name": "stderr",
     "output_type": "stream",
     "text": [
      "C:\\ProgramData\\Anaconda3\\lib\\site-packages\\seaborn\\distributions.py:2619: FutureWarning: `distplot` is a deprecated function and will be removed in a future version. Please adapt your code to use either `displot` (a figure-level function with similar flexibility) or `histplot` (an axes-level function for histograms).\n",
      "  warnings.warn(msg, FutureWarning)\n"
     ]
    },
    {
     "data": {
      "text/plain": [
       "<AxesSubplot:xlabel='ROI', ylabel='Density'>"
      ]
     },
     "execution_count": 84,
     "metadata": {},
     "output_type": "execute_result"
    },
    {
     "data": {
      "image/png": "[encoded data removed]",
      "text/plain": [
       "<Figure size 432x288 with 1 Axes>"
      ]
     },
     "metadata": {
      "needs_background": "light"
     },
     "output_type": "display_data"
    }
   ],
   "source": [
    "#9.Compare the distribution of ROIs between movies with comedy genre and drama. Which genre typically sees higher ROIs?\n",
    "sns.distplot(df[df[\"Genre\"]==\"Comedy\"][\"ROI\"])"
   ]
  },
  {
   "cell_type": "code",
   "execution_count": 88,
   "id": "97ec3838",
   "metadata": {},
   "outputs": [
    {
     "data": {
      "text/plain": [
       "<AxesSubplot:xlabel='ROI', ylabel='Density'>"
      ]
     },
     "execution_count": 88,
     "metadata": {},
     "output_type": "execute_result"
    },
    {
     "data": {
      "image/png": "[encoded data removed]",
      "text/plain": [
       "<Figure size 432x288 with 1 Axes>"
      ]
     },
     "metadata": {
      "needs_background": "light"
     },
     "output_type": "display_data"
    }
   ],
   "source": [
    "sns.distplot(df[df[\"Genre\"]==\" Drama \"][\"ROI\"])"
   ]
  },
  {
   "cell_type": "markdown",
   "id": "817549f5",
   "metadata": {},
   "source": [
    "** Drama has higher ROI"
   ]
  },
  {
   "cell_type": "code",
   "execution_count": 89,
   "id": "63e65025",
   "metadata": {},
   "outputs": [
    {
     "data": {
      "text/plain": [
       "0.6825165877731297"
      ]
     },
     "execution_count": 89,
     "metadata": {},
     "output_type": "execute_result"
    }
   ],
   "source": [
    "#10.Is there a correlation between box office collection and YouTube likes? Is the correlation positive or negative?\n",
    "df[\"BoxOfficeCollection\"].corr(df[\"YoutubeLikes\"])"
   ]
  },
  {
   "cell_type": "markdown",
   "id": "5dd3a0f9",
   "metadata": {},
   "source": [
    "The correlation is 0.68 which is the good indicator to show relationship between YouTubeLikes and BoxOfficeCollection and it is positively correlated"
   ]
  },
  {
   "cell_type": "code",
   "execution_count": 94,
   "id": "acd70b92",
   "metadata": {},
   "outputs": [
    {
     "data": {
      "text/plain": [
       "<AxesSubplot:xlabel='Genre', ylabel='YoutubeLikes'>"
      ]
     },
     "execution_count": 94,
     "metadata": {},
     "output_type": "execute_result"
    },
    {
     "data": {
      "image/png": "[encoded data removed]",
      "text/plain": [
       "<Figure size 432x288 with 1 Axes>"
      ]
     },
     "metadata": {
      "needs_background": "light"
     },
     "output_type": "display_data"
    }
   ],
   "source": [
    "#11.Which genre of movies typically sees more YouTube likes? Draw boxplots for each genre of movies to compare.\n",
    "sns.boxplot(data=df,x='Genre',y='YoutubeLikes')"
   ]
  },
  {
   "cell_type": "markdown",
   "id": "91854b4c",
   "metadata": {},
   "source": [
    "actions movies have typically more youtube likes"
   ]
  },
  {
   "cell_type": "code",
   "execution_count": 97,
   "id": "88fb63c4",
   "metadata": {},
   "outputs": [
    {
     "data": {
      "text/plain": [
       "<seaborn.axisgrid.PairGrid at 0x1f4f3f599d0>"
      ]
     },
     "execution_count": 97,
     "metadata": {},
     "output_type": "execute_result"
    },
    {
     "data": {
      "image/png": "[encoded data removed]",
      "text/plain": [
       "<Figure size 1440x1440 with 72 Axes>"
      ]
     },
     "metadata": {
      "needs_background": "light"
     },
     "output_type": "display_data"
    }
   ],
   "source": [
    "#.Which of the variables among Budget, BoxOfficeCollection, YoutubeView, YoutubeLikes, YoutubeDislikes are highly correlated? Note: Draw pair plot or heatmap.\n",
    "sns.pairplot(df)"
   ]
  },
  {
   "cell_type": "code",
   "execution_count": 98,
   "id": "091f3b3b",
   "metadata": {},
   "outputs": [
    {
     "data": {
      "text/html": [
       "<div>\n",
       "<style scoped>\n",
       "    .dataframe tbody tr th:only-of-type {\n",
       "        vertical-align: middle;\n",
       "    }\n",
       "\n",
       "    .dataframe tbody tr th {\n",
       "        vertical-align: top;\n",
       "    }\n",
       "\n",
       "    .dataframe thead th {\n",
       "        text-align: right;\n",
       "    }\n",
       "</style>\n",
       "<table border=\"1\" class=\"dataframe\">\n",
       "  <thead>\n",
       "    <tr style=\"text-align: right;\">\n",
       "      <th></th>\n",
       "      <th>SlNo</th>\n",
       "      <th>Budget</th>\n",
       "      <th>BoxOfficeCollection</th>\n",
       "      <th>YoutubeViews</th>\n",
       "      <th>YoutubeLikes</th>\n",
       "      <th>YoutubeDislikes</th>\n",
       "      <th>year</th>\n",
       "      <th>ROI</th>\n",
       "    </tr>\n",
       "  </thead>\n",
       "  <tbody>\n",
       "    <tr>\n",
       "      <th>SlNo</th>\n",
       "      <td>1.000000</td>\n",
       "      <td>0.116899</td>\n",
       "      <td>0.036908</td>\n",
       "      <td>0.025027</td>\n",
       "      <td>0.018163</td>\n",
       "      <td>0.035949</td>\n",
       "      <td>0.132755</td>\n",
       "      <td>0.037314</td>\n",
       "    </tr>\n",
       "    <tr>\n",
       "      <th>Budget</th>\n",
       "      <td>0.116899</td>\n",
       "      <td>1.000000</td>\n",
       "      <td>0.650401</td>\n",
       "      <td>0.589038</td>\n",
       "      <td>0.608916</td>\n",
       "      <td>0.665343</td>\n",
       "      <td>0.062069</td>\n",
       "      <td>0.072050</td>\n",
       "    </tr>\n",
       "    <tr>\n",
       "      <th>BoxOfficeCollection</th>\n",
       "      <td>0.036908</td>\n",
       "      <td>0.650401</td>\n",
       "      <td>1.000000</td>\n",
       "      <td>0.588632</td>\n",
       "      <td>0.682517</td>\n",
       "      <td>0.623941</td>\n",
       "      <td>0.011673</td>\n",
       "      <td>0.585042</td>\n",
       "    </tr>\n",
       "    <tr>\n",
       "      <th>YoutubeViews</th>\n",
       "      <td>0.025027</td>\n",
       "      <td>0.589038</td>\n",
       "      <td>0.588632</td>\n",
       "      <td>1.000000</td>\n",
       "      <td>0.884055</td>\n",
       "      <td>0.846739</td>\n",
       "      <td>0.280666</td>\n",
       "      <td>0.252847</td>\n",
       "    </tr>\n",
       "    <tr>\n",
       "      <th>YoutubeLikes</th>\n",
       "      <td>0.018163</td>\n",
       "      <td>0.608916</td>\n",
       "      <td>0.682517</td>\n",
       "      <td>0.884055</td>\n",
       "      <td>1.000000</td>\n",
       "      <td>0.859730</td>\n",
       "      <td>0.209155</td>\n",
       "      <td>0.291302</td>\n",
       "    </tr>\n",
       "    <tr>\n",
       "      <th>YoutubeDislikes</th>\n",
       "      <td>0.035949</td>\n",
       "      <td>0.665343</td>\n",
       "      <td>0.623941</td>\n",
       "      <td>0.846739</td>\n",
       "      <td>0.859730</td>\n",
       "      <td>1.000000</td>\n",
       "      <td>0.147098</td>\n",
       "      <td>0.201533</td>\n",
       "    </tr>\n",
       "    <tr>\n",
       "      <th>year</th>\n",
       "      <td>0.132755</td>\n",
       "      <td>0.062069</td>\n",
       "      <td>0.011673</td>\n",
       "      <td>0.280666</td>\n",
       "      <td>0.209155</td>\n",
       "      <td>0.147098</td>\n",
       "      <td>1.000000</td>\n",
       "      <td>-0.081778</td>\n",
       "    </tr>\n",
       "    <tr>\n",
       "      <th>ROI</th>\n",
       "      <td>0.037314</td>\n",
       "      <td>0.072050</td>\n",
       "      <td>0.585042</td>\n",
       "      <td>0.252847</td>\n",
       "      <td>0.291302</td>\n",
       "      <td>0.201533</td>\n",
       "      <td>-0.081778</td>\n",
       "      <td>1.000000</td>\n",
       "    </tr>\n",
       "  </tbody>\n",
       "</table>\n",
       "</div>"
      ],
      "text/plain": [
       "                         SlNo    Budget  BoxOfficeCollection  YoutubeViews  \\\n",
       "SlNo                 1.000000  0.116899             0.036908      0.025027   \n",
       "Budget               0.116899  1.000000             0.650401      0.589038   \n",
       "BoxOfficeCollection  0.036908  0.650401             1.000000      0.588632   \n",
       "YoutubeViews         0.025027  0.589038             0.588632      1.000000   \n",
       "YoutubeLikes         0.018163  0.608916             0.682517      0.884055   \n",
       "YoutubeDislikes      0.035949  0.665343             0.623941      0.846739   \n",
       "year                 0.132755  0.062069             0.011673      0.280666   \n",
       "ROI                  0.037314  0.072050             0.585042      0.252847   \n",
       "\n",
       "                     YoutubeLikes  YoutubeDislikes      year       ROI  \n",
       "SlNo                     0.018163         0.035949  0.132755  0.037314  \n",
       "Budget                   0.608916         0.665343  0.062069  0.072050  \n",
       "BoxOfficeCollection      0.682517         0.623941  0.011673  0.585042  \n",
       "YoutubeViews             0.884055         0.846739  0.280666  0.252847  \n",
       "YoutubeLikes             1.000000         0.859730  0.209155  0.291302  \n",
       "YoutubeDislikes          0.859730         1.000000  0.147098  0.201533  \n",
       "year                     0.209155         0.147098  1.000000 -0.081778  \n",
       "ROI                      0.291302         0.201533 -0.081778  1.000000  "
      ]
     },
     "execution_count": 98,
     "metadata": {},
     "output_type": "execute_result"
    }
   ],
   "source": [
    "df.corr()"
   ]
  },
  {
   "cell_type": "markdown",
   "id": "8e295222",
   "metadata": {},
   "source": [
    "Youtube views and youtube likes are highly correlated"
   ]
  }
 ],
 "metadata": {
  "kernelspec": {
   "display_name": "Python 3 (ipykernel)",
   "language": "python",
   "name": "python3"
  },
  "language_info": {
   "codemirror_mode": {
    "name": "ipython",
    "version": 3
   },
   "file_extension": ".py",
   "mimetype": "text/x-python",
   "name": "python",
   "nbconvert_exporter": "python",
   "pygments_lexer": "ipython3",
   "version": "3.9.7"
  }
 },
 "nbformat": 4,
 "nbformat_minor": 5
}
