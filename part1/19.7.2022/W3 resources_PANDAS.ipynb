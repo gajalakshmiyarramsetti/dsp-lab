{
 "cells": [
  {
   "cell_type": "code",
   "execution_count": 3,
   "id": "2a6acbab",
   "metadata": {},
   "outputs": [
    {
     "name": "stdout",
     "output_type": "stream",
     "text": [
      "0    2\n",
      "1    3\n",
      "2    4\n",
      "3    5\n",
      "4    6\n",
      "dtype: int64\n"
     ]
    }
   ],
   "source": [
    "#Pandas Data Series: Create and display a one-dimensional array-like object containing an array of data\n",
    "import pandas as pd\n",
    "a=[2,3,4,5,6]\n",
    "ds=pd.Series(a)\n",
    "print(ds)"
   ]
  },
  {
   "cell_type": "code",
   "execution_count": 9,
   "id": "1e3a8330",
   "metadata": {},
   "outputs": [
    {
     "name": "stdout",
     "output_type": "stream",
     "text": [
      "pandas series and type\n",
      "0    10\n",
      "1    11\n",
      "2    12\n",
      "3    13\n",
      "dtype: int64\n",
      "<class 'pandas.core.series.Series'>\n",
      "convert pandas series to python list\n",
      "[10, 11, 12, 13]\n",
      "<class 'list'>\n"
     ]
    }
   ],
   "source": [
    "#Write a Pandas program to convert a Panda module Series to Python list and it’s type\n",
    "ds=pd.Series([10,11,12,13])\n",
    "print(\"pandas series and type\")\n",
    "print(ds)\n",
    "print(type(ds))\n",
    "print(\"convert pandas series to python list\")\n",
    "print(ds.tolist())\n",
    "print(type(ds.tolist()))"
   ]
  },
  {
   "cell_type": "code",
   "execution_count": 11,
   "id": "870ebcb2",
   "metadata": {},
   "outputs": [
    {
     "name": "stdout",
     "output_type": "stream",
     "text": [
      "add two Series:\n",
      "0     3\n",
      "1     7\n",
      "2    11\n",
      "3    15\n",
      "4    19\n",
      "5    23\n",
      "dtype: int64\n",
      "subtract two series:\n",
      "0   -1\n",
      "1   -1\n",
      "2   -1\n",
      "3   -1\n",
      "4   -1\n",
      "5   -1\n",
      "dtype: int64\n",
      "multiply two series:\n",
      "0      2\n",
      "1     12\n",
      "2     30\n",
      "3     56\n",
      "4     90\n",
      "5    132\n",
      "dtype: int64\n",
      "divide series1 by series2:\n",
      "0    0.500000\n",
      "1    0.750000\n",
      "2    0.833333\n",
      "3    0.875000\n",
      "4    0.900000\n",
      "5    0.916667\n",
      "dtype: float64\n"
     ]
    }
   ],
   "source": [
    "#Write a Pandas program to add, subtract, multiple and divide two Pandas Series.\n",
    "ds1=pd.Series([1,3,5,7,9,11])\n",
    "ds2=pd.Series([2,4,6,8,10,12])\n",
    "ds=ds1+ds2\n",
    "print(\"add two Series:\")\n",
    "print(ds)\n",
    "print(\"subtract two series:\")\n",
    "ds=ds1-ds2\n",
    "print(ds)\n",
    "print(\"multiply two series:\")\n",
    "ds=ds1*ds2\n",
    "print(ds)\n",
    "print(\"divide series1 by series2:\")\n",
    "ds=ds1/ds2\n",
    "print(ds)"
   ]
  },
  {
   "cell_type": "code",
   "execution_count": 12,
   "id": "6fbd2b2c",
   "metadata": {},
   "outputs": [
    {
     "name": "stdout",
     "output_type": "stream",
     "text": [
      "series:1\n",
      "0    1\n",
      "1    5\n",
      "2    7\n",
      "3    9\n",
      "4    3\n",
      "dtype: int64\n",
      "series:2\n",
      "0    9\n",
      "1    5\n",
      "2    2\n",
      "3    7\n",
      "4    1\n",
      "dtype: int64\n",
      "compare the elements of the said series:\n",
      "Equals:\n",
      "0    False\n",
      "1     True\n",
      "2    False\n",
      "3    False\n",
      "4    False\n",
      "dtype: bool\n",
      "Greater than:\n",
      "0    False\n",
      "1    False\n",
      "2     True\n",
      "3     True\n",
      "4     True\n",
      "dtype: bool\n",
      "less than:\n",
      "0     True\n",
      "1    False\n",
      "2    False\n",
      "3    False\n",
      "4    False\n",
      "dtype: bool\n"
     ]
    }
   ],
   "source": [
    "#Pandas Data Series: Compare the elements of the two Pandas Series\n",
    "import pandas as pd\n",
    "ds1=pd.Series([1,5,7,9,3])\n",
    "ds2=pd.Series([9,5,2,7,1])\n",
    "print(\"series:1\")\n",
    "print(ds1)\n",
    "print(\"series:2\")\n",
    "print(ds2)\n",
    "print(\"compare the elements of the said series:\")\n",
    "print(\"Equals:\")\n",
    "print(ds1==ds2)\n",
    "print(\"Greater than:\")\n",
    "print(ds1>ds2)\n",
    "print(\"less than:\")\n",
    "print(ds1<ds2)"
   ]
  },
  {
   "cell_type": "code",
   "execution_count": 15,
   "id": "0dc4b9d2",
   "metadata": {},
   "outputs": [
    {
     "name": "stdout",
     "output_type": "stream",
     "text": [
      "original dictionary:\n",
      "{'a': 700, 'b': 500, 'c': 200, 'd': 300}\n",
      "converted series:\n",
      "a    700\n",
      "b    500\n",
      "c    200\n",
      "d    300\n",
      "dtype: int64\n"
     ]
    }
   ],
   "source": [
    "#Write a Pandas program to convert a dictionary to a Pandas series.\n",
    "d1={\"a\":700,\"b\":500,\"c\":200,\"d\":300}\n",
    "print(\"original dictionary:\")\n",
    "print(d1)\n",
    "new_series=pd.Series(d1)\n",
    "print(\"converted series:\")\n",
    "print(new_series)"
   ]
  },
  {
   "cell_type": "code",
   "execution_count": 16,
   "id": "e9f7bfd2",
   "metadata": {},
   "outputs": [
    {
     "name": "stdout",
     "output_type": "stream",
     "text": [
      "[10 20 30 40 50]\n",
      "0    10\n",
      "1    20\n",
      "2    30\n",
      "3    40\n",
      "4    50\n",
      "dtype: int32\n"
     ]
    }
   ],
   "source": [
    "#Write a Pandas program to convert a array to a Pandas series.\n",
    "import numpy as np\n",
    "import pandas as pd\n",
    "np_arr=np.array([10,20,30,40,50])\n",
    "print(np_arr)\n",
    "new_series=pd.Series(np_arr)\n",
    "print(new_series)"
   ]
  },
  {
   "cell_type": "code",
   "execution_count": 2,
   "id": "fd4ae3db",
   "metadata": {},
   "outputs": [
    {
     "name": "stdout",
     "output_type": "stream",
     "text": [
      "0        200\n",
      "1    lakshmi\n",
      "2       34.7\n",
      "3       gaja\n",
      "4        700\n",
      "dtype: object\n",
      "0    200.0\n",
      "1      NaN\n",
      "2     34.7\n",
      "3      NaN\n",
      "4    700.0\n",
      "dtype: float64\n"
     ]
    }
   ],
   "source": [
    "#Pandas Data Series: Change the data type of given a column or a Series\n",
    "import pandas as pd\n",
    "s1=pd.Series([\"200\",\"lakshmi\",\"34.7\",\"gaja\",\"700\"])\n",
    "print(s1)\n",
    "s2=pd.to_numeric(s1,errors=\"coerce\") #Returns a tuple consisting of the two numeric arguments converted to a common type.\n",
    "print(s2)"
   ]
  },
  {
   "cell_type": "code",
   "execution_count": 7,
   "id": "8efec3b6",
   "metadata": {},
   "outputs": [
    {
     "name": "stdout",
     "output_type": "stream",
     "text": [
      "   cols1  cols2  cols3\n",
      "0      1      8      5\n",
      "1      2      3      1\n",
      "2      3      4      2\n",
      "3      4      5      3\n",
      "4      6      1      8\n"
     ]
    },
    {
     "ename": "IndexError",
     "evalue": "too many indices for array: array is 1-dimensional, but 2 were indexed",
     "output_type": "error",
     "traceback": [
      "\u001b[1;31m---------------------------------------------------------------------------\u001b[0m",
      "\u001b[1;31mIndexError\u001b[0m                                Traceback (most recent call last)",
      "\u001b[1;32mC:\\Users\\GAJALA~1\\AppData\\Local\\Temp/ipykernel_5028/2597480038.py\u001b[0m in \u001b[0;36m<module>\u001b[1;34m\u001b[0m\n\u001b[0;32m      4\u001b[0m \u001b[0mdf\u001b[0m\u001b[1;33m=\u001b[0m\u001b[0mpd\u001b[0m\u001b[1;33m.\u001b[0m\u001b[0mDataFrame\u001b[0m\u001b[1;33m(\u001b[0m\u001b[0mdata\u001b[0m\u001b[1;33m=\u001b[0m\u001b[0md\u001b[0m\u001b[1;33m)\u001b[0m\u001b[1;33m\u001b[0m\u001b[1;33m\u001b[0m\u001b[0m\n\u001b[0;32m      5\u001b[0m \u001b[0mprint\u001b[0m\u001b[1;33m(\u001b[0m\u001b[0mdf\u001b[0m\u001b[1;33m)\u001b[0m\u001b[1;33m\u001b[0m\u001b[1;33m\u001b[0m\u001b[0m\n\u001b[1;32m----> 6\u001b[1;33m \u001b[0ms1\u001b[0m\u001b[1;33m=\u001b[0m\u001b[0mdf\u001b[0m\u001b[1;33m.\u001b[0m\u001b[0mindex\u001b[0m\u001b[1;33m[\u001b[0m\u001b[1;33m:\u001b[0m\u001b[1;33m,\u001b[0m\u001b[1;36m0\u001b[0m\u001b[1;33m]\u001b[0m\u001b[1;33m\u001b[0m\u001b[1;33m\u001b[0m\u001b[0m\n\u001b[0m\u001b[0;32m      7\u001b[0m \u001b[0mprint\u001b[0m\u001b[1;33m(\u001b[0m\u001b[1;34m\"\\n1st column as a series:\"\u001b[0m\u001b[1;33m)\u001b[0m\u001b[1;33m\u001b[0m\u001b[1;33m\u001b[0m\u001b[0m\n\u001b[0;32m      8\u001b[0m \u001b[0mprint\u001b[0m\u001b[1;33m(\u001b[0m\u001b[0ms1\u001b[0m\u001b[1;33m)\u001b[0m\u001b[1;33m\u001b[0m\u001b[1;33m\u001b[0m\u001b[0m\n",
      "\u001b[1;32mC:\\ProgramData\\Anaconda3\\lib\\site-packages\\pandas\\core\\indexes\\range.py\u001b[0m in \u001b[0;36m__getitem__\u001b[1;34m(self, key)\u001b[0m\n\u001b[0;32m    837\u001b[0m             )\n\u001b[0;32m    838\u001b[0m         \u001b[1;31m# fall back to Int64Index\u001b[0m\u001b[1;33m\u001b[0m\u001b[1;33m\u001b[0m\u001b[0m\n\u001b[1;32m--> 839\u001b[1;33m         \u001b[1;32mreturn\u001b[0m \u001b[0msuper\u001b[0m\u001b[1;33m(\u001b[0m\u001b[1;33m)\u001b[0m\u001b[1;33m.\u001b[0m\u001b[0m__getitem__\u001b[0m\u001b[1;33m(\u001b[0m\u001b[0mkey\u001b[0m\u001b[1;33m)\u001b[0m\u001b[1;33m\u001b[0m\u001b[1;33m\u001b[0m\u001b[0m\n\u001b[0m\u001b[0;32m    840\u001b[0m \u001b[1;33m\u001b[0m\u001b[0m\n\u001b[0;32m    841\u001b[0m     \u001b[1;32mdef\u001b[0m \u001b[0m_getitem_slice\u001b[0m\u001b[1;33m(\u001b[0m\u001b[0mself\u001b[0m\u001b[1;33m:\u001b[0m \u001b[0mRangeIndex\u001b[0m\u001b[1;33m,\u001b[0m \u001b[0mslobj\u001b[0m\u001b[1;33m:\u001b[0m \u001b[0mslice\u001b[0m\u001b[1;33m)\u001b[0m \u001b[1;33m->\u001b[0m \u001b[0mRangeIndex\u001b[0m\u001b[1;33m:\u001b[0m\u001b[1;33m\u001b[0m\u001b[1;33m\u001b[0m\u001b[0m\n",
      "\u001b[1;32mC:\\ProgramData\\Anaconda3\\lib\\site-packages\\pandas\\core\\indexes\\base.py\u001b[0m in \u001b[0;36m__getitem__\u001b[1;34m(self, key)\u001b[0m\n\u001b[0;32m   4614\u001b[0m             \u001b[0mkey\u001b[0m \u001b[1;33m=\u001b[0m \u001b[0mnp\u001b[0m\u001b[1;33m.\u001b[0m\u001b[0masarray\u001b[0m\u001b[1;33m(\u001b[0m\u001b[0mkey\u001b[0m\u001b[1;33m,\u001b[0m \u001b[0mdtype\u001b[0m\u001b[1;33m=\u001b[0m\u001b[0mbool\u001b[0m\u001b[1;33m)\u001b[0m\u001b[1;33m\u001b[0m\u001b[1;33m\u001b[0m\u001b[0m\n\u001b[0;32m   4615\u001b[0m \u001b[1;33m\u001b[0m\u001b[0m\n\u001b[1;32m-> 4616\u001b[1;33m         \u001b[0mresult\u001b[0m \u001b[1;33m=\u001b[0m \u001b[0mgetitem\u001b[0m\u001b[1;33m(\u001b[0m\u001b[0mkey\u001b[0m\u001b[1;33m)\u001b[0m\u001b[1;33m\u001b[0m\u001b[1;33m\u001b[0m\u001b[0m\n\u001b[0m\u001b[0;32m   4617\u001b[0m         \u001b[1;32mif\u001b[0m \u001b[1;32mnot\u001b[0m \u001b[0mis_scalar\u001b[0m\u001b[1;33m(\u001b[0m\u001b[0mresult\u001b[0m\u001b[1;33m)\u001b[0m\u001b[1;33m:\u001b[0m\u001b[1;33m\u001b[0m\u001b[1;33m\u001b[0m\u001b[0m\n\u001b[0;32m   4618\u001b[0m             \u001b[1;31m# error: Argument 1 to \"ndim\" has incompatible type \"Union[ExtensionArray,\u001b[0m\u001b[1;33m\u001b[0m\u001b[1;33m\u001b[0m\u001b[0m\n",
      "\u001b[1;31mIndexError\u001b[0m: too many indices for array: array is 1-dimensional, but 2 were indexed"
     ]
    }
   ],
   "source": [
    "#Pandas Data Series: Convert the first column of a DataFrame as a Series\n",
    "import pandas as pd\n",
    "d={\"cols1\":[1,2,3,4,6],\"cols2\":[8,3,4,5,1],\"cols3\":[5,1,2,3,8]}\n",
    "df=pd.DataFrame(data=d)\n",
    "print(df)\n",
    "s1=df.index[:,0]\n",
    "print(\"\\n1st column as a series:\")\n",
    "print(s1)\n",
    "print(type(s1))\n"
   ]
  },
  {
   "cell_type": "code",
   "execution_count": 8,
   "id": "49c1406e",
   "metadata": {},
   "outputs": [
    {
     "name": "stdout",
     "output_type": "stream",
     "text": [
      "0        200\n",
      "1    lakshmi\n",
      "2       34.7\n",
      "3       gaja\n",
      "4        700\n",
      "dtype: object\n",
      "Series to an array\n",
      "['200' 'lakshmi' '34.7' 'gaja' '700']\n"
     ]
    }
   ],
   "source": [
    "#Pandas Data Series: Convert a given Series to an array\n",
    "import pandas as pd\n",
    "import numpy as np\n",
    "s1=pd.Series([\"200\",\"lakshmi\",34.7,\"gaja\",\"700\"])\n",
    "print(s1)\n",
    "print(\"Series to an array\")\n",
    "a=np.array(s1.tolist())\n",
    "print(a)"
   ]
  },
  {
   "cell_type": "code",
   "execution_count": 12,
   "id": "d2d67254",
   "metadata": {},
   "outputs": [
    {
     "name": "stdout",
     "output_type": "stream",
     "text": [
      "0    [pineapple, mango, apple]\n",
      "1       [custardapple, banana]\n",
      "2              [guava, orange]\n",
      "dtype: object\n",
      "one series\n",
      "0       pineapple\n",
      "1           mango\n",
      "2           apple\n",
      "3    custardapple\n",
      "4          banana\n",
      "5           guava\n",
      "6          orange\n",
      "dtype: object\n"
     ]
    }
   ],
   "source": [
    "#Pandas Data Series: Convert Series of lists to one Series\n",
    "s=pd.Series([['pineapple','mango','apple'],['custardapple','banana'],['guava','orange']])\n",
    "print(s)\n",
    "s=s.apply(pd.Series).stack().reset_index(drop=True)\n",
    "print(\"one series\")\n",
    "print(s)"
   ]
  },
  {
   "cell_type": "code",
   "execution_count": 31,
   "id": "f057736e",
   "metadata": {},
   "outputs": [
    {
     "name": "stdout",
     "output_type": "stream",
     "text": [
      "0        200\n",
      "1    lakshmi\n",
      "2        347\n",
      "3       gaja\n",
      "4        700\n",
      "dtype: object\n",
      "0        200\n",
      "2        347\n",
      "4        700\n",
      "3       gaja\n",
      "1    lakshmi\n",
      "dtype: object\n"
     ]
    }
   ],
   "source": [
    "#Write a Pandas program to sort a given Series.\n",
    "s1=pd.Series([\"200\",\"lakshmi\",\"347\",\"gaja\",\"700\"])\n",
    "print(s1)\n",
    "new_series=pd.Series(s1).sort_values()\n",
    "print(new_series)"
   ]
  },
  {
   "cell_type": "code",
   "execution_count": 33,
   "id": "c381b2bb",
   "metadata": {},
   "outputs": [
    {
     "name": "stdout",
     "output_type": "stream",
     "text": [
      "0        200\n",
      "1    lakshmi\n",
      "2        347\n",
      "3       gaja\n",
      "4        700\n",
      "dtype: object\n",
      "0        200\n",
      "1    lakshmi\n",
      "2        347\n",
      "3       gaja\n",
      "4        700\n",
      "0     chinni\n",
      "1        316\n",
      "dtype: object\n"
     ]
    }
   ],
   "source": [
    "#Pandas Data Series: Add some data to an existing Series\n",
    "s1=pd.Series([\"200\",\"lakshmi\",\"347\",\"gaja\",\"700\"])\n",
    "print(s1)\n",
    "new_series=s1.append(pd.Series([\"chinni\",\"316\"]))\n",
    "print(new_series)"
   ]
  },
  {
   "cell_type": "code",
   "execution_count": 14,
   "id": "dd5935eb",
   "metadata": {},
   "outputs": [
    {
     "name": "stdout",
     "output_type": "stream",
     "text": [
      "0        200\n",
      "1    lakshmi\n",
      "2        347\n",
      "3       gaja\n",
      "4        700\n",
      "dtype: object\n",
      "0        200\n",
      "1    lakshmi\n",
      "2        347\n",
      "3       gaja\n",
      "4        700\n",
      "5     chinni\n",
      "6        316\n",
      "dtype: object\n"
     ]
    }
   ],
   "source": [
    "#reset the index\n",
    "s1=pd.Series([\"200\",\"lakshmi\",\"347\",\"gaja\",\"700\"])\n",
    "print(s1)\n",
    "new_series=s1.append(pd.Series([\"chinni\",\"316\"])).reset_index(drop=True)\n",
    "print(new_series)"
   ]
  },
  {
   "cell_type": "code",
   "execution_count": 16,
   "id": "b62c34af",
   "metadata": {},
   "outputs": [
    {
     "name": "stdout",
     "output_type": "stream",
     "text": [
      "0    0\n",
      "1    1\n",
      "2    2\n",
      "3    3\n",
      "4    4\n",
      "5    5\n",
      "6    6\n",
      "7    7\n",
      "8    8\n",
      "9    9\n",
      "dtype: int64\n",
      "0    0\n",
      "1    1\n",
      "2    2\n",
      "3    3\n",
      "4    4\n",
      "dtype: int64\n"
     ]
    }
   ],
   "source": [
    "#Pandas Data Series: Create a subset of a given series based on value and condition\n",
    "s=pd.Series([0,1,2,3,4,5,6,7,8,9])\n",
    "print(s)\n",
    "n=5\n",
    "new_series=s[s<n]\n",
    "print(new_series)"
   ]
  },
  {
   "cell_type": "code",
   "execution_count": 42,
   "id": "6e416b28",
   "metadata": {},
   "outputs": [
    {
     "name": "stdout",
     "output_type": "stream",
     "text": [
      "A    1\n",
      "B    2\n",
      "C    3\n",
      "D    4\n",
      "E    5\n",
      "dtype: int64\n",
      "B    2\n",
      "A    1\n",
      "C    3\n",
      "D    4\n",
      "E    5\n",
      "dtype: int64\n"
     ]
    }
   ],
   "source": [
    "#Pandas Data Series: Change the order of index of a given series\n",
    "s=pd.Series(data=[1,2,3,4,5],index=[\"A\",\"B\",\"C\",\"D\",\"E\"])\n",
    "print(s)\n",
    "s=s.reindex(index=[\"B\",\"A\",\"C\",\"D\",\"E\"])\n",
    "print(s)"
   ]
  },
  {
   "cell_type": "code",
   "execution_count": 43,
   "id": "b5997736",
   "metadata": {},
   "outputs": [
    {
     "name": "stdout",
     "output_type": "stream",
     "text": [
      "0    0\n",
      "1    1\n",
      "2    2\n",
      "3    3\n",
      "4    4\n",
      "5    5\n",
      "6    6\n",
      "7    7\n",
      "8    8\n",
      "9    9\n",
      "dtype: int64\n",
      "mean of the data series\n",
      "4.5\n",
      "standard deviation of the data series\n",
      "3.0276503540974917\n"
     ]
    }
   ],
   "source": [
    "#Pandas Data Series: Create the mean and standard deviation of the data of a given Series\n",
    "s=pd.Series([0,1,2,3,4,5,6,7,8,9])\n",
    "print(s)\n",
    "print(\"mean of the data series\")\n",
    "print(s.mean())\n",
    "print(\"standard deviation of the data series\")\n",
    "print(s.std())"
   ]
  },
  {
   "cell_type": "code",
   "execution_count": 44,
   "id": "e1e8da7f",
   "metadata": {},
   "outputs": [
    {
     "name": "stdout",
     "output_type": "stream",
     "text": [
      "0    1\n",
      "1    2\n",
      "2    3\n",
      "3    4\n",
      "4    5\n",
      "dtype: int64\n",
      "0    3\n",
      "1    7\n",
      "2    2\n",
      "3    6\n",
      "4    8\n",
      "dtype: int64\n",
      "0    1\n",
      "3    4\n",
      "4    5\n",
      "dtype: int64\n"
     ]
    }
   ],
   "source": [
    "#Pandas Data Series: Get the items of a given series not present in another given series\n",
    "s1=pd.Series([1,2,3,4,5])\n",
    "s2=pd.Series([3,7,2,6,8])\n",
    "print(s1)\n",
    "print(s2)\n",
    "result=s1[~s1.isin(s2)]\n",
    "print(result)"
   ]
  },
  {
   "cell_type": "code",
   "execution_count": 49,
   "id": "46f2e5f4",
   "metadata": {},
   "outputs": [
    {
     "name": "stdout",
     "output_type": "stream",
     "text": [
      "0    1\n",
      "1    2\n",
      "2    3\n",
      "3    4\n",
      "4    5\n",
      "dtype: int64\n",
      "0    3\n",
      "1    7\n",
      "2    2\n",
      "3    6\n",
      "4    8\n",
      "dtype: int64\n",
      "0    1\n",
      "3    4\n",
      "4    5\n",
      "5    6\n",
      "6    7\n",
      "7    8\n",
      "dtype: int64\n"
     ]
    }
   ],
   "source": [
    "#Pandas Data Series: Get the items which are not common of two given series\n",
    "s1=pd.Series([1,2,3,4,5])\n",
    "s2=pd.Series([3,7,2,6,8])\n",
    "print(s1)\n",
    "print(s2)\n",
    "s11=pd.Series(np.union1d(s1,s2))\n",
    "s22=pd.Series(np.intersect1d(s1,s2))\n",
    "result=s11[~s11.isin(s22)] #Items of a given series not present in another given series:\n",
    "print(result)"
   ]
  },
  {
   "cell_type": "code",
   "execution_count": 53,
   "id": "4af8ec4f",
   "metadata": {},
   "outputs": [
    {
     "name": "stdout",
     "output_type": "stream",
     "text": [
      "original series:\n",
      "0      3.000938\n",
      "1     11.370722\n",
      "2     14.612143\n",
      "3      8.990256\n",
      "4     13.925283\n",
      "5     12.056875\n",
      "6     10.884719\n",
      "7      5.719827\n",
      "8      9.242017\n",
      "9     11.020006\n",
      "10     8.167892\n",
      "11    11.740654\n",
      "12     7.665620\n",
      "13    13.267388\n",
      "14    12.690883\n",
      "15     9.582355\n",
      "16     7.874878\n",
      "17    14.118931\n",
      "18     8.247458\n",
      "19     5.526727\n",
      "dtype: float64\n"
     ]
    },
    {
     "data": {
      "text/plain": [
       "array([ 3.00093811,  8.09463867, 10.23353705, 12.21537733, 14.61214321])"
      ]
     },
     "execution_count": 53,
     "metadata": {},
     "output_type": "execute_result"
    }
   ],
   "source": [
    "#Pandas Data Series: Compute the minimum, 25th percentile, median, 75th, and maximum of a given series\n",
    "import pandas as pd\n",
    "import numpy as np\n",
    "num_state=np.random.RandomState(100)\n",
    "num_series=pd.Series(num_state.normal(10,4,20))\n",
    "print(\"original series:\")\n",
    "print(num_series)\n",
    "result=np.percentile(num_series,q=[0,25,50,75,100])\n",
    "result"
   ]
  },
  {
   "cell_type": "code",
   "execution_count": 56,
   "id": "ef7c7893",
   "metadata": {},
   "outputs": [
    {
     "name": "stdout",
     "output_type": "stream",
     "text": [
      "0     0\n",
      "1     8\n",
      "2     5\n",
      "3     1\n",
      "4     4\n",
      "5     3\n",
      "6     8\n",
      "7     8\n",
      "8     0\n",
      "9     6\n",
      "10    8\n",
      "11    2\n",
      "12    6\n",
      "13    3\n",
      "14    0\n",
      "15    6\n",
      "16    0\n",
      "17    9\n",
      "18    3\n",
      "19    6\n",
      "20    5\n",
      "21    4\n",
      "22    7\n",
      "23    2\n",
      "24    0\n",
      "25    7\n",
      "26    9\n",
      "27    1\n",
      "28    2\n",
      "29    7\n",
      "dtype: object\n",
      "0    5\n",
      "8    4\n",
      "6    4\n",
      "3    3\n",
      "2    3\n",
      "7    3\n",
      "5    2\n",
      "1    2\n",
      "4    2\n",
      "9    2\n",
      "dtype: int64\n"
     ]
    }
   ],
   "source": [
    "#Pandas Data Series: Calculate the frequency counts of each unique value of a given series\n",
    "num=pd.Series(np.take(list('0123456789'),np.random.randint(10,size=30)))\n",
    "print(num)\n",
    "result=num.value_counts()\n",
    "print(result)"
   ]
  },
  {
   "cell_type": "code",
   "execution_count": 59,
   "id": "3f770ae2",
   "metadata": {},
   "outputs": [
    {
     "name": "stdout",
     "output_type": "stream",
     "text": [
      "0     2\n",
      "1     3\n",
      "2     3\n",
      "3     4\n",
      "4     3\n",
      "5     3\n",
      "6     4\n",
      "7     4\n",
      "8     1\n",
      "9     4\n",
      "10    3\n",
      "11    2\n",
      "12    1\n",
      "13    1\n",
      "14    4\n",
      "dtype: int32\n",
      "top 2 freq: 3    5\n",
      "4    5\n",
      "1    3\n",
      "2    2\n",
      "dtype: int64\n",
      "0     OTHER\n",
      "1         3\n",
      "2         3\n",
      "3     OTHER\n",
      "4         3\n",
      "5         3\n",
      "6     OTHER\n",
      "7     OTHER\n",
      "8     OTHER\n",
      "9     OTHER\n",
      "10        3\n",
      "11    OTHER\n",
      "12    OTHER\n",
      "13    OTHER\n",
      "14    OTHER\n",
      "dtype: object\n"
     ]
    }
   ],
   "source": [
    "#Pandas Data Series: Display most frequent value in a given series and replace everything else as ‘Other’ in the series\n",
    "np.random.RandomState(100)\n",
    "num=pd.Series(np.random.randint(1,5,[15]))\n",
    "print(num)\n",
    "print(\"top 2 freq:\",num.value_counts())\n",
    "result=num[~num.isin(num.value_counts().index[:1])]=\"OTHER\"\n",
    "print(num)"
   ]
  },
  {
   "cell_type": "code",
   "execution_count": 67,
   "id": "2b995f2c",
   "metadata": {},
   "outputs": [
    {
     "name": "stdout",
     "output_type": "stream",
     "text": [
      "0      4\n",
      "1      1\n",
      "2      8\n",
      "3     10\n",
      "4      6\n",
      "5      3\n",
      "6      4\n",
      "7      9\n",
      "8      5\n",
      "9      6\n",
      "10     5\n",
      "11     5\n",
      "12     1\n",
      "13     7\n",
      "14     7\n",
      "dtype: int32\n",
      "(array([ 3,  8, 10, 11], dtype=int64),)\n"
     ]
    }
   ],
   "source": [
    "#Pandas Data Series: Find the positions of numbers that are multiples of 5 of a given series\n",
    "num=pd.Series(np.random.randint(1,11,15))\n",
    "print(num)\n",
    "result=np.where(num%5==0)\n",
    "print(result)"
   ]
  },
  {
   "cell_type": "code",
   "execution_count": 68,
   "id": "a55aaf5e",
   "metadata": {},
   "outputs": [
    {
     "name": "stdout",
     "output_type": "stream",
     "text": [
      "0     2\n",
      "1     3\n",
      "2     4\n",
      "3     5\n",
      "4     6\n",
      "5     9\n",
      "6     8\n",
      "7     7\n",
      "8     6\n",
      "9     2\n",
      "10    3\n",
      "11    4\n",
      "12    5\n",
      "13    9\n",
      "14    8\n",
      "15    7\n",
      "16    6\n",
      "17    2\n",
      "18    3\n",
      "19    4\n",
      "20    5\n",
      "21    9\n",
      "22    8\n",
      "23    7\n",
      "dtype: object\n"
     ]
    },
    {
     "data": {
      "text/plain": [
       "0     2\n",
       "3     5\n",
       "5     9\n",
       "11    4\n",
       "15    7\n",
       "dtype: object"
      ]
     },
     "execution_count": 68,
     "metadata": {},
     "output_type": "execute_result"
    }
   ],
   "source": [
    "#Write a Pandas program to extract items at given positions of a given series.\n",
    "num=pd.Series(list(\"234569876234598762345987\"))\n",
    "element_pos=[0,3,5,11,15]\n",
    "print(num)\n",
    "result=num.take(element_pos)\n",
    "result"
   ]
  },
  {
   "cell_type": "code",
   "execution_count": 70,
   "id": "e17b0399",
   "metadata": {},
   "outputs": [
    {
     "name": "stdout",
     "output_type": "stream",
     "text": [
      "0     1\n",
      "1     2\n",
      "2     3\n",
      "3     4\n",
      "4     5\n",
      "5     6\n",
      "6     7\n",
      "7     8\n",
      "8     9\n",
      "9    10\n",
      "dtype: int64\n",
      "0    2\n",
      "1    4\n",
      "2    6\n",
      "3    8\n",
      "4    7\n",
      "dtype: int64\n",
      "[1, 3, 5, 7, 6]\n"
     ]
    }
   ],
   "source": [
    "#Pandas Data Series: Get the positions of items of a given series in another given series\n",
    "s1=pd.Series([1,2,3,4,5,6,7,8,9,10])\n",
    "s2=pd.Series([2,4,6,8,7])\n",
    "print(s1)\n",
    "print(s2)\n",
    "result=[pd.Index(s1).get_loc(i) for i in s2]\n",
    "print(result)"
   ]
  },
  {
   "cell_type": "code",
   "execution_count": 72,
   "id": "dd31b69e",
   "metadata": {},
   "outputs": [
    {
     "name": "stdout",
     "output_type": "stream",
     "text": [
      "0    python\n",
      "1       dsp\n",
      "2      java\n",
      "3       daa\n",
      "4      html\n",
      "dtype: object\n"
     ]
    },
    {
     "data": {
      "text/plain": [
       "0    PythoN\n",
       "1       DsP\n",
       "2      JavA\n",
       "3       DaA\n",
       "4      HtmL\n",
       "dtype: object"
      ]
     },
     "execution_count": 72,
     "metadata": {},
     "output_type": "execute_result"
    }
   ],
   "source": [
    "#Pandas Data Series: Convert the first and last character of each word to upper case\n",
    "s1=pd.Series([\"python\",\"dsp\",\"java\",\"daa\",\"html\"])\n",
    "print(s1)\n",
    "result=s1.map(lambda x:x[0].upper() + x[1:-1]+x[-1].upper())\n",
    "result"
   ]
  },
  {
   "cell_type": "code",
   "execution_count": 73,
   "id": "bdeb20c3",
   "metadata": {},
   "outputs": [
    {
     "name": "stdout",
     "output_type": "stream",
     "text": [
      "0    python\n",
      "1       dsp\n",
      "2      java\n",
      "3       daa\n",
      "4      html\n",
      "dtype: object\n"
     ]
    },
    {
     "data": {
      "text/plain": [
       "0    6\n",
       "1    3\n",
       "2    4\n",
       "3    3\n",
       "4    4\n",
       "dtype: int64"
      ]
     },
     "execution_count": 73,
     "metadata": {},
     "output_type": "execute_result"
    }
   ],
   "source": [
    "#Pandas: Calculate the number of characters in each word in a given series\n",
    "s1=pd.Series([\"python\",\"dsp\",\"java\",\"daa\",\"html\"])\n",
    "print(s1)\n",
    "result=s1.map(lambda x:len(x))\n",
    "result"
   ]
  },
  {
   "cell_type": "code",
   "execution_count": 74,
   "id": "eff897af",
   "metadata": {},
   "outputs": [
    {
     "name": "stdout",
     "output_type": "stream",
     "text": [
      "0     1\n",
      "1     2\n",
      "2     6\n",
      "3     8\n",
      "4     9\n",
      "5    11\n",
      "6    15\n",
      "dtype: int64\n",
      "[nan, 1.0, 4.0, 2.0, 1.0, 2.0, 4.0]\n",
      "[nan, nan, 3.0, -2.0, -1.0, 1.0, 2.0]\n"
     ]
    }
   ],
   "source": [
    "#Pandas Data Series: Compute difference of differences between consecutive numbers of a given series\n",
    "s=pd.Series([1,2,6,8,9,11,15])\n",
    "print(s)\n",
    "print(s.diff().tolist())\n",
    "print(s.diff().diff().tolist())"
   ]
  },
  {
   "cell_type": "code",
   "execution_count": 76,
   "id": "e987911c",
   "metadata": {},
   "outputs": [
    {
     "name": "stdout",
     "output_type": "stream",
     "text": [
      "0        06 june 2021\n",
      "1          05-05-2024\n",
      "2            20180307\n",
      "3    2014/05/06T11:22\n",
      "4          2016-04-12\n",
      "5    2019-04-06T11:20\n",
      "dtype: object\n",
      "0   2021-06-06 00:00:00\n",
      "1   2024-05-05 00:00:00\n",
      "2   2018-03-07 00:00:00\n",
      "3   2014-05-06 11:22:00\n",
      "4   2016-04-12 00:00:00\n",
      "5   2019-04-06 11:20:00\n",
      "dtype: datetime64[ns]\n"
     ]
    }
   ],
   "source": [
    "#Pandas Data Series: Convert a series of date strings to a timeseries\n",
    "date_series=pd.Series(['06 june 2021', '05-05-2024', '20180307', '2014/05/06T11:22', '2016-04-12', '2019-04-06T11:20'])\n",
    "print(date_series)\n",
    "print(pd.to_datetime(date_series))\n"
   ]
  },
  {
   "cell_type": "code",
   "execution_count": 4,
   "id": "00bd7656",
   "metadata": {},
   "outputs": [
    {
     "name": "stdout",
     "output_type": "stream",
     "text": [
      "0         01 Jan 2015\n",
      "1          10-02-2016\n",
      "2            20180307\n",
      "3          2014/05/06\n",
      "4          2016-04-12\n",
      "5    2019-04-06T11:20\n",
      "dtype: object\n",
      "Day of month:\n",
      "[1, 2, 7, 6, 12, 6]\n",
      "Day of year:\n",
      "[1, 276, 66, 126, 103, 96]\n",
      "week number:\n",
      "[1, 39, 10, 19, 15, 14]\n",
      "day of week:\n"
     ]
    },
    {
     "name": "stderr",
     "output_type": "stream",
     "text": [
      "C:\\Users\\GAJALA~1\\AppData\\Local\\Temp/ipykernel_7768/3842202161.py:12: FutureWarning: Series.dt.weekofyear and Series.dt.week have been deprecated.  Please use Series.dt.isocalendar().week instead.\n",
      "  print(date_series.dt.weekofyear.tolist())\n"
     ]
    },
    {
     "ename": "AttributeError",
     "evalue": "'DatetimeProperties' object has no attribute 'weekday_name'",
     "output_type": "error",
     "traceback": [
      "\u001b[1;31m---------------------------------------------------------------------------\u001b[0m",
      "\u001b[1;31mAttributeError\u001b[0m                            Traceback (most recent call last)",
      "\u001b[1;32mC:\\Users\\GAJALA~1\\AppData\\Local\\Temp/ipykernel_7768/3842202161.py\u001b[0m in \u001b[0;36m<module>\u001b[1;34m\u001b[0m\n\u001b[0;32m     12\u001b[0m \u001b[0mprint\u001b[0m\u001b[1;33m(\u001b[0m\u001b[0mdate_series\u001b[0m\u001b[1;33m.\u001b[0m\u001b[0mdt\u001b[0m\u001b[1;33m.\u001b[0m\u001b[0mweekofyear\u001b[0m\u001b[1;33m.\u001b[0m\u001b[0mtolist\u001b[0m\u001b[1;33m(\u001b[0m\u001b[1;33m)\u001b[0m\u001b[1;33m)\u001b[0m\u001b[1;33m\u001b[0m\u001b[1;33m\u001b[0m\u001b[0m\n\u001b[0;32m     13\u001b[0m \u001b[0mprint\u001b[0m\u001b[1;33m(\u001b[0m\u001b[1;34m\"day of week:\"\u001b[0m\u001b[1;33m)\u001b[0m\u001b[1;33m\u001b[0m\u001b[1;33m\u001b[0m\u001b[0m\n\u001b[1;32m---> 14\u001b[1;33m \u001b[0mprint\u001b[0m\u001b[1;33m(\u001b[0m\u001b[0mdate_series\u001b[0m\u001b[1;33m.\u001b[0m\u001b[0mdt\u001b[0m\u001b[1;33m.\u001b[0m\u001b[0mweekday_name\u001b[0m\u001b[1;33m.\u001b[0m\u001b[0mtolist\u001b[0m\u001b[1;33m(\u001b[0m\u001b[1;33m)\u001b[0m\u001b[1;33m)\u001b[0m\u001b[1;33m\u001b[0m\u001b[1;33m\u001b[0m\u001b[0m\n\u001b[0m",
      "\u001b[1;31mAttributeError\u001b[0m: 'DatetimeProperties' object has no attribute 'weekday_name'"
     ]
    }
   ],
   "source": [
    "#Pandas Data Series: Get the day of month, year, week, week number\n",
    "import pandas as pd\n",
    "from dateutil.parser import parse\n",
    "data_series=pd.Series(['01 Jan 2015', '10-02-2016', '20180307', '2014/05/06', '2016-04-12', '2019-04-06T11:20'])\n",
    "print(data_series)\n",
    "date_series=data_series.map(lambda x:parse(x))\n",
    "print(\"Day of month:\")\n",
    "print(date_series.dt.day.tolist())\n",
    "print(\"Day of year:\")\n",
    "print(date_series.dt.dayofyear.tolist())\n",
    "print(\"week number:\")\n",
    "print(date_series.dt.weekofyear.tolist())\n",
    "print(\"day of week:\")\n",
    "print(date_series.dt.weekday_name.tolist())"
   ]
  },
  {
   "cell_type": "code",
   "execution_count": 5,
   "id": "19b53626",
   "metadata": {},
   "outputs": [
    {
     "name": "stdout",
     "output_type": "stream",
     "text": [
      "0    Jan 2015\n",
      "1    Feb 2016\n",
      "2    Mar 2017\n",
      "3    Apr 2018\n",
      "4    May 2019\n",
      "dtype: object\n",
      "\n",
      "New dates:\n"
     ]
    },
    {
     "data": {
      "text/plain": [
       "0   2015-01-07\n",
       "1   2016-02-07\n",
       "2   2017-03-07\n",
       "3   2018-04-07\n",
       "4   2019-05-07\n",
       "dtype: datetime64[ns]"
      ]
     },
     "execution_count": 5,
     "metadata": {},
     "output_type": "execute_result"
    }
   ],
   "source": [
    "#Pandas Data Series: Convert year-month string to dates adding a specified day of the month\n",
    "import pandas as pd\n",
    "from dateutil.parser import parse\n",
    "date_series=pd.Series(['Jan 2015', 'Feb 2016', 'Mar 2017', 'Apr 2018', 'May 2019'])\n",
    "print(date_series)\n",
    "print(\"\\nNew dates:\")\n",
    "result=date_series.map(lambda d:parse(\"07\"+d))\n",
    "result"
   ]
  },
  {
   "cell_type": "code",
   "execution_count": 8,
   "id": "6f774b29",
   "metadata": {},
   "outputs": [
    {
     "name": "stdout",
     "output_type": "stream",
     "text": [
      "0      pink\n",
      "1     green\n",
      "2    violet\n",
      "3    yellow\n",
      "4      blue\n",
      "dtype: object\n",
      "\n",
      "filtered words:\n",
      "1     green\n",
      "2    violet\n",
      "3    yellow\n",
      "4      blue\n",
      "dtype: object\n"
     ]
    }
   ],
   "source": [
    "#Write a Pandas program to filter words from a given series that contain atleast two vowels\n",
    "import pandas as pd\n",
    "from collections import Counter\n",
    "color_series=pd.Series([\"pink\",\"green\",\"violet\",\"yellow\",\"blue\"])\n",
    "print(color_series)\n",
    "print(\"\\nfiltered words:\")\n",
    "result=mask=color_series.map(lambda c:sum([Counter(c.lower()).get(i,0) for i in list(\"aeiou\")])>=2)\n",
    "print(color_series[result])"
   ]
  },
  {
   "cell_type": "code",
   "execution_count": 9,
   "id": "c9d55701",
   "metadata": {},
   "outputs": [
    {
     "name": "stdout",
     "output_type": "stream",
     "text": [
      "0     1\n",
      "1     2\n",
      "2     3\n",
      "3     4\n",
      "4     5\n",
      "5     6\n",
      "6     7\n",
      "7     8\n",
      "8     9\n",
      "9    10\n",
      "dtype: int64\n",
      "0    11\n",
      "1     8\n",
      "2     7\n",
      "3     5\n",
      "4     6\n",
      "5     5\n",
      "6     3\n",
      "7     4\n",
      "8     7\n",
      "9     1\n",
      "dtype: int64\n",
      "\n",
      "Euclidean distance between two said series:\n",
      "16.492422502470642\n"
     ]
    }
   ],
   "source": [
    "#Pandas Data Series: Compute the Euclidean distance between two given series\n",
    "import pandas as pd\n",
    "import numpy as np\n",
    "x=pd.Series([1,2,3,4,5,6,7,8,9,10])\n",
    "y=pd.Series([11,8,7,5,6,5,3,4,7,1])\n",
    "print(x)\n",
    "print(y)\n",
    "print(\"\\nEuclidean distance between two said series:\")\n",
    "print(np.linalg.norm(x-y))"
   ]
  },
  {
   "cell_type": "code",
   "execution_count": 10,
   "id": "a3a83730",
   "metadata": {},
   "outputs": [
    {
     "name": "stdout",
     "output_type": "stream",
     "text": [
      "0    1\n",
      "1    8\n",
      "2    7\n",
      "3    5\n",
      "4    6\n",
      "5    5\n",
      "6    3\n",
      "7    4\n",
      "8    7\n",
      "9    1\n",
      "dtype: int64\n",
      "\n",
      "Position of the values surrounded by smaller values on both sides:\n",
      "[1 4 8]\n"
     ]
    }
   ],
   "source": [
    "#Pandas Data Series: Find the positions of the values neighboured by smaller values on both sides in a given series\n",
    "import pandas as pd\n",
    "import numpy as np\n",
    "num=pd.Series([1,8,7,5,6,5,3,4,7,1])\n",
    "print(num)\n",
    "print(\"\\nPosition of the values surrounded by smaller values on both sides:\")\n",
    "temp=np.diff(np.sign(np.diff(num)))\n",
    "result=np.where(temp==-2)[0]+1\n",
    "print(result)"
   ]
  },
  {
   "cell_type": "code",
   "execution_count": 12,
   "id": "46e1023a",
   "metadata": {},
   "outputs": [
    {
     "name": "stdout",
     "output_type": "stream",
     "text": [
      "abc def abcdef icd\n",
      "c    3\n",
      "     3\n",
      "d    3\n",
      "a    2\n",
      "b    2\n",
      "e    2\n",
      "f    2\n",
      "i    1\n",
      "dtype: int64\n",
      "abc def abcdef icd\n"
     ]
    }
   ],
   "source": [
    "#Pandas Data Series: Replace missing white spaces in a given string with the least frequent character\n",
    "import pandas as pd\n",
    "str=\"abc def abcdef icd\"\n",
    "print(str)\n",
    "ser=pd.Series(list(str))\n",
    "element_freq=ser.value_counts()\n",
    "print(element_freq)\n",
    "current_freq=element_freq.dropna().index[-1]\n",
    "result=\"\".join(ser.replace('',current_freq))\n",
    "print(result)"
   ]
  },
  {
   "cell_type": "code",
   "execution_count": 13,
   "id": "9b2ee288",
   "metadata": {},
   "outputs": [
    {
     "name": "stdout",
     "output_type": "stream",
     "text": [
      "0      2.426353\n",
      "1     11.746292\n",
      "2     12.299770\n",
      "3     -4.704555\n",
      "4      7.225322\n",
      "5     27.532253\n",
      "6     -8.714675\n",
      "7      2.385841\n",
      "8     24.086970\n",
      "9    -10.265313\n",
      "10     9.208665\n",
      "11     8.363460\n",
      "12    18.993841\n",
      "13    28.630584\n",
      "14    17.666735\n",
      "dtype: float64\n",
      "\n",
      "Autocorrelation of the said series:\n",
      "[-0.15, -0.24, 0.48, -0.28, -0.13, 0.17, -0.13, 0.13, 0.15, -0.57]\n"
     ]
    }
   ],
   "source": [
    "#Pandas Data Series: Compute the autocorrelations of a given numeric series\n",
    "import pandas as pd\n",
    "import numpy as np\n",
    "num_series=pd.Series(np.arange(15)+np.random.normal(1,10,15))\n",
    "print(num_series)\n",
    "autocorrelations=[num_series.autocorr(i).round(2) for i in range(11)]\n",
    "print(\"\\nAutocorrelation of the said series:\")\n",
    "print(autocorrelations[1:])"
   ]
  },
  {
   "cell_type": "code",
   "execution_count": 15,
   "id": "b12bfb88",
   "metadata": {},
   "outputs": [
    {
     "data": {
      "text/plain": [
       "0    2022-01-02\n",
       "1    2022-01-09\n",
       "2    2022-01-16\n",
       "3    2022-01-23\n",
       "4    2022-01-30\n",
       "5    2022-02-06\n",
       "6    2022-02-13\n",
       "7    2022-02-20\n",
       "8    2022-02-27\n",
       "9    2022-03-06\n",
       "10   2022-03-13\n",
       "11   2022-03-20\n",
       "12   2022-03-27\n",
       "13   2022-04-03\n",
       "14   2022-04-10\n",
       "15   2022-04-17\n",
       "16   2022-04-24\n",
       "17   2022-05-01\n",
       "18   2022-05-08\n",
       "19   2022-05-15\n",
       "20   2022-05-22\n",
       "21   2022-05-29\n",
       "22   2022-06-05\n",
       "23   2022-06-12\n",
       "24   2022-06-19\n",
       "25   2022-06-26\n",
       "26   2022-07-03\n",
       "27   2022-07-10\n",
       "28   2022-07-17\n",
       "29   2022-07-24\n",
       "30   2022-07-31\n",
       "31   2022-08-07\n",
       "32   2022-08-14\n",
       "33   2022-08-21\n",
       "34   2022-08-28\n",
       "35   2022-09-04\n",
       "36   2022-09-11\n",
       "37   2022-09-18\n",
       "38   2022-09-25\n",
       "39   2022-10-02\n",
       "40   2022-10-09\n",
       "41   2022-10-16\n",
       "42   2022-10-23\n",
       "43   2022-10-30\n",
       "44   2022-11-06\n",
       "45   2022-11-13\n",
       "46   2022-11-20\n",
       "47   2022-11-27\n",
       "48   2022-12-04\n",
       "49   2022-12-11\n",
       "50   2022-12-18\n",
       "51   2022-12-25\n",
       "dtype: datetime64[ns]"
      ]
     },
     "execution_count": 15,
     "metadata": {},
     "output_type": "execute_result"
    }
   ],
   "source": [
    "#Pandas Data Series: Create a TimeSeries to display all the Sundays of given year\n",
    "import pandas as pd\n",
    "result=pd.Series(pd.date_range('2022-01-01', periods=52, freq='W-SUN'))\n",
    "result"
   ]
  },
  {
   "cell_type": "code",
   "execution_count": 3,
   "id": "0a63da56",
   "metadata": {},
   "outputs": [
    {
     "name": "stdout",
     "output_type": "stream",
     "text": [
      "  index  0\n",
      "0     A  0\n",
      "1     B  1\n",
      "2     C  2\n",
      "3     D  3\n",
      "4     E  4\n"
     ]
    }
   ],
   "source": [
    "#Pandas Data Series: Convert given series into a dataframe with its index as another column on the dataframe\n",
    "import pandas as pd\n",
    "import numpy as np\n",
    "char_list=list(\"ABCDEFGHIJKLMNOPQRSTUVWXYZ\")\n",
    "num_arr=np.arange(6)\n",
    "num_dict=dict(zip(char_list,num_arr))\n",
    "num_ser=pd.Series(num_dict)\n",
    "df=num_ser.to_frame().reset_index()\n",
    "print(df.head())"
   ]
  },
  {
   "cell_type": "code",
   "execution_count": 5,
   "id": "f8318061",
   "metadata": {},
   "outputs": [
    {
     "name": "stdout",
     "output_type": "stream",
     "text": [
      "0    0\n",
      "1    1\n",
      "2    2\n",
      "3    3\n",
      "4    4\n",
      "5    5\n",
      "6    6\n",
      "7    7\n",
      "8    8\n",
      "9    9\n",
      "dtype: int64\n",
      "0    a\n",
      "1    s\n",
      "2    d\n",
      "3    f\n",
      "4    g\n",
      "5    h\n",
      "6    j\n",
      "7    k\n",
      "8    l\n",
      "dtype: object\n",
      "\n",
      "stack two given series vertically and horizontally:\n",
      "   0    1\n",
      "0  0    a\n",
      "1  1    s\n",
      "2  2    d\n",
      "3  3    f\n",
      "4  4    g\n",
      "5  5    h\n",
      "6  6    j\n",
      "7  7    k\n",
      "8  8    l\n",
      "9  9  NaN\n"
     ]
    }
   ],
   "source": [
    "#Pandas Data Series: Stack two given series vertically and horizontally\n",
    "import pandas as pd\n",
    "series1=pd.Series(range(10))\n",
    "series2=pd.Series(list(\"asdfghjkl\"))\n",
    "print(series1)\n",
    "print(series2)\n",
    "series1.append(series2)\n",
    "df=pd.concat([series1,series2],axis=1)\n",
    "print(\"\\nstack two given series vertically and horizontally:\")\n",
    "print(df)"
   ]
  },
  {
   "cell_type": "code",
   "execution_count": 6,
   "id": "02dbfe01",
   "metadata": {},
   "outputs": [
    {
     "name": "stdout",
     "output_type": "stream",
     "text": [
      "0     1\n",
      "1     2\n",
      "2     3\n",
      "3     4\n",
      "4     5\n",
      "5     6\n",
      "6     7\n",
      "7     8\n",
      "8     9\n",
      "9    10\n",
      "dtype: int64\n",
      "0     1\n",
      "1     2\n",
      "2     3\n",
      "3     4\n",
      "4     5\n",
      "5     6\n",
      "6     7\n",
      "7     8\n",
      "8     9\n",
      "9    10\n",
      "dtype: int64\n",
      "0    True\n",
      "1    True\n",
      "2    True\n",
      "3    True\n",
      "4    True\n",
      "5    True\n",
      "6    True\n",
      "7    True\n",
      "8    True\n",
      "9    True\n",
      "dtype: bool\n"
     ]
    }
   ],
   "source": [
    "#Pandas Data Series: Check the equality of two given series\n",
    "num1=pd.Series([1,2,3,4,5,6,7,8,9,10])\n",
    "num2=pd.Series([1,2,3,4,5,6,7,8,9,10])\n",
    "print(num1)\n",
    "print(num2)\n",
    "print(num1==num2)"
   ]
  },
  {
   "cell_type": "code",
   "execution_count": 7,
   "id": "914663d8",
   "metadata": {},
   "outputs": [
    {
     "name": "stdout",
     "output_type": "stream",
     "text": [
      "0     1\n",
      "1     7\n",
      "2     2\n",
      "3     4\n",
      "4    15\n",
      "5     7\n",
      "6     9\n",
      "7     0\n",
      "8     6\n",
      "9     3\n",
      "dtype: int64\n",
      "7\n",
      "4\n"
     ]
    }
   ],
   "source": [
    "#Pandas Data Series: Find the index of the first occurrence of the smallest and largest value of a given series\n",
    "num=pd.Series([1,7,2,4,15,7,9,0,6,3])\n",
    "print(num)\n",
    "print(num.idxmin())\n",
    "print(num.idxmax())"
   ]
  },
  {
   "cell_type": "code",
   "execution_count": 9,
   "id": "efa607a5",
   "metadata": {},
   "outputs": [
    {
     "name": "stdout",
     "output_type": "stream",
     "text": [
      "      W     X   Y   Z\n",
      "0  68.0  78.0  84  86\n",
      "1  75.0  75.0  94  97\n",
      "2  86.0   NaN  89  96\n",
      "3  80.0  80.0  86  72\n",
      "4   NaN  86.0  86  83\n",
      "0    68.0\n",
      "1    75.0\n",
      "2    86.0\n",
      "3    80.0\n",
      "4     NaN\n",
      "dtype: float64\n",
      "       W      X     Y     Z\n",
      "0  False   True  True  True\n",
      "1  False  False  True  True\n",
      "2  False   True  True  True\n",
      "3  False  False  True  True\n",
      "4   True   True  True  True\n"
     ]
    }
   ],
   "source": [
    "#Pandas Data Series: Check inequality over the index axis of a given dataframe and a given series\n",
    "df_data=pd.DataFrame({'W':[68,75,86,80,None],'X':[78,75,None,80,86], 'Y':[84,94,89,86,86],'Z':[86,97,96,72,83]});\n",
    "sr_data=pd.Series([68,75,86,80,None])\n",
    "print(df_data)\n",
    "print(sr_data)\n",
    "print(df_data.ne(sr_data,axis=0))"
   ]
  },
  {
   "cell_type": "code",
   "execution_count": null,
   "id": "7631fbf3",
   "metadata": {},
   "outputs": [],
   "source": []
  }
 ],
 "metadata": {
  "kernelspec": {
   "display_name": "Python 3 (ipykernel)",
   "language": "python",
   "name": "python3"
  },
  "language_info": {
   "codemirror_mode": {
    "name": "ipython",
    "version": 3
   },
   "file_extension": ".py",
   "mimetype": "text/x-python",
   "name": "python",
   "nbconvert_exporter": "python",
   "pygments_lexer": "ipython3",
   "version": "3.9.7"
  }
 },
 "nbformat": 4,
 "nbformat_minor": 5
}
