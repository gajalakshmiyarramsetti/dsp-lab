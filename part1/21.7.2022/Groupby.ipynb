{
 "cells": [
  {
   "cell_type": "code",
   "execution_count": 1,
   "id": "478b2651",
   "metadata": {},
   "outputs": [
    {
     "data": {
      "text/html": [
       "<div>\n",
       "<style scoped>\n",
       "    .dataframe tbody tr th:only-of-type {\n",
       "        vertical-align: middle;\n",
       "    }\n",
       "\n",
       "    .dataframe tbody tr th {\n",
       "        vertical-align: top;\n",
       "    }\n",
       "\n",
       "    .dataframe thead th {\n",
       "        text-align: right;\n",
       "    }\n",
       "</style>\n",
       "<table border=\"1\" class=\"dataframe\">\n",
       "  <thead>\n",
       "    <tr style=\"text-align: right;\">\n",
       "      <th></th>\n",
       "      <th>NAME</th>\n",
       "      <th>AGE</th>\n",
       "      <th>GENDER</th>\n",
       "      <th>DEPT</th>\n",
       "      <th>SALARY</th>\n",
       "    </tr>\n",
       "  </thead>\n",
       "  <tbody>\n",
       "    <tr>\n",
       "      <th>0</th>\n",
       "      <td>lakshmi</td>\n",
       "      <td>23</td>\n",
       "      <td>F</td>\n",
       "      <td>cse</td>\n",
       "      <td>50000</td>\n",
       "    </tr>\n",
       "    <tr>\n",
       "      <th>1</th>\n",
       "      <td>usha</td>\n",
       "      <td>22</td>\n",
       "      <td>F</td>\n",
       "      <td>ece</td>\n",
       "      <td>70000</td>\n",
       "    </tr>\n",
       "    <tr>\n",
       "      <th>2</th>\n",
       "      <td>venkateswari</td>\n",
       "      <td>21</td>\n",
       "      <td>F</td>\n",
       "      <td>ece</td>\n",
       "      <td>60000</td>\n",
       "    </tr>\n",
       "    <tr>\n",
       "      <th>3</th>\n",
       "      <td>navya</td>\n",
       "      <td>25</td>\n",
       "      <td>F</td>\n",
       "      <td>mech</td>\n",
       "      <td>75000</td>\n",
       "    </tr>\n",
       "    <tr>\n",
       "      <th>4</th>\n",
       "      <td>bhuvana</td>\n",
       "      <td>22</td>\n",
       "      <td>F</td>\n",
       "      <td>civil</td>\n",
       "      <td>50000</td>\n",
       "    </tr>\n",
       "    <tr>\n",
       "      <th>5</th>\n",
       "      <td>vanaja</td>\n",
       "      <td>24</td>\n",
       "      <td>F</td>\n",
       "      <td>cse</td>\n",
       "      <td>55000</td>\n",
       "    </tr>\n",
       "    <tr>\n",
       "      <th>6</th>\n",
       "      <td>usha sri</td>\n",
       "      <td>25</td>\n",
       "      <td>F</td>\n",
       "      <td>mech</td>\n",
       "      <td>72000</td>\n",
       "    </tr>\n",
       "    <tr>\n",
       "      <th>7</th>\n",
       "      <td>sai</td>\n",
       "      <td>22</td>\n",
       "      <td>M</td>\n",
       "      <td>cse</td>\n",
       "      <td>80000</td>\n",
       "    </tr>\n",
       "    <tr>\n",
       "      <th>8</th>\n",
       "      <td>subbu</td>\n",
       "      <td>24</td>\n",
       "      <td>M</td>\n",
       "      <td>eee</td>\n",
       "      <td>70000</td>\n",
       "    </tr>\n",
       "    <tr>\n",
       "      <th>9</th>\n",
       "      <td>pandu</td>\n",
       "      <td>24</td>\n",
       "      <td>M</td>\n",
       "      <td>civil</td>\n",
       "      <td>50000</td>\n",
       "    </tr>\n",
       "  </tbody>\n",
       "</table>\n",
       "</div>"
      ],
      "text/plain": [
       "           NAME  AGE GENDER   DEPT  SALARY\n",
       "0       lakshmi   23      F    cse   50000\n",
       "1         usha    22      F    ece   70000\n",
       "2  venkateswari   21      F    ece   60000\n",
       "3         navya   25      F   mech   75000\n",
       "4       bhuvana   22      F  civil   50000\n",
       "5        vanaja   24      F    cse   55000\n",
       "6      usha sri   25      F   mech   72000\n",
       "7           sai   22      M    cse   80000\n",
       "8         subbu   24      M    eee   70000\n",
       "9         pandu   24      M  civil   50000"
      ]
     },
     "execution_count": 1,
     "metadata": {},
     "output_type": "execute_result"
    }
   ],
   "source": [
    "import pandas as pd\n",
    "df=pd.read_csv(\"C:\\\\Users\\\\Gaja Lakshmi\\\\Desktop\\\\python\\\\sample_student.csv\")\n",
    "df"
   ]
  },
  {
   "cell_type": "code",
   "execution_count": 3,
   "id": "bc3fe344",
   "metadata": {},
   "outputs": [
    {
     "data": {
      "text/html": [
       "<div>\n",
       "<style scoped>\n",
       "    .dataframe tbody tr th:only-of-type {\n",
       "        vertical-align: middle;\n",
       "    }\n",
       "\n",
       "    .dataframe tbody tr th {\n",
       "        vertical-align: top;\n",
       "    }\n",
       "\n",
       "    .dataframe thead th {\n",
       "        text-align: right;\n",
       "    }\n",
       "</style>\n",
       "<table border=\"1\" class=\"dataframe\">\n",
       "  <thead>\n",
       "    <tr style=\"text-align: right;\">\n",
       "      <th></th>\n",
       "      <th>AGE</th>\n",
       "      <th>SALARY</th>\n",
       "    </tr>\n",
       "    <tr>\n",
       "      <th>GENDER</th>\n",
       "      <th></th>\n",
       "      <th></th>\n",
       "    </tr>\n",
       "  </thead>\n",
       "  <tbody>\n",
       "    <tr>\n",
       "      <th>F</th>\n",
       "      <td>23.142857</td>\n",
       "      <td>61714.285714</td>\n",
       "    </tr>\n",
       "    <tr>\n",
       "      <th>M</th>\n",
       "      <td>23.333333</td>\n",
       "      <td>66666.666667</td>\n",
       "    </tr>\n",
       "  </tbody>\n",
       "</table>\n",
       "</div>"
      ],
      "text/plain": [
       "              AGE        SALARY\n",
       "GENDER                         \n",
       "F       23.142857  61714.285714\n",
       "M       23.333333  66666.666667"
      ]
     },
     "execution_count": 3,
     "metadata": {},
     "output_type": "execute_result"
    }
   ],
   "source": [
    "df.groupby([\"GENDER\"]).mean()"
   ]
  },
  {
   "cell_type": "code",
   "execution_count": 2,
   "id": "0776901a",
   "metadata": {},
   "outputs": [
    {
     "data": {
      "text/html": [
       "<div>\n",
       "<style scoped>\n",
       "    .dataframe tbody tr th:only-of-type {\n",
       "        vertical-align: middle;\n",
       "    }\n",
       "\n",
       "    .dataframe tbody tr th {\n",
       "        vertical-align: top;\n",
       "    }\n",
       "\n",
       "    .dataframe thead th {\n",
       "        text-align: right;\n",
       "    }\n",
       "</style>\n",
       "<table border=\"1\" class=\"dataframe\">\n",
       "  <thead>\n",
       "    <tr style=\"text-align: right;\">\n",
       "      <th></th>\n",
       "      <th>AGE</th>\n",
       "    </tr>\n",
       "    <tr>\n",
       "      <th>SALARY</th>\n",
       "      <th></th>\n",
       "    </tr>\n",
       "  </thead>\n",
       "  <tbody>\n",
       "    <tr>\n",
       "      <th>50000</th>\n",
       "      <td>23.0</td>\n",
       "    </tr>\n",
       "    <tr>\n",
       "      <th>55000</th>\n",
       "      <td>24.0</td>\n",
       "    </tr>\n",
       "    <tr>\n",
       "      <th>60000</th>\n",
       "      <td>21.0</td>\n",
       "    </tr>\n",
       "    <tr>\n",
       "      <th>70000</th>\n",
       "      <td>23.0</td>\n",
       "    </tr>\n",
       "    <tr>\n",
       "      <th>72000</th>\n",
       "      <td>25.0</td>\n",
       "    </tr>\n",
       "    <tr>\n",
       "      <th>75000</th>\n",
       "      <td>25.0</td>\n",
       "    </tr>\n",
       "    <tr>\n",
       "      <th>80000</th>\n",
       "      <td>22.0</td>\n",
       "    </tr>\n",
       "  </tbody>\n",
       "</table>\n",
       "</div>"
      ],
      "text/plain": [
       "         AGE\n",
       "SALARY      \n",
       "50000   23.0\n",
       "55000   24.0\n",
       "60000   21.0\n",
       "70000   23.0\n",
       "72000   25.0\n",
       "75000   25.0\n",
       "80000   22.0"
      ]
     },
     "execution_count": 2,
     "metadata": {},
     "output_type": "execute_result"
    }
   ],
   "source": [
    "df.groupby([\"SALARY\"]).mean()"
   ]
  },
  {
   "cell_type": "code",
   "execution_count": 54,
   "id": "fcbd30ed",
   "metadata": {},
   "outputs": [
    {
     "data": {
      "text/html": [
       "<div>\n",
       "<style scoped>\n",
       "    .dataframe tbody tr th:only-of-type {\n",
       "        vertical-align: middle;\n",
       "    }\n",
       "\n",
       "    .dataframe tbody tr th {\n",
       "        vertical-align: top;\n",
       "    }\n",
       "\n",
       "    .dataframe thead th {\n",
       "        text-align: right;\n",
       "    }\n",
       "</style>\n",
       "<table border=\"1\" class=\"dataframe\">\n",
       "  <thead>\n",
       "    <tr style=\"text-align: right;\">\n",
       "      <th></th>\n",
       "      <th>AGE</th>\n",
       "      <th>SALARY</th>\n",
       "    </tr>\n",
       "    <tr>\n",
       "      <th>DEPT</th>\n",
       "      <th></th>\n",
       "      <th></th>\n",
       "    </tr>\n",
       "  </thead>\n",
       "  <tbody>\n",
       "    <tr>\n",
       "      <th>civil</th>\n",
       "      <td>23.0</td>\n",
       "      <td>50000.000000</td>\n",
       "    </tr>\n",
       "    <tr>\n",
       "      <th>cse</th>\n",
       "      <td>23.0</td>\n",
       "      <td>61666.666667</td>\n",
       "    </tr>\n",
       "    <tr>\n",
       "      <th>ece</th>\n",
       "      <td>21.5</td>\n",
       "      <td>65000.000000</td>\n",
       "    </tr>\n",
       "    <tr>\n",
       "      <th>eee</th>\n",
       "      <td>24.0</td>\n",
       "      <td>70000.000000</td>\n",
       "    </tr>\n",
       "    <tr>\n",
       "      <th>mech</th>\n",
       "      <td>25.0</td>\n",
       "      <td>73500.000000</td>\n",
       "    </tr>\n",
       "  </tbody>\n",
       "</table>\n",
       "</div>"
      ],
      "text/plain": [
       "        AGE        SALARY\n",
       "DEPT                     \n",
       "civil  23.0  50000.000000\n",
       "cse    23.0  61666.666667\n",
       "ece    21.5  65000.000000\n",
       "eee    24.0  70000.000000\n",
       "mech   25.0  73500.000000"
      ]
     },
     "execution_count": 54,
     "metadata": {},
     "output_type": "execute_result"
    }
   ],
   "source": [
    "df.groupby([\"DEPT\"]).mean()"
   ]
  },
  {
   "cell_type": "code",
   "execution_count": 5,
   "id": "5f5955b1",
   "metadata": {},
   "outputs": [
    {
     "data": {
      "text/html": [
       "<div>\n",
       "<style scoped>\n",
       "    .dataframe tbody tr th:only-of-type {\n",
       "        vertical-align: middle;\n",
       "    }\n",
       "\n",
       "    .dataframe tbody tr th {\n",
       "        vertical-align: top;\n",
       "    }\n",
       "\n",
       "    .dataframe thead th {\n",
       "        text-align: right;\n",
       "    }\n",
       "</style>\n",
       "<table border=\"1\" class=\"dataframe\">\n",
       "  <thead>\n",
       "    <tr style=\"text-align: right;\">\n",
       "      <th></th>\n",
       "      <th></th>\n",
       "      <th>AGE</th>\n",
       "      <th>SALARY</th>\n",
       "    </tr>\n",
       "    <tr>\n",
       "      <th>GENDER</th>\n",
       "      <th>DEPT</th>\n",
       "      <th></th>\n",
       "      <th></th>\n",
       "    </tr>\n",
       "  </thead>\n",
       "  <tbody>\n",
       "    <tr>\n",
       "      <th rowspan=\"4\" valign=\"top\">F</th>\n",
       "      <th>civil</th>\n",
       "      <td>22.0</td>\n",
       "      <td>50000.0</td>\n",
       "    </tr>\n",
       "    <tr>\n",
       "      <th>cse</th>\n",
       "      <td>23.5</td>\n",
       "      <td>52500.0</td>\n",
       "    </tr>\n",
       "    <tr>\n",
       "      <th>ece</th>\n",
       "      <td>21.5</td>\n",
       "      <td>65000.0</td>\n",
       "    </tr>\n",
       "    <tr>\n",
       "      <th>mech</th>\n",
       "      <td>25.0</td>\n",
       "      <td>73500.0</td>\n",
       "    </tr>\n",
       "    <tr>\n",
       "      <th rowspan=\"3\" valign=\"top\">M</th>\n",
       "      <th>civil</th>\n",
       "      <td>24.0</td>\n",
       "      <td>50000.0</td>\n",
       "    </tr>\n",
       "    <tr>\n",
       "      <th>cse</th>\n",
       "      <td>22.0</td>\n",
       "      <td>80000.0</td>\n",
       "    </tr>\n",
       "    <tr>\n",
       "      <th>eee</th>\n",
       "      <td>24.0</td>\n",
       "      <td>70000.0</td>\n",
       "    </tr>\n",
       "  </tbody>\n",
       "</table>\n",
       "</div>"
      ],
      "text/plain": [
       "               AGE   SALARY\n",
       "GENDER DEPT                \n",
       "F      civil  22.0  50000.0\n",
       "       cse    23.5  52500.0\n",
       "       ece    21.5  65000.0\n",
       "       mech   25.0  73500.0\n",
       "M      civil  24.0  50000.0\n",
       "       cse    22.0  80000.0\n",
       "       eee    24.0  70000.0"
      ]
     },
     "execution_count": 5,
     "metadata": {},
     "output_type": "execute_result"
    }
   ],
   "source": [
    "df.groupby([\"GENDER\",\"DEPT\"]).mean()"
   ]
  },
  {
   "cell_type": "code",
   "execution_count": 7,
   "id": "e069337a",
   "metadata": {},
   "outputs": [
    {
     "name": "stdout",
     "output_type": "stream",
     "text": [
      "{('F', 'civil'): [4], ('F', 'cse'): [0, 5], ('F', 'ece'): [1, 2], ('F', 'mech'): [3, 6], ('M', 'civil'): [9], ('M', 'cse'): [7], ('M', 'eee'): [8]}\n"
     ]
    }
   ],
   "source": [
    "a=df.groupby([\"GENDER\",\"DEPT\"])\n",
    "print(a.groups)"
   ]
  },
  {
   "cell_type": "code",
   "execution_count": 9,
   "id": "faf68d3d",
   "metadata": {},
   "outputs": [
    {
     "data": {
      "text/html": [
       "<div>\n",
       "<style scoped>\n",
       "    .dataframe tbody tr th:only-of-type {\n",
       "        vertical-align: middle;\n",
       "    }\n",
       "\n",
       "    .dataframe tbody tr th {\n",
       "        vertical-align: top;\n",
       "    }\n",
       "\n",
       "    .dataframe thead th {\n",
       "        text-align: right;\n",
       "    }\n",
       "</style>\n",
       "<table border=\"1\" class=\"dataframe\">\n",
       "  <thead>\n",
       "    <tr style=\"text-align: right;\">\n",
       "      <th></th>\n",
       "      <th>NAME</th>\n",
       "      <th>AGE</th>\n",
       "      <th>GENDER</th>\n",
       "      <th>DEPT</th>\n",
       "    </tr>\n",
       "    <tr>\n",
       "      <th>SALARY</th>\n",
       "      <th></th>\n",
       "      <th></th>\n",
       "      <th></th>\n",
       "      <th></th>\n",
       "    </tr>\n",
       "  </thead>\n",
       "  <tbody>\n",
       "    <tr>\n",
       "      <th>50000</th>\n",
       "      <td>pandu</td>\n",
       "      <td>24</td>\n",
       "      <td>M</td>\n",
       "      <td>cse</td>\n",
       "    </tr>\n",
       "    <tr>\n",
       "      <th>55000</th>\n",
       "      <td>vanaja</td>\n",
       "      <td>24</td>\n",
       "      <td>F</td>\n",
       "      <td>cse</td>\n",
       "    </tr>\n",
       "    <tr>\n",
       "      <th>60000</th>\n",
       "      <td>venkateswari</td>\n",
       "      <td>21</td>\n",
       "      <td>F</td>\n",
       "      <td>ece</td>\n",
       "    </tr>\n",
       "    <tr>\n",
       "      <th>70000</th>\n",
       "      <td>usha</td>\n",
       "      <td>24</td>\n",
       "      <td>M</td>\n",
       "      <td>eee</td>\n",
       "    </tr>\n",
       "    <tr>\n",
       "      <th>72000</th>\n",
       "      <td>usha sri</td>\n",
       "      <td>25</td>\n",
       "      <td>F</td>\n",
       "      <td>mech</td>\n",
       "    </tr>\n",
       "    <tr>\n",
       "      <th>75000</th>\n",
       "      <td>navya</td>\n",
       "      <td>25</td>\n",
       "      <td>F</td>\n",
       "      <td>mech</td>\n",
       "    </tr>\n",
       "    <tr>\n",
       "      <th>80000</th>\n",
       "      <td>sai</td>\n",
       "      <td>22</td>\n",
       "      <td>M</td>\n",
       "      <td>cse</td>\n",
       "    </tr>\n",
       "  </tbody>\n",
       "</table>\n",
       "</div>"
      ],
      "text/plain": [
       "                NAME  AGE GENDER  DEPT\n",
       "SALARY                                \n",
       "50000          pandu   24      M   cse\n",
       "55000         vanaja   24      F   cse\n",
       "60000   venkateswari   21      F   ece\n",
       "70000          usha    24      M   eee\n",
       "72000       usha sri   25      F  mech\n",
       "75000          navya   25      F  mech\n",
       "80000            sai   22      M   cse"
      ]
     },
     "execution_count": 9,
     "metadata": {},
     "output_type": "execute_result"
    }
   ],
   "source": [
    "df.groupby([\"SALARY\"]).max()"
   ]
  },
  {
   "cell_type": "code",
   "execution_count": 5,
   "id": "8a12dc89",
   "metadata": {},
   "outputs": [
    {
     "data": {
      "text/html": [
       "<div>\n",
       "<style scoped>\n",
       "    .dataframe tbody tr th:only-of-type {\n",
       "        vertical-align: middle;\n",
       "    }\n",
       "\n",
       "    .dataframe tbody tr th {\n",
       "        vertical-align: top;\n",
       "    }\n",
       "\n",
       "    .dataframe thead th {\n",
       "        text-align: right;\n",
       "    }\n",
       "</style>\n",
       "<table border=\"1\" class=\"dataframe\">\n",
       "  <thead>\n",
       "    <tr style=\"text-align: right;\">\n",
       "      <th></th>\n",
       "      <th>NAME</th>\n",
       "      <th>GENDER</th>\n",
       "      <th>DEPT</th>\n",
       "      <th>SALARY</th>\n",
       "    </tr>\n",
       "    <tr>\n",
       "      <th>AGE</th>\n",
       "      <th></th>\n",
       "      <th></th>\n",
       "      <th></th>\n",
       "      <th></th>\n",
       "    </tr>\n",
       "  </thead>\n",
       "  <tbody>\n",
       "    <tr>\n",
       "      <th>21</th>\n",
       "      <td>venkateswari</td>\n",
       "      <td>F</td>\n",
       "      <td>ece</td>\n",
       "      <td>60000</td>\n",
       "    </tr>\n",
       "    <tr>\n",
       "      <th>22</th>\n",
       "      <td>bhuvana</td>\n",
       "      <td>F</td>\n",
       "      <td>civil</td>\n",
       "      <td>50000</td>\n",
       "    </tr>\n",
       "    <tr>\n",
       "      <th>23</th>\n",
       "      <td>lakshmi</td>\n",
       "      <td>F</td>\n",
       "      <td>cse</td>\n",
       "      <td>50000</td>\n",
       "    </tr>\n",
       "    <tr>\n",
       "      <th>24</th>\n",
       "      <td>pandu</td>\n",
       "      <td>F</td>\n",
       "      <td>civil</td>\n",
       "      <td>50000</td>\n",
       "    </tr>\n",
       "    <tr>\n",
       "      <th>25</th>\n",
       "      <td>navya</td>\n",
       "      <td>F</td>\n",
       "      <td>mech</td>\n",
       "      <td>72000</td>\n",
       "    </tr>\n",
       "  </tbody>\n",
       "</table>\n",
       "</div>"
      ],
      "text/plain": [
       "             NAME GENDER   DEPT  SALARY\n",
       "AGE                                    \n",
       "21   venkateswari      F    ece   60000\n",
       "22        bhuvana      F  civil   50000\n",
       "23        lakshmi      F    cse   50000\n",
       "24          pandu      F  civil   50000\n",
       "25          navya      F   mech   72000"
      ]
     },
     "execution_count": 5,
     "metadata": {},
     "output_type": "execute_result"
    }
   ],
   "source": [
    "df.groupby([\"AGE\"]).min()"
   ]
  },
  {
   "cell_type": "code",
   "execution_count": 39,
   "id": "1d05327f",
   "metadata": {},
   "outputs": [
    {
     "data": {
      "text/html": [
       "<div>\n",
       "<style scoped>\n",
       "    .dataframe tbody tr th:only-of-type {\n",
       "        vertical-align: middle;\n",
       "    }\n",
       "\n",
       "    .dataframe tbody tr th {\n",
       "        vertical-align: top;\n",
       "    }\n",
       "\n",
       "    .dataframe thead th {\n",
       "        text-align: right;\n",
       "    }\n",
       "</style>\n",
       "<table border=\"1\" class=\"dataframe\">\n",
       "  <thead>\n",
       "    <tr style=\"text-align: right;\">\n",
       "      <th></th>\n",
       "      <th>NAME</th>\n",
       "      <th>GENDER</th>\n",
       "      <th>DEPT</th>\n",
       "      <th>SALARY</th>\n",
       "    </tr>\n",
       "    <tr>\n",
       "      <th>AGE</th>\n",
       "      <th></th>\n",
       "      <th></th>\n",
       "      <th></th>\n",
       "      <th></th>\n",
       "    </tr>\n",
       "  </thead>\n",
       "  <tbody>\n",
       "    <tr>\n",
       "      <th>21</th>\n",
       "      <td>venkateswari</td>\n",
       "      <td>F</td>\n",
       "      <td>ece</td>\n",
       "      <td>60000</td>\n",
       "    </tr>\n",
       "    <tr>\n",
       "      <th>22</th>\n",
       "      <td>usha</td>\n",
       "      <td>M</td>\n",
       "      <td>ece</td>\n",
       "      <td>80000</td>\n",
       "    </tr>\n",
       "    <tr>\n",
       "      <th>23</th>\n",
       "      <td>lakshmi</td>\n",
       "      <td>F</td>\n",
       "      <td>cse</td>\n",
       "      <td>50000</td>\n",
       "    </tr>\n",
       "    <tr>\n",
       "      <th>24</th>\n",
       "      <td>vanaja</td>\n",
       "      <td>M</td>\n",
       "      <td>eee</td>\n",
       "      <td>70000</td>\n",
       "    </tr>\n",
       "    <tr>\n",
       "      <th>25</th>\n",
       "      <td>usha sri</td>\n",
       "      <td>F</td>\n",
       "      <td>mech</td>\n",
       "      <td>75000</td>\n",
       "    </tr>\n",
       "  </tbody>\n",
       "</table>\n",
       "</div>"
      ],
      "text/plain": [
       "             NAME GENDER  DEPT  SALARY\n",
       "AGE                                   \n",
       "21   venkateswari      F   ece   60000\n",
       "22          usha       M   ece   80000\n",
       "23        lakshmi      F   cse   50000\n",
       "24         vanaja      M   eee   70000\n",
       "25       usha sri      F  mech   75000"
      ]
     },
     "execution_count": 39,
     "metadata": {},
     "output_type": "execute_result"
    }
   ],
   "source": [
    "df.groupby([\"AGE\"]).max()"
   ]
  },
  {
   "cell_type": "code",
   "execution_count": 6,
   "id": "de02db38",
   "metadata": {},
   "outputs": [
    {
     "name": "stdout",
     "output_type": "stream",
     "text": [
      "{'civil': [4, 9], 'cse': [0, 5, 7], 'ece': [1, 2], 'eee': [8], 'mech': [3, 6]}\n"
     ]
    }
   ],
   "source": [
    "a=df.groupby([\"DEPT\"])\n",
    "print(a.groups)"
   ]
  },
  {
   "cell_type": "code",
   "execution_count": 42,
   "id": "2953636a",
   "metadata": {},
   "outputs": [
    {
     "data": {
      "text/html": [
       "<div>\n",
       "<style scoped>\n",
       "    .dataframe tbody tr th:only-of-type {\n",
       "        vertical-align: middle;\n",
       "    }\n",
       "\n",
       "    .dataframe tbody tr th {\n",
       "        vertical-align: top;\n",
       "    }\n",
       "\n",
       "    .dataframe thead th {\n",
       "        text-align: right;\n",
       "    }\n",
       "</style>\n",
       "<table border=\"1\" class=\"dataframe\">\n",
       "  <thead>\n",
       "    <tr style=\"text-align: right;\">\n",
       "      <th></th>\n",
       "      <th>NAME</th>\n",
       "      <th>GENDER</th>\n",
       "      <th>DEPT</th>\n",
       "      <th>SALARY</th>\n",
       "    </tr>\n",
       "    <tr>\n",
       "      <th>AGE</th>\n",
       "      <th></th>\n",
       "      <th></th>\n",
       "      <th></th>\n",
       "      <th></th>\n",
       "    </tr>\n",
       "  </thead>\n",
       "  <tbody>\n",
       "    <tr>\n",
       "      <th>21</th>\n",
       "      <td>venkateswari</td>\n",
       "      <td>F</td>\n",
       "      <td>ece</td>\n",
       "      <td>60000</td>\n",
       "    </tr>\n",
       "    <tr>\n",
       "      <th>22</th>\n",
       "      <td>bhuvana</td>\n",
       "      <td>F</td>\n",
       "      <td>civil</td>\n",
       "      <td>50000</td>\n",
       "    </tr>\n",
       "    <tr>\n",
       "      <th>23</th>\n",
       "      <td>lakshmi</td>\n",
       "      <td>F</td>\n",
       "      <td>cse</td>\n",
       "      <td>50000</td>\n",
       "    </tr>\n",
       "    <tr>\n",
       "      <th>24</th>\n",
       "      <td>pandu</td>\n",
       "      <td>F</td>\n",
       "      <td>civil</td>\n",
       "      <td>50000</td>\n",
       "    </tr>\n",
       "    <tr>\n",
       "      <th>25</th>\n",
       "      <td>navya</td>\n",
       "      <td>F</td>\n",
       "      <td>mech</td>\n",
       "      <td>72000</td>\n",
       "    </tr>\n",
       "  </tbody>\n",
       "</table>\n",
       "</div>"
      ],
      "text/plain": [
       "             NAME GENDER   DEPT  SALARY\n",
       "AGE                                    \n",
       "21   venkateswari      F    ece   60000\n",
       "22        bhuvana      F  civil   50000\n",
       "23        lakshmi      F    cse   50000\n",
       "24          pandu      F  civil   50000\n",
       "25          navya      F   mech   72000"
      ]
     },
     "execution_count": 42,
     "metadata": {},
     "output_type": "execute_result"
    }
   ],
   "source": [
    "df.groupby([\"AGE\"]).min()"
   ]
  },
  {
   "cell_type": "code",
   "execution_count": 10,
   "id": "c1c66424",
   "metadata": {},
   "outputs": [
    {
     "name": "stdout",
     "output_type": "stream",
     "text": [
      "    NAME  AGE GENDER   DEPT  SALARY\n",
      "7    sai   22      M    cse   80000\n",
      "8  subbu   24      M    eee   70000\n",
      "9  pandu   24      M  civil   50000\n"
     ]
    }
   ],
   "source": [
    "g=df.groupby([\"GENDER\"])\n",
    "print(g.get_group(\"M\"))"
   ]
  },
  {
   "cell_type": "code",
   "execution_count": 44,
   "id": "0491c8f8",
   "metadata": {},
   "outputs": [
    {
     "name": "stdout",
     "output_type": "stream",
     "text": [
      "           NAME  AGE GENDER   DEPT  SALARY\n",
      "0       lakshmi   23      F    cse   50000\n",
      "1         usha    22      F    ece   70000\n",
      "2  venkateswari   21      F    ece   60000\n",
      "3         navya   25      F   mech   75000\n",
      "4       bhuvana   22      F  civil   50000\n",
      "5        vanaja   24      F    cse   55000\n",
      "6      usha sri   25      F   mech   72000\n"
     ]
    }
   ],
   "source": [
    "g=df.groupby([\"GENDER\"])\n",
    "print(g.get_group(\"F\"))"
   ]
  },
  {
   "cell_type": "code",
   "execution_count": 45,
   "id": "df500ce8",
   "metadata": {},
   "outputs": [
    {
     "name": "stdout",
     "output_type": "stream",
     "text": [
      "           NAME  AGE GENDER DEPT  SALARY\n",
      "1         usha    22      F  ece   70000\n",
      "2  venkateswari   21      F  ece   60000\n"
     ]
    }
   ],
   "source": [
    "g=df.groupby([\"DEPT\"])\n",
    "print(g.get_group(\"ece\"))"
   ]
  },
  {
   "cell_type": "code",
   "execution_count": 46,
   "id": "741848b1",
   "metadata": {},
   "outputs": [
    {
     "name": "stdout",
     "output_type": "stream",
     "text": [
      "      NAME  AGE GENDER DEPT  SALARY\n",
      "0  lakshmi   23      F  cse   50000\n",
      "5   vanaja   24      F  cse   55000\n",
      "7      sai   22      M  cse   80000\n"
     ]
    }
   ],
   "source": [
    "g=df.groupby([\"DEPT\"])\n",
    "print(g.get_group(\"cse\"))"
   ]
  },
  {
   "cell_type": "code",
   "execution_count": 47,
   "id": "7e63ffc3",
   "metadata": {},
   "outputs": [
    {
     "name": "stdout",
     "output_type": "stream",
     "text": [
      "cse      3\n",
      "ece      2\n",
      "mech     2\n",
      "civil    2\n",
      "eee      1\n",
      "Name: DEPT, dtype: int64\n",
      "22    3\n",
      "24    3\n",
      "25    2\n",
      "23    1\n",
      "21    1\n",
      "Name: AGE, dtype: int64\n",
      "lakshmi         1\n",
      "usha            1\n",
      "venkateswari    1\n",
      "navya           1\n",
      "bhuvana         1\n",
      "vanaja          1\n",
      "usha sri        1\n",
      "sai             1\n",
      "subbu           1\n",
      "pandu           1\n",
      "Name: NAME, dtype: int64\n",
      "F    7\n",
      "M    3\n",
      "Name: GENDER, dtype: int64\n"
     ]
    }
   ],
   "source": [
    "print(df[\"DEPT\"].value_counts())\n",
    "print(df[\"AGE\"].value_counts())\n",
    "print(df[\"NAME\"].value_counts())\n",
    "print(df[\"GENDER\"].value_counts())"
   ]
  },
  {
   "cell_type": "code",
   "execution_count": 48,
   "id": "1a222e20",
   "metadata": {},
   "outputs": [
    {
     "data": {
      "text/plain": [
       "{'F': [0, 1, 2, 3, 4, 5, 6], 'M': [7, 8, 9]}"
      ]
     },
     "execution_count": 48,
     "metadata": {},
     "output_type": "execute_result"
    }
   ],
   "source": [
    "df.groupby([\"GENDER\"]).groups"
   ]
  },
  {
   "cell_type": "code",
   "execution_count": 49,
   "id": "3129a001",
   "metadata": {},
   "outputs": [
    {
     "data": {
      "text/plain": [
       "{'civil': [4, 9], 'cse': [0, 5, 7], 'ece': [1, 2], 'eee': [8], 'mech': [3, 6]}"
      ]
     },
     "execution_count": 49,
     "metadata": {},
     "output_type": "execute_result"
    }
   ],
   "source": [
    "df.groupby([\"DEPT\"]).groups"
   ]
  },
  {
   "cell_type": "code",
   "execution_count": 50,
   "id": "ba72ebe4",
   "metadata": {},
   "outputs": [
    {
     "data": {
      "text/plain": [
       "{'bhuvana': [4], 'lakshmi': [0], 'navya': [3], 'pandu': [9], 'sai': [7], 'subbu': [8], 'usha ': [1], 'usha sri': [6], 'vanaja': [5], 'venkateswari': [2]}"
      ]
     },
     "execution_count": 50,
     "metadata": {},
     "output_type": "execute_result"
    }
   ],
   "source": [
    "df.groupby([\"NAME\"]).groups"
   ]
  },
  {
   "cell_type": "code",
   "execution_count": 51,
   "id": "8cb42811",
   "metadata": {},
   "outputs": [
    {
     "data": {
      "text/plain": [
       "{21: [2], 22: [1, 4, 7], 23: [0], 24: [5, 8, 9], 25: [3, 6]}"
      ]
     },
     "execution_count": 51,
     "metadata": {},
     "output_type": "execute_result"
    }
   ],
   "source": [
    "df.groupby([\"AGE\"]).groups"
   ]
  },
  {
   "cell_type": "code",
   "execution_count": null,
   "id": "eea38cfb",
   "metadata": {},
   "outputs": [],
   "source": []
  },
  {
   "cell_type": "code",
   "execution_count": null,
   "id": "70190ef7",
   "metadata": {},
   "outputs": [],
   "source": []
  },
  {
   "cell_type": "code",
   "execution_count": null,
   "id": "8e5f5b86",
   "metadata": {},
   "outputs": [],
   "source": []
  }
 ],
 "metadata": {
  "kernelspec": {
   "display_name": "Python 3 (ipykernel)",
   "language": "python",
   "name": "python3"
  },
  "language_info": {
   "codemirror_mode": {
    "name": "ipython",
    "version": 3
   },
   "file_extension": ".py",
   "mimetype": "text/x-python",
   "name": "python",
   "nbconvert_exporter": "python",
   "pygments_lexer": "ipython3",
   "version": "3.9.7"
  }
 },
 "nbformat": 4,
 "nbformat_minor": 5
}
