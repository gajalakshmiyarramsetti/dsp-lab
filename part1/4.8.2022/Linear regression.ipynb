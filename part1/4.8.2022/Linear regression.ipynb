{
 "cells": [
  {
   "cell_type": "code",
   "execution_count": 1,
   "id": "545f566c",
   "metadata": {},
   "outputs": [],
   "source": [
    "#packages and librays\n",
    "import pandas as pd\n",
    "import numpy as np\n",
    "from sklearn.linear_model import LinearRegression"
   ]
  },
  {
   "cell_type": "code",
   "execution_count": 2,
   "id": "55ed8fd7",
   "metadata": {},
   "outputs": [],
   "source": [
    "#taking data\n",
    "x=np.array([5,7,2,6,4]).reshape(-1,1)\n",
    "y=np.array([8,4,6,2,1])"
   ]
  },
  {
   "cell_type": "code",
   "execution_count": 3,
   "id": "52096a03",
   "metadata": {},
   "outputs": [],
   "source": [
    "#fitting model\n",
    "model=LinearRegression().fit(x,y)"
   ]
  },
  {
   "cell_type": "code",
   "execution_count": 4,
   "id": "82a9ea9e",
   "metadata": {},
   "outputs": [],
   "source": [
    "#predicting y values for given x values (b0+(b1*x))\n",
    "y_pre=model.predict(x)\n"
   ]
  },
  {
   "cell_type": "code",
   "execution_count": 5,
   "id": "66631b7a",
   "metadata": {},
   "outputs": [
    {
     "name": "stdout",
     "output_type": "stream",
     "text": [
      "predict score: 1.0\n",
      "Noraml score: 0.04746209624258402\n"
     ]
    }
   ],
   "source": [
    "print(\"predict score:\",model.score(x,y_pre))\n",
    "print(\"Noraml score:\",model.score(x,y))"
   ]
  },
  {
   "cell_type": "code",
   "execution_count": 6,
   "id": "a6cce948",
   "metadata": {},
   "outputs": [
    {
     "name": "stdout",
     "output_type": "stream",
     "text": [
      "[4.13513514 3.48648649 5.10810811 3.81081081 4.45945946]\n",
      "[8 4 6 2 1]\n"
     ]
    }
   ],
   "source": [
    "#differenece between y predict and given y\n",
    "print(y_pre)\n",
    "print(y)"
   ]
  },
  {
   "cell_type": "code",
   "execution_count": 7,
   "id": "8068a559",
   "metadata": {},
   "outputs": [
    {
     "name": "stdout",
     "output_type": "stream",
     "text": [
      "b0: 5.756756756756758\n",
      "b1: [-0.32432432]\n",
      "Rechecked Y predict values: [4.13513514 3.48648649 5.10810811 3.81081081 4.45945946]\n"
     ]
    }
   ],
   "source": [
    "#rechecking with formula (bo+(b1*x))\n",
    "print(\"b0:\",model.intercept_)\n",
    "print(\"b1:\",model.coef_)\n",
    "y_rc=model.intercept_+np.sum(model.coef_*x,axis=1)\n",
    "print(\"Rechecked Y predict values:\",y_rc)"
   ]
  },
  {
   "cell_type": "code",
   "execution_count": 9,
   "id": "94e475fb",
   "metadata": {},
   "outputs": [
    {
     "name": "stdout",
     "output_type": "stream",
     "text": [
      "[[11]\n",
      " [12]\n",
      " [13]\n",
      " [14]\n",
      " [15]]\n",
      "[2.18918919 1.86486486 1.54054054 1.21621622 0.89189189]\n"
     ]
    }
   ],
   "source": [
    "#predicting y values for given x_new values(b0+(b1*x))\n",
    "x_new=np.array([11,12,13,14,15]).reshape(-1,1)\n",
    "y_new=model.predict(x_new)\n",
    "print(x_new)\n",
    "print(y_new)"
   ]
  },
  {
   "cell_type": "code",
   "execution_count": 10,
   "id": "34122f4e",
   "metadata": {},
   "outputs": [
    {
     "name": "stdout",
     "output_type": "stream",
     "text": [
      "new predict score: 1.0\n"
     ]
    }
   ],
   "source": [
    "print(\"new predict score:\",model.score(x_new,y_new))"
   ]
  },
  {
   "cell_type": "code",
   "execution_count": null,
   "id": "cc2e497c",
   "metadata": {},
   "outputs": [],
   "source": []
  }
 ],
 "metadata": {
  "kernelspec": {
   "display_name": "Python 3 (ipykernel)",
   "language": "python",
   "name": "python3"
  },
  "language_info": {
   "codemirror_mode": {
    "name": "ipython",
    "version": 3
   },
   "file_extension": ".py",
   "mimetype": "text/x-python",
   "name": "python",
   "nbconvert_exporter": "python",
   "pygments_lexer": "ipython3",
   "version": "3.9.7"
  }
 },
 "nbformat": 4,
 "nbformat_minor": 5
}
